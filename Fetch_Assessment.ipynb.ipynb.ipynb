{
 "cells": [
  {
   "cell_type": "markdown",
   "id": "a11e6302-2016-492c-823a-01c42a897873",
   "metadata": {},
   "source": [
    "## 2024 - Fetch Analytics Engineer Assessment\n",
    "\n",
    "My goal is to analyze the supplied data (JSON file format) and consolidate, by performing normalization, into a coherent and manageable database schema. I will then generate a series of SQL queries for this new schema so as to answer the supplied business questions, perform EDA and summarize important findings in a message to the business stakeholder."
   ]
  },
  {
   "cell_type": "code",
   "execution_count": 1,
   "id": "b9cf724b-f120-4f2f-b26a-be0f02661c01",
   "metadata": {
    "execution": {
     "iopub.execute_input": "2024-03-10T17:32:57.602418Z",
     "iopub.status.busy": "2024-03-10T17:32:57.602011Z",
     "iopub.status.idle": "2024-03-10T17:33:07.034552Z",
     "shell.execute_reply": "2024-03-10T17:33:07.033800Z",
     "shell.execute_reply.started": "2024-03-10T17:32:57.602330Z"
    },
    "tags": []
   },
   "outputs": [],
   "source": [
    "#import relevant packages\n",
    "import pandas as pd\n",
    "import numpy as np\n",
    "import warnings\n",
    "warnings.filterwarnings('ignore')"
   ]
  },
  {
   "cell_type": "markdown",
   "id": "88dc2adb-8207-44b9-b9b3-24d482bdf4cb",
   "metadata": {},
   "source": [
    "### 1A) The Reciepts Data"
   ]
  },
  {
   "cell_type": "code",
   "execution_count": 2,
   "id": "7aacfef8-371e-4c4d-a6f4-b4f3ecc2c48b",
   "metadata": {
    "execution": {
     "iopub.execute_input": "2024-03-10T17:33:07.036481Z",
     "iopub.status.busy": "2024-03-10T17:33:07.036074Z",
     "iopub.status.idle": "2024-03-10T17:33:07.302637Z",
     "shell.execute_reply": "2024-03-10T17:33:07.301939Z",
     "shell.execute_reply.started": "2024-03-10T17:33:07.036456Z"
    },
    "tags": []
   },
   "outputs": [
    {
     "data": {
      "text/html": [
       "<div>\n",
       "<style scoped>\n",
       "    .dataframe tbody tr th:only-of-type {\n",
       "        vertical-align: middle;\n",
       "    }\n",
       "\n",
       "    .dataframe tbody tr th {\n",
       "        vertical-align: top;\n",
       "    }\n",
       "\n",
       "    .dataframe thead th {\n",
       "        text-align: right;\n",
       "    }\n",
       "</style>\n",
       "<table border=\"1\" class=\"dataframe\">\n",
       "  <thead>\n",
       "    <tr style=\"text-align: right;\">\n",
       "      <th></th>\n",
       "      <th>_id</th>\n",
       "      <th>bonusPointsEarned</th>\n",
       "      <th>bonusPointsEarnedReason</th>\n",
       "      <th>createDate</th>\n",
       "      <th>dateScanned</th>\n",
       "      <th>finishedDate</th>\n",
       "      <th>modifyDate</th>\n",
       "      <th>pointsAwardedDate</th>\n",
       "      <th>pointsEarned</th>\n",
       "      <th>purchaseDate</th>\n",
       "      <th>purchasedItemCount</th>\n",
       "      <th>rewardsReceiptItemList</th>\n",
       "      <th>rewardsReceiptStatus</th>\n",
       "      <th>totalSpent</th>\n",
       "      <th>userId</th>\n",
       "    </tr>\n",
       "  </thead>\n",
       "  <tbody>\n",
       "    <tr>\n",
       "      <th>0</th>\n",
       "      <td>{'$oid': '5ff1e1eb0a720f0523000575'}</td>\n",
       "      <td>500.0</td>\n",
       "      <td>Receipt number 2 completed, bonus point schedu...</td>\n",
       "      <td>{'$date': 1609687531000}</td>\n",
       "      <td>{'$date': 1609687531000}</td>\n",
       "      <td>{'$date': 1609687531000}</td>\n",
       "      <td>{'$date': 1609687536000}</td>\n",
       "      <td>{'$date': 1609687531000}</td>\n",
       "      <td>500.0</td>\n",
       "      <td>{'$date': 1609632000000}</td>\n",
       "      <td>5.0</td>\n",
       "      <td>[{'barcode': '4011', 'description': 'ITEM NOT ...</td>\n",
       "      <td>FINISHED</td>\n",
       "      <td>26.0</td>\n",
       "      <td>5ff1e1eacfcf6c399c274ae6</td>\n",
       "    </tr>\n",
       "    <tr>\n",
       "      <th>1</th>\n",
       "      <td>{'$oid': '5ff1e1bb0a720f052300056b'}</td>\n",
       "      <td>150.0</td>\n",
       "      <td>Receipt number 5 completed, bonus point schedu...</td>\n",
       "      <td>{'$date': 1609687483000}</td>\n",
       "      <td>{'$date': 1609687483000}</td>\n",
       "      <td>{'$date': 1609687483000}</td>\n",
       "      <td>{'$date': 1609687488000}</td>\n",
       "      <td>{'$date': 1609687483000}</td>\n",
       "      <td>150.0</td>\n",
       "      <td>{'$date': 1609601083000}</td>\n",
       "      <td>2.0</td>\n",
       "      <td>[{'barcode': '4011', 'description': 'ITEM NOT ...</td>\n",
       "      <td>FINISHED</td>\n",
       "      <td>11.0</td>\n",
       "      <td>5ff1e194b6a9d73a3a9f1052</td>\n",
       "    </tr>\n",
       "    <tr>\n",
       "      <th>2</th>\n",
       "      <td>{'$oid': '5ff1e1f10a720f052300057a'}</td>\n",
       "      <td>5.0</td>\n",
       "      <td>All-receipts receipt bonus</td>\n",
       "      <td>{'$date': 1609687537000}</td>\n",
       "      <td>{'$date': 1609687537000}</td>\n",
       "      <td>NaN</td>\n",
       "      <td>{'$date': 1609687542000}</td>\n",
       "      <td>NaN</td>\n",
       "      <td>5.0</td>\n",
       "      <td>{'$date': 1609632000000}</td>\n",
       "      <td>1.0</td>\n",
       "      <td>[{'needsFetchReview': False, 'partnerItemId': ...</td>\n",
       "      <td>REJECTED</td>\n",
       "      <td>10.0</td>\n",
       "      <td>5ff1e1f1cfcf6c399c274b0b</td>\n",
       "    </tr>\n",
       "    <tr>\n",
       "      <th>3</th>\n",
       "      <td>{'$oid': '5ff1e1ee0a7214ada100056f'}</td>\n",
       "      <td>5.0</td>\n",
       "      <td>All-receipts receipt bonus</td>\n",
       "      <td>{'$date': 1609687534000}</td>\n",
       "      <td>{'$date': 1609687534000}</td>\n",
       "      <td>{'$date': 1609687534000}</td>\n",
       "      <td>{'$date': 1609687539000}</td>\n",
       "      <td>{'$date': 1609687534000}</td>\n",
       "      <td>5.0</td>\n",
       "      <td>{'$date': 1609632000000}</td>\n",
       "      <td>4.0</td>\n",
       "      <td>[{'barcode': '4011', 'description': 'ITEM NOT ...</td>\n",
       "      <td>FINISHED</td>\n",
       "      <td>28.0</td>\n",
       "      <td>5ff1e1eacfcf6c399c274ae6</td>\n",
       "    </tr>\n",
       "    <tr>\n",
       "      <th>4</th>\n",
       "      <td>{'$oid': '5ff1e1d20a7214ada1000561'}</td>\n",
       "      <td>5.0</td>\n",
       "      <td>All-receipts receipt bonus</td>\n",
       "      <td>{'$date': 1609687506000}</td>\n",
       "      <td>{'$date': 1609687506000}</td>\n",
       "      <td>{'$date': 1609687511000}</td>\n",
       "      <td>{'$date': 1609687511000}</td>\n",
       "      <td>{'$date': 1609687506000}</td>\n",
       "      <td>5.0</td>\n",
       "      <td>{'$date': 1609601106000}</td>\n",
       "      <td>2.0</td>\n",
       "      <td>[{'barcode': '4011', 'description': 'ITEM NOT ...</td>\n",
       "      <td>FINISHED</td>\n",
       "      <td>1.0</td>\n",
       "      <td>5ff1e194b6a9d73a3a9f1052</td>\n",
       "    </tr>\n",
       "  </tbody>\n",
       "</table>\n",
       "</div>"
      ],
      "text/plain": [
       "                                    _id  bonusPointsEarned  \\\n",
       "0  {'$oid': '5ff1e1eb0a720f0523000575'}              500.0   \n",
       "1  {'$oid': '5ff1e1bb0a720f052300056b'}              150.0   \n",
       "2  {'$oid': '5ff1e1f10a720f052300057a'}                5.0   \n",
       "3  {'$oid': '5ff1e1ee0a7214ada100056f'}                5.0   \n",
       "4  {'$oid': '5ff1e1d20a7214ada1000561'}                5.0   \n",
       "\n",
       "                             bonusPointsEarnedReason  \\\n",
       "0  Receipt number 2 completed, bonus point schedu...   \n",
       "1  Receipt number 5 completed, bonus point schedu...   \n",
       "2                         All-receipts receipt bonus   \n",
       "3                         All-receipts receipt bonus   \n",
       "4                         All-receipts receipt bonus   \n",
       "\n",
       "                 createDate               dateScanned  \\\n",
       "0  {'$date': 1609687531000}  {'$date': 1609687531000}   \n",
       "1  {'$date': 1609687483000}  {'$date': 1609687483000}   \n",
       "2  {'$date': 1609687537000}  {'$date': 1609687537000}   \n",
       "3  {'$date': 1609687534000}  {'$date': 1609687534000}   \n",
       "4  {'$date': 1609687506000}  {'$date': 1609687506000}   \n",
       "\n",
       "               finishedDate                modifyDate  \\\n",
       "0  {'$date': 1609687531000}  {'$date': 1609687536000}   \n",
       "1  {'$date': 1609687483000}  {'$date': 1609687488000}   \n",
       "2                       NaN  {'$date': 1609687542000}   \n",
       "3  {'$date': 1609687534000}  {'$date': 1609687539000}   \n",
       "4  {'$date': 1609687511000}  {'$date': 1609687511000}   \n",
       "\n",
       "          pointsAwardedDate  pointsEarned              purchaseDate  \\\n",
       "0  {'$date': 1609687531000}         500.0  {'$date': 1609632000000}   \n",
       "1  {'$date': 1609687483000}         150.0  {'$date': 1609601083000}   \n",
       "2                       NaN           5.0  {'$date': 1609632000000}   \n",
       "3  {'$date': 1609687534000}           5.0  {'$date': 1609632000000}   \n",
       "4  {'$date': 1609687506000}           5.0  {'$date': 1609601106000}   \n",
       "\n",
       "   purchasedItemCount                             rewardsReceiptItemList  \\\n",
       "0                 5.0  [{'barcode': '4011', 'description': 'ITEM NOT ...   \n",
       "1                 2.0  [{'barcode': '4011', 'description': 'ITEM NOT ...   \n",
       "2                 1.0  [{'needsFetchReview': False, 'partnerItemId': ...   \n",
       "3                 4.0  [{'barcode': '4011', 'description': 'ITEM NOT ...   \n",
       "4                 2.0  [{'barcode': '4011', 'description': 'ITEM NOT ...   \n",
       "\n",
       "  rewardsReceiptStatus  totalSpent                    userId  \n",
       "0             FINISHED        26.0  5ff1e1eacfcf6c399c274ae6  \n",
       "1             FINISHED        11.0  5ff1e194b6a9d73a3a9f1052  \n",
       "2             REJECTED        10.0  5ff1e1f1cfcf6c399c274b0b  \n",
       "3             FINISHED        28.0  5ff1e1eacfcf6c399c274ae6  \n",
       "4             FINISHED         1.0  5ff1e194b6a9d73a3a9f1052  "
      ]
     },
     "execution_count": 2,
     "metadata": {},
     "output_type": "execute_result"
    }
   ],
   "source": [
    "#start by loading the data into pandas dataframe formats\n",
    "receipts = pd.read_json('receipts.json', lines = True)\n",
    "receipts.head()"
   ]
  },
  {
   "cell_type": "code",
   "execution_count": 3,
   "id": "dfa378c3-57d2-44f7-839a-4816d0ea8120",
   "metadata": {
    "execution": {
     "iopub.execute_input": "2024-03-10T17:33:07.303932Z",
     "iopub.status.busy": "2024-03-10T17:33:07.303663Z",
     "iopub.status.idle": "2024-03-10T17:33:07.345225Z",
     "shell.execute_reply": "2024-03-10T17:33:07.344534Z",
     "shell.execute_reply.started": "2024-03-10T17:33:07.303909Z"
    },
    "tags": []
   },
   "outputs": [
    {
     "data": {
      "text/html": [
       "<div>\n",
       "<style scoped>\n",
       "    .dataframe tbody tr th:only-of-type {\n",
       "        vertical-align: middle;\n",
       "    }\n",
       "\n",
       "    .dataframe tbody tr th {\n",
       "        vertical-align: top;\n",
       "    }\n",
       "\n",
       "    .dataframe thead th {\n",
       "        text-align: right;\n",
       "    }\n",
       "</style>\n",
       "<table border=\"1\" class=\"dataframe\">\n",
       "  <thead>\n",
       "    <tr style=\"text-align: right;\">\n",
       "      <th></th>\n",
       "      <th>_id</th>\n",
       "      <th>bonusPointsEarned</th>\n",
       "      <th>bonusPointsEarnedReason</th>\n",
       "      <th>createDate</th>\n",
       "      <th>dateScanned</th>\n",
       "      <th>finishedDate</th>\n",
       "      <th>modifyDate</th>\n",
       "      <th>pointsAwardedDate</th>\n",
       "      <th>pointsEarned</th>\n",
       "      <th>purchaseDate</th>\n",
       "      <th>purchasedItemCount</th>\n",
       "      <th>rewardsReceiptItemList</th>\n",
       "      <th>rewardsReceiptStatus</th>\n",
       "      <th>totalSpent</th>\n",
       "      <th>userId</th>\n",
       "    </tr>\n",
       "  </thead>\n",
       "  <tbody>\n",
       "    <tr>\n",
       "      <th>0</th>\n",
       "      <td>5ff1e1eb0a720f0523000575</td>\n",
       "      <td>500.0</td>\n",
       "      <td>Receipt number 2 completed, bonus point schedu...</td>\n",
       "      <td>2021-01-03 15:25:31</td>\n",
       "      <td>2021-01-03 15:25:31</td>\n",
       "      <td>2021-01-03 15:25:31</td>\n",
       "      <td>2021-01-03 15:25:36</td>\n",
       "      <td>2021-01-03 15:25:31</td>\n",
       "      <td>500.0</td>\n",
       "      <td>2021-01-03 00:00:00</td>\n",
       "      <td>5.0</td>\n",
       "      <td>[{'barcode': '4011', 'description': 'ITEM NOT ...</td>\n",
       "      <td>FINISHED</td>\n",
       "      <td>26.0</td>\n",
       "      <td>5ff1e1eacfcf6c399c274ae6</td>\n",
       "    </tr>\n",
       "    <tr>\n",
       "      <th>1</th>\n",
       "      <td>5ff1e1bb0a720f052300056b</td>\n",
       "      <td>150.0</td>\n",
       "      <td>Receipt number 5 completed, bonus point schedu...</td>\n",
       "      <td>2021-01-03 15:24:43</td>\n",
       "      <td>2021-01-03 15:24:43</td>\n",
       "      <td>2021-01-03 15:24:43</td>\n",
       "      <td>2021-01-03 15:24:48</td>\n",
       "      <td>2021-01-03 15:24:43</td>\n",
       "      <td>150.0</td>\n",
       "      <td>2021-01-02 15:24:43</td>\n",
       "      <td>2.0</td>\n",
       "      <td>[{'barcode': '4011', 'description': 'ITEM NOT ...</td>\n",
       "      <td>FINISHED</td>\n",
       "      <td>11.0</td>\n",
       "      <td>5ff1e194b6a9d73a3a9f1052</td>\n",
       "    </tr>\n",
       "    <tr>\n",
       "      <th>2</th>\n",
       "      <td>5ff1e1f10a720f052300057a</td>\n",
       "      <td>5.0</td>\n",
       "      <td>All-receipts receipt bonus</td>\n",
       "      <td>2021-01-03 15:25:37</td>\n",
       "      <td>2021-01-03 15:25:37</td>\n",
       "      <td>NaT</td>\n",
       "      <td>2021-01-03 15:25:42</td>\n",
       "      <td>NaT</td>\n",
       "      <td>5.0</td>\n",
       "      <td>2021-01-03 00:00:00</td>\n",
       "      <td>1.0</td>\n",
       "      <td>[{'needsFetchReview': False, 'partnerItemId': ...</td>\n",
       "      <td>REJECTED</td>\n",
       "      <td>10.0</td>\n",
       "      <td>5ff1e1f1cfcf6c399c274b0b</td>\n",
       "    </tr>\n",
       "    <tr>\n",
       "      <th>3</th>\n",
       "      <td>5ff1e1ee0a7214ada100056f</td>\n",
       "      <td>5.0</td>\n",
       "      <td>All-receipts receipt bonus</td>\n",
       "      <td>2021-01-03 15:25:34</td>\n",
       "      <td>2021-01-03 15:25:34</td>\n",
       "      <td>2021-01-03 15:25:34</td>\n",
       "      <td>2021-01-03 15:25:39</td>\n",
       "      <td>2021-01-03 15:25:34</td>\n",
       "      <td>5.0</td>\n",
       "      <td>2021-01-03 00:00:00</td>\n",
       "      <td>4.0</td>\n",
       "      <td>[{'barcode': '4011', 'description': 'ITEM NOT ...</td>\n",
       "      <td>FINISHED</td>\n",
       "      <td>28.0</td>\n",
       "      <td>5ff1e1eacfcf6c399c274ae6</td>\n",
       "    </tr>\n",
       "    <tr>\n",
       "      <th>4</th>\n",
       "      <td>5ff1e1d20a7214ada1000561</td>\n",
       "      <td>5.0</td>\n",
       "      <td>All-receipts receipt bonus</td>\n",
       "      <td>2021-01-03 15:25:06</td>\n",
       "      <td>2021-01-03 15:25:06</td>\n",
       "      <td>2021-01-03 15:25:11</td>\n",
       "      <td>2021-01-03 15:25:11</td>\n",
       "      <td>2021-01-03 15:25:06</td>\n",
       "      <td>5.0</td>\n",
       "      <td>2021-01-02 15:25:06</td>\n",
       "      <td>2.0</td>\n",
       "      <td>[{'barcode': '4011', 'description': 'ITEM NOT ...</td>\n",
       "      <td>FINISHED</td>\n",
       "      <td>1.0</td>\n",
       "      <td>5ff1e194b6a9d73a3a9f1052</td>\n",
       "    </tr>\n",
       "  </tbody>\n",
       "</table>\n",
       "</div>"
      ],
      "text/plain": [
       "                        _id  bonusPointsEarned  \\\n",
       "0  5ff1e1eb0a720f0523000575              500.0   \n",
       "1  5ff1e1bb0a720f052300056b              150.0   \n",
       "2  5ff1e1f10a720f052300057a                5.0   \n",
       "3  5ff1e1ee0a7214ada100056f                5.0   \n",
       "4  5ff1e1d20a7214ada1000561                5.0   \n",
       "\n",
       "                             bonusPointsEarnedReason          createDate  \\\n",
       "0  Receipt number 2 completed, bonus point schedu... 2021-01-03 15:25:31   \n",
       "1  Receipt number 5 completed, bonus point schedu... 2021-01-03 15:24:43   \n",
       "2                         All-receipts receipt bonus 2021-01-03 15:25:37   \n",
       "3                         All-receipts receipt bonus 2021-01-03 15:25:34   \n",
       "4                         All-receipts receipt bonus 2021-01-03 15:25:06   \n",
       "\n",
       "          dateScanned        finishedDate          modifyDate  \\\n",
       "0 2021-01-03 15:25:31 2021-01-03 15:25:31 2021-01-03 15:25:36   \n",
       "1 2021-01-03 15:24:43 2021-01-03 15:24:43 2021-01-03 15:24:48   \n",
       "2 2021-01-03 15:25:37                 NaT 2021-01-03 15:25:42   \n",
       "3 2021-01-03 15:25:34 2021-01-03 15:25:34 2021-01-03 15:25:39   \n",
       "4 2021-01-03 15:25:06 2021-01-03 15:25:11 2021-01-03 15:25:11   \n",
       "\n",
       "    pointsAwardedDate  pointsEarned        purchaseDate  purchasedItemCount  \\\n",
       "0 2021-01-03 15:25:31         500.0 2021-01-03 00:00:00                 5.0   \n",
       "1 2021-01-03 15:24:43         150.0 2021-01-02 15:24:43                 2.0   \n",
       "2                 NaT           5.0 2021-01-03 00:00:00                 1.0   \n",
       "3 2021-01-03 15:25:34           5.0 2021-01-03 00:00:00                 4.0   \n",
       "4 2021-01-03 15:25:06           5.0 2021-01-02 15:25:06                 2.0   \n",
       "\n",
       "                              rewardsReceiptItemList rewardsReceiptStatus  \\\n",
       "0  [{'barcode': '4011', 'description': 'ITEM NOT ...             FINISHED   \n",
       "1  [{'barcode': '4011', 'description': 'ITEM NOT ...             FINISHED   \n",
       "2  [{'needsFetchReview': False, 'partnerItemId': ...             REJECTED   \n",
       "3  [{'barcode': '4011', 'description': 'ITEM NOT ...             FINISHED   \n",
       "4  [{'barcode': '4011', 'description': 'ITEM NOT ...             FINISHED   \n",
       "\n",
       "   totalSpent                    userId  \n",
       "0        26.0  5ff1e1eacfcf6c399c274ae6  \n",
       "1        11.0  5ff1e194b6a9d73a3a9f1052  \n",
       "2        10.0  5ff1e1f1cfcf6c399c274b0b  \n",
       "3        28.0  5ff1e1eacfcf6c399c274ae6  \n",
       "4         1.0  5ff1e194b6a9d73a3a9f1052  "
      ]
     },
     "execution_count": 3,
     "metadata": {},
     "output_type": "execute_result"
    }
   ],
   "source": [
    "#it is apparent that some column values (such as _id and createDate, for example) require cleaning\n",
    "#extract the identifier from the dictionaries in each row\n",
    "receipts['_id'] = receipts['_id'].apply(lambda x: x['$oid'])\n",
    "#convert the datetime stamps from ms to a more readable format\n",
    "receipts['createDate'] = pd.to_datetime(receipts['createDate'].apply(lambda x: x['$date'] if isinstance (x, dict) else np.nan), \n",
    "                                        unit = 'ms')\n",
    "receipts['dateScanned'] = pd.to_datetime(receipts['dateScanned'].apply(lambda x: x['$date'] if isinstance (x, dict) else np.nan), \n",
    "                                        unit = 'ms')\n",
    "receipts['finishedDate'] = pd.to_datetime(receipts['finishedDate'].apply(lambda x: x['$date'] if isinstance (x, dict) else np.nan), \n",
    "                                        unit = 'ms')\n",
    "receipts['modifyDate'] = pd.to_datetime(receipts['modifyDate'].apply(lambda x: x['$date'] if isinstance (x, dict) else np.nan), \n",
    "                                        unit = 'ms')\n",
    "receipts['pointsAwardedDate'] = pd.to_datetime(receipts['pointsAwardedDate'].apply(lambda x: x['$date'] if isinstance (x, dict) else np.nan), \n",
    "                                        unit = 'ms')\n",
    "receipts['purchaseDate'] = pd.to_datetime(receipts['purchaseDate'].apply(lambda x: x['$date'] if isinstance (x, dict) else np.nan), \n",
    "                                        unit = 'ms')\n",
    "\n",
    "receipts.head()"
   ]
  },
  {
   "cell_type": "markdown",
   "id": "02fff89d-50e7-40f0-9911-e92882de0a1b",
   "metadata": {},
   "source": [
    "It seems as though the rewardsReceiptItemList contains a nested field. Let's take a look at some of the values in this column to address how to approach dealing with them."
   ]
  },
  {
   "cell_type": "code",
   "execution_count": 4,
   "id": "9d4120b5-92fb-4c49-be21-f35fb73a6df2",
   "metadata": {
    "execution": {
     "iopub.execute_input": "2024-03-10T17:33:07.347377Z",
     "iopub.status.busy": "2024-03-10T17:33:07.346910Z",
     "iopub.status.idle": "2024-03-10T17:33:07.445284Z",
     "shell.execute_reply": "2024-03-10T17:33:07.444533Z",
     "shell.execute_reply.started": "2024-03-10T17:33:07.347352Z"
    },
    "tags": []
   },
   "outputs": [
    {
     "data": {
      "text/plain": [
       "[{'barcode': '4011',\n",
       "  'description': 'ITEM NOT FOUND',\n",
       "  'finalPrice': '26.00',\n",
       "  'itemPrice': '26.00',\n",
       "  'needsFetchReview': False,\n",
       "  'partnerItemId': '1',\n",
       "  'preventTargetGapPoints': True,\n",
       "  'quantityPurchased': 5,\n",
       "  'userFlaggedBarcode': '4011',\n",
       "  'userFlaggedNewItem': True,\n",
       "  'userFlaggedPrice': '26.00',\n",
       "  'userFlaggedQuantity': 5}]"
      ]
     },
     "execution_count": 4,
     "metadata": {},
     "output_type": "execute_result"
    }
   ],
   "source": [
    "receipts['rewardsReceiptItemList'][0]"
   ]
  },
  {
   "cell_type": "code",
   "execution_count": 5,
   "id": "83a9e3c7-9567-46ec-81e0-7e382f011b5a",
   "metadata": {
    "execution": {
     "iopub.execute_input": "2024-03-10T17:33:07.446888Z",
     "iopub.status.busy": "2024-03-10T17:33:07.446456Z",
     "iopub.status.idle": "2024-03-10T17:33:07.897352Z",
     "shell.execute_reply": "2024-03-10T17:33:07.896412Z",
     "shell.execute_reply.started": "2024-03-10T17:33:07.446864Z"
    },
    "tags": []
   },
   "outputs": [
    {
     "data": {
      "text/plain": [
       "[{'barcode': '4011',\n",
       "  'description': 'ITEM NOT FOUND',\n",
       "  'finalPrice': '1',\n",
       "  'itemPrice': '1',\n",
       "  'partnerItemId': '1',\n",
       "  'quantityPurchased': 1},\n",
       " {'barcode': '1234',\n",
       "  'needsFetchReview': True,\n",
       "  'needsFetchReviewReason': 'USER_FLAGGED',\n",
       "  'partnerItemId': '2',\n",
       "  'preventTargetGapPoints': True,\n",
       "  'userFlaggedBarcode': '1234',\n",
       "  'userFlaggedDescription': '',\n",
       "  'userFlaggedNewItem': True}]"
      ]
     },
     "execution_count": 5,
     "metadata": {},
     "output_type": "execute_result"
    }
   ],
   "source": [
    "receipts['rewardsReceiptItemList'][24]"
   ]
  },
  {
   "cell_type": "code",
   "execution_count": 6,
   "id": "e3a3c052-3892-47a4-bc48-9028054db86e",
   "metadata": {
    "execution": {
     "iopub.execute_input": "2024-03-10T17:33:07.898875Z",
     "iopub.status.busy": "2024-03-10T17:33:07.898374Z",
     "iopub.status.idle": "2024-03-10T17:33:08.056566Z",
     "shell.execute_reply": "2024-03-10T17:33:08.055867Z",
     "shell.execute_reply.started": "2024-03-10T17:33:07.898852Z"
    },
    "tags": []
   },
   "outputs": [
    {
     "data": {
      "text/plain": [
       "[{'barcode': '021000051113',\n",
       "  'competitiveProduct': True,\n",
       "  'finalPrice': '4.55',\n",
       "  'itemPrice': '4.55',\n",
       "  'partnerItemId': '1',\n",
       "  'quantityPurchased': 1,\n",
       "  'rewardsGroup': 'SARGENTO GRATED PARMESAN CHEESE',\n",
       "  'rewardsProductPartnerId': '5e7cf838f221c312e698a628'},\n",
       " {'barcode': '021000051113',\n",
       "  'competitiveProduct': True,\n",
       "  'finalPrice': '4.55',\n",
       "  'itemPrice': '4.55',\n",
       "  'partnerItemId': '2',\n",
       "  'quantityPurchased': 1,\n",
       "  'rewardsGroup': 'SARGENTO GRATED PARMESAN CHEESE',\n",
       "  'rewardsProductPartnerId': '5e7cf838f221c312e698a628'},\n",
       " {'barcode': '021000051113',\n",
       "  'competitiveProduct': True,\n",
       "  'finalPrice': '4.55',\n",
       "  'itemPrice': '4.55',\n",
       "  'partnerItemId': '3',\n",
       "  'quantityPurchased': 1,\n",
       "  'rewardsGroup': 'SARGENTO GRATED PARMESAN CHEESE',\n",
       "  'rewardsProductPartnerId': '5e7cf838f221c312e698a628'},\n",
       " {'barcode': '021000051113',\n",
       "  'competitiveProduct': True,\n",
       "  'finalPrice': '4.55',\n",
       "  'itemPrice': '4.55',\n",
       "  'partnerItemId': '4',\n",
       "  'quantityPurchased': 1,\n",
       "  'rewardsGroup': 'SARGENTO GRATED PARMESAN CHEESE',\n",
       "  'rewardsProductPartnerId': '5e7cf838f221c312e698a628'}]"
      ]
     },
     "execution_count": 6,
     "metadata": {},
     "output_type": "execute_result"
    }
   ],
   "source": [
    "receipts['rewardsReceiptItemList'][99]"
   ]
  },
  {
   "cell_type": "markdown",
   "id": "8c7dbf24-5823-4e45-8e5a-0cc8fb95be20",
   "metadata": {},
   "source": [
    "It looks like there can be multiple items per a given receipt, which makes sense intuitively. Each of them have their own fields stored in this column, the fields themselves are not necessarily the same for each item. It would make sense to store the information in this column in it's own table - a table for information on Items only."
   ]
  },
  {
   "cell_type": "markdown",
   "id": "a4db1efd-3def-4485-bee7-19f4446e43c6",
   "metadata": {},
   "source": [
    "I have to parse the data in the rewardsReceiptItemList column to retrieve all unique fields and store their corresponding values as present on each unique receipt (this is determined by the unique identifier - receipt_id).\n"
   ]
  },
  {
   "cell_type": "code",
   "execution_count": 7,
   "id": "0d5dacae-ab5c-4edb-b283-c393878f054d",
   "metadata": {
    "execution": {
     "iopub.execute_input": "2024-03-10T17:33:08.058241Z",
     "iopub.status.busy": "2024-03-10T17:33:08.057545Z",
     "iopub.status.idle": "2024-03-10T17:33:08.155098Z",
     "shell.execute_reply": "2024-03-10T17:33:08.154353Z",
     "shell.execute_reply.started": "2024-03-10T17:33:08.058214Z"
    },
    "tags": []
   },
   "outputs": [
    {
     "name": "stdout",
     "output_type": "stream",
     "text": [
      "True\n",
      "0\n"
     ]
    }
   ],
   "source": [
    "#begin by validating that the _id field in the reciepts table is indeed a primary key\n",
    "#all entries must be unique\n",
    "print(len(receipts)==len(receipts._id.unique()))\n",
    "#and all entries must be non-null\n",
    "print(sum(receipts['_id'].isnull().astype('int')))"
   ]
  },
  {
   "cell_type": "markdown",
   "id": "36f95924-1b45-4145-8c27-a836f8a56bea",
   "metadata": {},
   "source": [
    "Since the receipt identifiers are indeed non-null and unique, we can go ahead and use them as a primary key for the recipts items table we will create. If we select to keep the receipts table as its own table in the final schema, then we could use it as a primary key for this table, too."
   ]
  },
  {
   "cell_type": "code",
   "execution_count": 8,
   "id": "9f26ace6-bf7c-4c30-9ae6-98f647b30867",
   "metadata": {
    "execution": {
     "iopub.execute_input": "2024-03-10T17:33:08.156433Z",
     "iopub.status.busy": "2024-03-10T17:33:08.156106Z",
     "iopub.status.idle": "2024-03-10T17:33:08.265378Z",
     "shell.execute_reply": "2024-03-10T17:33:08.264525Z",
     "shell.execute_reply.started": "2024-03-10T17:33:08.156410Z"
    },
    "tags": []
   },
   "outputs": [],
   "source": [
    "#now, let us begin extracting the fields from the rewardsReceiptItemList column\n",
    "#start by collecting each of the unique fields in the column entries - these (and the receipt _id) will be the columns in the new df\n",
    "cols = set()\n",
    "cols.add('receipt_id')# here, I am calling it 'receipt_id' although it is called '_id' in the original receipts df\n",
    "for row in range(receipts.shape[0]):\n",
    "    #check whether the entry in a row is iterable\n",
    "    try:\n",
    "        iter(receipts['rewardsReceiptItemList'][row])\n",
    "    except TypeError as te:\n",
    "        continue\n",
    "    for entry in receipts['rewardsReceiptItemList'][row]:\n",
    "        for item in entry:\n",
    "            cols.add(str(item))\n"
   ]
  },
  {
   "cell_type": "code",
   "execution_count": 9,
   "id": "e0292cec-01ba-441c-acde-07f52e97c538",
   "metadata": {
    "execution": {
     "iopub.execute_input": "2024-03-10T17:33:08.266966Z",
     "iopub.status.busy": "2024-03-10T17:33:08.266465Z",
     "iopub.status.idle": "2024-03-10T17:34:00.804778Z",
     "shell.execute_reply": "2024-03-10T17:34:00.804099Z",
     "shell.execute_reply.started": "2024-03-10T17:33:08.266939Z"
    },
    "tags": []
   },
   "outputs": [
    {
     "data": {
      "text/html": [
       "<div>\n",
       "<style scoped>\n",
       "    .dataframe tbody tr th:only-of-type {\n",
       "        vertical-align: middle;\n",
       "    }\n",
       "\n",
       "    .dataframe tbody tr th {\n",
       "        vertical-align: top;\n",
       "    }\n",
       "\n",
       "    .dataframe thead th {\n",
       "        text-align: right;\n",
       "    }\n",
       "</style>\n",
       "<table border=\"1\" class=\"dataframe\">\n",
       "  <thead>\n",
       "    <tr style=\"text-align: right;\">\n",
       "      <th></th>\n",
       "      <th>description</th>\n",
       "      <th>rewardsGroup</th>\n",
       "      <th>userFlaggedQuantity</th>\n",
       "      <th>quantityPurchased</th>\n",
       "      <th>originalReceiptItemText</th>\n",
       "      <th>receipt_id</th>\n",
       "      <th>partnerItemId</th>\n",
       "      <th>pointsEarned</th>\n",
       "      <th>metabriteCampaignId</th>\n",
       "      <th>originalMetaBriteBarcode</th>\n",
       "      <th>...</th>\n",
       "      <th>finalPrice</th>\n",
       "      <th>barcode</th>\n",
       "      <th>userFlaggedNewItem</th>\n",
       "      <th>competitorRewardsGroup</th>\n",
       "      <th>userFlaggedBarcode</th>\n",
       "      <th>needsFetchReviewReason</th>\n",
       "      <th>originalMetaBriteQuantityPurchased</th>\n",
       "      <th>originalMetaBriteItemPrice</th>\n",
       "      <th>userFlaggedDescription</th>\n",
       "      <th>itemPrice</th>\n",
       "    </tr>\n",
       "  </thead>\n",
       "  <tbody>\n",
       "    <tr>\n",
       "      <th>0</th>\n",
       "      <td>ITEM NOT FOUND</td>\n",
       "      <td>NaN</td>\n",
       "      <td>5</td>\n",
       "      <td>5</td>\n",
       "      <td>NaN</td>\n",
       "      <td>5ff1e1eb0a720f0523000575</td>\n",
       "      <td>1</td>\n",
       "      <td>NaN</td>\n",
       "      <td>NaN</td>\n",
       "      <td>NaN</td>\n",
       "      <td>...</td>\n",
       "      <td>26.00</td>\n",
       "      <td>4011</td>\n",
       "      <td>True</td>\n",
       "      <td>NaN</td>\n",
       "      <td>4011</td>\n",
       "      <td>NaN</td>\n",
       "      <td>NaN</td>\n",
       "      <td>NaN</td>\n",
       "      <td>NaN</td>\n",
       "      <td>26.00</td>\n",
       "    </tr>\n",
       "    <tr>\n",
       "      <th>1</th>\n",
       "      <td>ITEM NOT FOUND</td>\n",
       "      <td>NaN</td>\n",
       "      <td>NaN</td>\n",
       "      <td>1</td>\n",
       "      <td>NaN</td>\n",
       "      <td>5ff1e1bb0a720f052300056b</td>\n",
       "      <td>1</td>\n",
       "      <td>NaN</td>\n",
       "      <td>NaN</td>\n",
       "      <td>NaN</td>\n",
       "      <td>...</td>\n",
       "      <td>1</td>\n",
       "      <td>4011</td>\n",
       "      <td>NaN</td>\n",
       "      <td>NaN</td>\n",
       "      <td>NaN</td>\n",
       "      <td>NaN</td>\n",
       "      <td>NaN</td>\n",
       "      <td>NaN</td>\n",
       "      <td>NaN</td>\n",
       "      <td>1</td>\n",
       "    </tr>\n",
       "    <tr>\n",
       "      <th>2</th>\n",
       "      <td>DORITOS TORTILLA CHIP SPICY SWEET CHILI REDUCE...</td>\n",
       "      <td>DORITOS SPICY SWEET CHILI SINGLE SERVE</td>\n",
       "      <td>1</td>\n",
       "      <td>1</td>\n",
       "      <td>NaN</td>\n",
       "      <td>5ff1e1bb0a720f052300056b</td>\n",
       "      <td>2</td>\n",
       "      <td>NaN</td>\n",
       "      <td>NaN</td>\n",
       "      <td>NaN</td>\n",
       "      <td>...</td>\n",
       "      <td>10.00</td>\n",
       "      <td>028400642255</td>\n",
       "      <td>True</td>\n",
       "      <td>NaN</td>\n",
       "      <td>028400642255</td>\n",
       "      <td>USER_FLAGGED</td>\n",
       "      <td>NaN</td>\n",
       "      <td>NaN</td>\n",
       "      <td>DORITOS TORTILLA CHIP SPICY SWEET CHILI REDUCE...</td>\n",
       "      <td>10.00</td>\n",
       "    </tr>\n",
       "    <tr>\n",
       "      <th>3</th>\n",
       "      <td>NaN</td>\n",
       "      <td>NaN</td>\n",
       "      <td>3</td>\n",
       "      <td>NaN</td>\n",
       "      <td>NaN</td>\n",
       "      <td>5ff1e1f10a720f052300057a</td>\n",
       "      <td>1</td>\n",
       "      <td>NaN</td>\n",
       "      <td>NaN</td>\n",
       "      <td>NaN</td>\n",
       "      <td>...</td>\n",
       "      <td>NaN</td>\n",
       "      <td>NaN</td>\n",
       "      <td>True</td>\n",
       "      <td>NaN</td>\n",
       "      <td>4011</td>\n",
       "      <td>NaN</td>\n",
       "      <td>NaN</td>\n",
       "      <td>NaN</td>\n",
       "      <td>NaN</td>\n",
       "      <td>NaN</td>\n",
       "    </tr>\n",
       "    <tr>\n",
       "      <th>4</th>\n",
       "      <td>ITEM NOT FOUND</td>\n",
       "      <td>NaN</td>\n",
       "      <td>4</td>\n",
       "      <td>4</td>\n",
       "      <td>NaN</td>\n",
       "      <td>5ff1e1ee0a7214ada100056f</td>\n",
       "      <td>1</td>\n",
       "      <td>NaN</td>\n",
       "      <td>NaN</td>\n",
       "      <td>NaN</td>\n",
       "      <td>...</td>\n",
       "      <td>28.00</td>\n",
       "      <td>4011</td>\n",
       "      <td>True</td>\n",
       "      <td>NaN</td>\n",
       "      <td>4011</td>\n",
       "      <td>NaN</td>\n",
       "      <td>NaN</td>\n",
       "      <td>NaN</td>\n",
       "      <td>NaN</td>\n",
       "      <td>28.00</td>\n",
       "    </tr>\n",
       "  </tbody>\n",
       "</table>\n",
       "<p>5 rows × 35 columns</p>\n",
       "</div>"
      ],
      "text/plain": [
       "                                         description  \\\n",
       "0                                     ITEM NOT FOUND   \n",
       "1                                     ITEM NOT FOUND   \n",
       "2  DORITOS TORTILLA CHIP SPICY SWEET CHILI REDUCE...   \n",
       "3                                                NaN   \n",
       "4                                     ITEM NOT FOUND   \n",
       "\n",
       "                             rewardsGroup userFlaggedQuantity  \\\n",
       "0                                     NaN                   5   \n",
       "1                                     NaN                 NaN   \n",
       "2  DORITOS SPICY SWEET CHILI SINGLE SERVE                   1   \n",
       "3                                     NaN                   3   \n",
       "4                                     NaN                   4   \n",
       "\n",
       "  quantityPurchased originalReceiptItemText                receipt_id  \\\n",
       "0                 5                     NaN  5ff1e1eb0a720f0523000575   \n",
       "1                 1                     NaN  5ff1e1bb0a720f052300056b   \n",
       "2                 1                     NaN  5ff1e1bb0a720f052300056b   \n",
       "3               NaN                     NaN  5ff1e1f10a720f052300057a   \n",
       "4                 4                     NaN  5ff1e1ee0a7214ada100056f   \n",
       "\n",
       "  partnerItemId pointsEarned metabriteCampaignId originalMetaBriteBarcode  \\\n",
       "0             1          NaN                 NaN                      NaN   \n",
       "1             1          NaN                 NaN                      NaN   \n",
       "2             2          NaN                 NaN                      NaN   \n",
       "3             1          NaN                 NaN                      NaN   \n",
       "4             1          NaN                 NaN                      NaN   \n",
       "\n",
       "   ... finalPrice       barcode userFlaggedNewItem competitorRewardsGroup  \\\n",
       "0  ...      26.00          4011               True                    NaN   \n",
       "1  ...          1          4011                NaN                    NaN   \n",
       "2  ...      10.00  028400642255               True                    NaN   \n",
       "3  ...        NaN           NaN               True                    NaN   \n",
       "4  ...      28.00          4011               True                    NaN   \n",
       "\n",
       "  userFlaggedBarcode needsFetchReviewReason  \\\n",
       "0               4011                    NaN   \n",
       "1                NaN                    NaN   \n",
       "2       028400642255           USER_FLAGGED   \n",
       "3               4011                    NaN   \n",
       "4               4011                    NaN   \n",
       "\n",
       "  originalMetaBriteQuantityPurchased originalMetaBriteItemPrice  \\\n",
       "0                                NaN                        NaN   \n",
       "1                                NaN                        NaN   \n",
       "2                                NaN                        NaN   \n",
       "3                                NaN                        NaN   \n",
       "4                                NaN                        NaN   \n",
       "\n",
       "                              userFlaggedDescription itemPrice  \n",
       "0                                                NaN     26.00  \n",
       "1                                                NaN         1  \n",
       "2  DORITOS TORTILLA CHIP SPICY SWEET CHILI REDUCE...     10.00  \n",
       "3                                                NaN       NaN  \n",
       "4                                                NaN     28.00  \n",
       "\n",
       "[5 rows x 35 columns]"
      ]
     },
     "execution_count": 9,
     "metadata": {},
     "output_type": "execute_result"
    }
   ],
   "source": [
    "#now we can create a separate dataframe to represent this new table and begin populating it\n",
    "receipts_items = pd.DataFrame(columns = list(cols))\n",
    "# step through the rows once again and each entry is like a mapping of the columns to data pairs in a df\n",
    "for row in range(receipts.shape[0]):\n",
    "    try:\n",
    "        iter(receipts['rewardsReceiptItemList'][row])\n",
    "    except TypeError as te:\n",
    "        continue\n",
    "    for entry in receipts['rewardsReceiptItemList'][row]:\n",
    "        #add the corresponding receipt id to the entry\n",
    "        entry['receipt_id'] = receipts['_id'][row]\n",
    "        #populate the corresponding row in the new data frame with this information\n",
    "        receipts_items = receipts_items.append(entry, ignore_index = True)\n",
    "receipts_items.head()"
   ]
  },
  {
   "cell_type": "code",
   "execution_count": 10,
   "id": "f0fd2030-0fe7-412d-bbc0-f46e54b93d5a",
   "metadata": {
    "execution": {
     "iopub.execute_input": "2024-03-10T17:34:00.807521Z",
     "iopub.status.busy": "2024-03-10T17:34:00.807263Z",
     "iopub.status.idle": "2024-03-10T17:34:00.862817Z",
     "shell.execute_reply": "2024-03-10T17:34:00.862115Z",
     "shell.execute_reply.started": "2024-03-10T17:34:00.807500Z"
    },
    "tags": []
   },
   "outputs": [
    {
     "name": "stdout",
     "output_type": "stream",
     "text": [
      "<class 'pandas.core.frame.DataFrame'>\n",
      "RangeIndex: 6941 entries, 0 to 6940\n",
      "Data columns (total 35 columns):\n",
      " #   Column                              Non-Null Count  Dtype \n",
      "---  ------                              --------------  ----- \n",
      " 0   description                         6560 non-null   object\n",
      " 1   rewardsGroup                        1731 non-null   object\n",
      " 2   userFlaggedQuantity                 299 non-null    object\n",
      " 3   quantityPurchased                   6767 non-null   object\n",
      " 4   originalReceiptItemText             5760 non-null   object\n",
      " 5   receipt_id                          6941 non-null   object\n",
      " 6   partnerItemId                       6941 non-null   object\n",
      " 7   pointsEarned                        927 non-null    object\n",
      " 8   metabriteCampaignId                 863 non-null    object\n",
      " 9   originalMetaBriteBarcode            71 non-null     object\n",
      " 10  originalMetaBriteDescription        10 non-null     object\n",
      " 11  needsFetchReview                    813 non-null    object\n",
      " 12  deleted                             9 non-null      object\n",
      " 13  userFlaggedPrice                    299 non-null    object\n",
      " 14  pointsPayerId                       1267 non-null   object\n",
      " 15  preventTargetGapPoints              358 non-null    object\n",
      " 16  rewardsProductPartnerId             2269 non-null   object\n",
      " 17  priceAfterCoupon                    956 non-null    object\n",
      " 18  discountedItemPrice                 5769 non-null   object\n",
      " 19  brandCode                           2600 non-null   object\n",
      " 20  targetPrice                         378 non-null    object\n",
      " 21  originalFinalPrice                  9 non-null      object\n",
      " 22  itemNumber                          153 non-null    object\n",
      " 23  competitiveProduct                  645 non-null    object\n",
      " 24  pointsNotAwardedReason              340 non-null    object\n",
      " 25  finalPrice                          6767 non-null   object\n",
      " 26  barcode                             3090 non-null   object\n",
      " 27  userFlaggedNewItem                  323 non-null    object\n",
      " 28  competitorRewardsGroup              275 non-null    object\n",
      " 29  userFlaggedBarcode                  337 non-null    object\n",
      " 30  needsFetchReviewReason              219 non-null    object\n",
      " 31  originalMetaBriteQuantityPurchased  15 non-null     object\n",
      " 32  originalMetaBriteItemPrice          9 non-null      object\n",
      " 33  userFlaggedDescription              205 non-null    object\n",
      " 34  itemPrice                           6767 non-null   object\n",
      "dtypes: object(35)\n",
      "memory usage: 1.9+ MB\n"
     ]
    }
   ],
   "source": [
    "#okay, now that all the receipt items are consolidated in the same table, lets take a look at the data types and entries\n",
    "receipts_items.info()"
   ]
  },
  {
   "cell_type": "code",
   "execution_count": 11,
   "id": "b8bb83f9-54a3-4c24-973d-3ffc0d322b19",
   "metadata": {
    "execution": {
     "iopub.execute_input": "2024-03-10T17:34:00.864045Z",
     "iopub.status.busy": "2024-03-10T17:34:00.863773Z",
     "iopub.status.idle": "2024-03-10T17:34:00.970081Z",
     "shell.execute_reply": "2024-03-10T17:34:00.969314Z",
     "shell.execute_reply.started": "2024-03-10T17:34:00.864023Z"
    },
    "tags": []
   },
   "outputs": [],
   "source": [
    "# since we created a table out of the rewardsReceiptItemList field, we can remove this column from the recipts df\n",
    "receipts = receipts.drop('rewardsReceiptItemList', axis = 1)"
   ]
  },
  {
   "cell_type": "code",
   "execution_count": 12,
   "id": "f62b3ba0-1336-4d1b-b0af-f4765aa6b69b",
   "metadata": {
    "execution": {
     "iopub.execute_input": "2024-03-10T17:34:00.971455Z",
     "iopub.status.busy": "2024-03-10T17:34:00.971182Z",
     "iopub.status.idle": "2024-03-10T17:34:00.985047Z",
     "shell.execute_reply": "2024-03-10T17:34:00.984320Z",
     "shell.execute_reply.started": "2024-03-10T17:34:00.971434Z"
    },
    "tags": []
   },
   "outputs": [
    {
     "name": "stdout",
     "output_type": "stream",
     "text": [
      "False\n"
     ]
    }
   ],
   "source": [
    "# let's now check for a primary key in the receipts items table - could it be receipt_id?\n",
    "print(len(receipts_items['receipt_id'])==len(receipts_items['receipt_id'].unique())) # is it unique?"
   ]
  },
  {
   "cell_type": "code",
   "execution_count": 13,
   "id": "9f63458c-e744-4808-94dc-09942ad80fd2",
   "metadata": {
    "execution": {
     "iopub.execute_input": "2024-03-10T17:34:00.986246Z",
     "iopub.status.busy": "2024-03-10T17:34:00.985991Z",
     "iopub.status.idle": "2024-03-10T17:34:01.000036Z",
     "shell.execute_reply": "2024-03-10T17:34:00.999236Z",
     "shell.execute_reply.started": "2024-03-10T17:34:00.986225Z"
    },
    "tags": []
   },
   "outputs": [
    {
     "name": "stdout",
     "output_type": "stream",
     "text": [
      "False\n"
     ]
    }
   ],
   "source": [
    "print(len(receipts_items['partnerItemId'])==len(receipts_items['partnerItemId'].unique())) # is it unique?"
   ]
  },
  {
   "cell_type": "markdown",
   "id": "c9107e7b-0aaa-4394-9fe1-0e840a8370fb",
   "metadata": {},
   "source": [
    "It does not look as though the receipts_items table will have a primary key, just a foreign key, receipt_id, that references the _id column (the primary key) of the receipts table."
   ]
  },
  {
   "cell_type": "code",
   "execution_count": 14,
   "id": "286f2b17-03c3-4613-96bd-59f04dbf3058",
   "metadata": {
    "execution": {
     "iopub.execute_input": "2024-03-10T17:34:01.001277Z",
     "iopub.status.busy": "2024-03-10T17:34:01.001003Z",
     "iopub.status.idle": "2024-03-10T17:34:01.021139Z",
     "shell.execute_reply": "2024-03-10T17:34:01.020445Z",
     "shell.execute_reply.started": "2024-03-10T17:34:01.001256Z"
    },
    "tags": []
   },
   "outputs": [
    {
     "name": "stdout",
     "output_type": "stream",
     "text": [
      "<class 'pandas.core.frame.DataFrame'>\n",
      "RangeIndex: 1119 entries, 0 to 1118\n",
      "Data columns (total 14 columns):\n",
      " #   Column                   Non-Null Count  Dtype         \n",
      "---  ------                   --------------  -----         \n",
      " 0   receipt_id               1119 non-null   object        \n",
      " 1   bonusPointsEarned        544 non-null    float64       \n",
      " 2   bonusPointsEarnedReason  544 non-null    object        \n",
      " 3   createDate               1119 non-null   datetime64[ns]\n",
      " 4   dateScanned              1119 non-null   datetime64[ns]\n",
      " 5   finishedDate             568 non-null    datetime64[ns]\n",
      " 6   modifyDate               1119 non-null   datetime64[ns]\n",
      " 7   pointsAwardedDate        537 non-null    datetime64[ns]\n",
      " 8   pointsEarned             609 non-null    float64       \n",
      " 9   purchaseDate             671 non-null    datetime64[ns]\n",
      " 10  purchasedItemCount       635 non-null    float64       \n",
      " 11  rewardsReceiptStatus     1119 non-null   object        \n",
      " 12  totalSpent               684 non-null    float64       \n",
      " 13  userId                   1119 non-null   object        \n",
      "dtypes: datetime64[ns](6), float64(4), object(4)\n",
      "memory usage: 122.5+ KB\n"
     ]
    }
   ],
   "source": [
    "#for improved readability, I will rename the _id column in the receipts table to match receipt_id in the receipt_items table\n",
    "receipts.rename(columns = {'_id':'receipt_id'}, inplace = True)\n",
    "receipts.info()"
   ]
  },
  {
   "cell_type": "markdown",
   "id": "907911ee-4bce-4782-933f-49f228ef62c6",
   "metadata": {},
   "source": [
    "I will now make sure to update all the data types in the receipts_items table. Specifically, I will change any fields that are clearly numeric (the price fields, for example) to float64 types. Since there are no date-like fields, there is no need to convert any to a datetime type."
   ]
  },
  {
   "cell_type": "code",
   "execution_count": 15,
   "id": "aa55b850-b2de-45d2-a443-bc5ac536e53c",
   "metadata": {
    "execution": {
     "iopub.execute_input": "2024-03-10T17:34:01.022663Z",
     "iopub.status.busy": "2024-03-10T17:34:01.022085Z",
     "iopub.status.idle": "2024-03-10T17:34:01.317085Z",
     "shell.execute_reply": "2024-03-10T17:34:01.316256Z",
     "shell.execute_reply.started": "2024-03-10T17:34:01.022638Z"
    },
    "tags": []
   },
   "outputs": [
    {
     "name": "stdout",
     "output_type": "stream",
     "text": [
      "<class 'pandas.core.frame.DataFrame'>\n",
      "RangeIndex: 6941 entries, 0 to 6940\n",
      "Data columns (total 35 columns):\n",
      " #   Column                              Non-Null Count  Dtype  \n",
      "---  ------                              --------------  -----  \n",
      " 0   description                         6560 non-null   object \n",
      " 1   rewardsGroup                        1731 non-null   object \n",
      " 2   userFlaggedQuantity                 299 non-null    float64\n",
      " 3   quantityPurchased                   6767 non-null   float64\n",
      " 4   originalReceiptItemText             5760 non-null   object \n",
      " 5   receipt_id                          6941 non-null   object \n",
      " 6   partnerItemId                       6941 non-null   object \n",
      " 7   pointsEarned                        927 non-null    float64\n",
      " 8   metabriteCampaignId                 863 non-null    object \n",
      " 9   originalMetaBriteBarcode            71 non-null     object \n",
      " 10  originalMetaBriteDescription        10 non-null     object \n",
      " 11  needsFetchReview                    813 non-null    object \n",
      " 12  deleted                             9 non-null      object \n",
      " 13  userFlaggedPrice                    299 non-null    float64\n",
      " 14  pointsPayerId                       1267 non-null   object \n",
      " 15  preventTargetGapPoints              358 non-null    object \n",
      " 16  rewardsProductPartnerId             2269 non-null   object \n",
      " 17  priceAfterCoupon                    956 non-null    float64\n",
      " 18  discountedItemPrice                 5769 non-null   float64\n",
      " 19  brandCode                           2600 non-null   object \n",
      " 20  targetPrice                         378 non-null    float64\n",
      " 21  originalFinalPrice                  9 non-null      float64\n",
      " 22  itemNumber                          153 non-null    object \n",
      " 23  competitiveProduct                  645 non-null    object \n",
      " 24  pointsNotAwardedReason              340 non-null    object \n",
      " 25  finalPrice                          6767 non-null   float64\n",
      " 26  barcode                             3090 non-null   object \n",
      " 27  userFlaggedNewItem                  323 non-null    object \n",
      " 28  competitorRewardsGroup              275 non-null    object \n",
      " 29  userFlaggedBarcode                  337 non-null    object \n",
      " 30  needsFetchReviewReason              219 non-null    object \n",
      " 31  originalMetaBriteQuantityPurchased  15 non-null     float64\n",
      " 32  originalMetaBriteItemPrice          9 non-null      float64\n",
      " 33  userFlaggedDescription              205 non-null    object \n",
      " 34  itemPrice                           6767 non-null   float64\n",
      "dtypes: float64(12), object(23)\n",
      "memory usage: 1.9+ MB\n"
     ]
    }
   ],
   "source": [
    "numeric_fields = ['priceAfterCoupon',\n",
    "                'userFlaggedQuantity',\n",
    "                'finalPrice',\n",
    "                'itemPrice',\n",
    "                'originalFinalPrice',\n",
    "                'quantityPurchased',\n",
    "                'pointsEarned',\n",
    "                'targetPrice',\n",
    "                'discountedItemPrice',\n",
    "                'originalMetaBriteItemPrice',\n",
    "                'originalMetaBriteQuantityPurchased',\n",
    "                'userFlaggedPrice']\n",
    "\n",
    "receipts_items[numeric_fields] = receipts_items[numeric_fields].apply(pd.to_numeric)\n",
    "receipts_items.info()"
   ]
  },
  {
   "cell_type": "markdown",
   "id": "c5189715-e5c1-48df-af55-ae24596a60fb",
   "metadata": {},
   "source": [
    "### 1B) The Users Data"
   ]
  },
  {
   "cell_type": "code",
   "execution_count": 16,
   "id": "7158650e-0843-4eab-a188-6b9f1f607a7a",
   "metadata": {
    "execution": {
     "iopub.execute_input": "2024-03-10T17:34:01.318262Z",
     "iopub.status.busy": "2024-03-10T17:34:01.318012Z",
     "iopub.status.idle": "2024-03-10T17:34:01.365637Z",
     "shell.execute_reply": "2024-03-10T17:34:01.364976Z",
     "shell.execute_reply.started": "2024-03-10T17:34:01.318242Z"
    }
   },
   "outputs": [
    {
     "data": {
      "text/html": [
       "<div>\n",
       "<style scoped>\n",
       "    .dataframe tbody tr th:only-of-type {\n",
       "        vertical-align: middle;\n",
       "    }\n",
       "\n",
       "    .dataframe tbody tr th {\n",
       "        vertical-align: top;\n",
       "    }\n",
       "\n",
       "    .dataframe thead th {\n",
       "        text-align: right;\n",
       "    }\n",
       "</style>\n",
       "<table border=\"1\" class=\"dataframe\">\n",
       "  <thead>\n",
       "    <tr style=\"text-align: right;\">\n",
       "      <th></th>\n",
       "      <th>_id</th>\n",
       "      <th>active</th>\n",
       "      <th>createdDate</th>\n",
       "      <th>lastLogin</th>\n",
       "      <th>role</th>\n",
       "      <th>signUpSource</th>\n",
       "      <th>state</th>\n",
       "    </tr>\n",
       "  </thead>\n",
       "  <tbody>\n",
       "    <tr>\n",
       "      <th>0</th>\n",
       "      <td>{'$oid': '5ff1e194b6a9d73a3a9f1052'}</td>\n",
       "      <td>True</td>\n",
       "      <td>{'$date': 1609687444800}</td>\n",
       "      <td>{'$date': 1609687537858}</td>\n",
       "      <td>consumer</td>\n",
       "      <td>Email</td>\n",
       "      <td>WI</td>\n",
       "    </tr>\n",
       "    <tr>\n",
       "      <th>1</th>\n",
       "      <td>{'$oid': '5ff1e194b6a9d73a3a9f1052'}</td>\n",
       "      <td>True</td>\n",
       "      <td>{'$date': 1609687444800}</td>\n",
       "      <td>{'$date': 1609687537858}</td>\n",
       "      <td>consumer</td>\n",
       "      <td>Email</td>\n",
       "      <td>WI</td>\n",
       "    </tr>\n",
       "    <tr>\n",
       "      <th>2</th>\n",
       "      <td>{'$oid': '5ff1e194b6a9d73a3a9f1052'}</td>\n",
       "      <td>True</td>\n",
       "      <td>{'$date': 1609687444800}</td>\n",
       "      <td>{'$date': 1609687537858}</td>\n",
       "      <td>consumer</td>\n",
       "      <td>Email</td>\n",
       "      <td>WI</td>\n",
       "    </tr>\n",
       "    <tr>\n",
       "      <th>3</th>\n",
       "      <td>{'$oid': '5ff1e1eacfcf6c399c274ae6'}</td>\n",
       "      <td>True</td>\n",
       "      <td>{'$date': 1609687530554}</td>\n",
       "      <td>{'$date': 1609687530597}</td>\n",
       "      <td>consumer</td>\n",
       "      <td>Email</td>\n",
       "      <td>WI</td>\n",
       "    </tr>\n",
       "    <tr>\n",
       "      <th>4</th>\n",
       "      <td>{'$oid': '5ff1e194b6a9d73a3a9f1052'}</td>\n",
       "      <td>True</td>\n",
       "      <td>{'$date': 1609687444800}</td>\n",
       "      <td>{'$date': 1609687537858}</td>\n",
       "      <td>consumer</td>\n",
       "      <td>Email</td>\n",
       "      <td>WI</td>\n",
       "    </tr>\n",
       "  </tbody>\n",
       "</table>\n",
       "</div>"
      ],
      "text/plain": [
       "                                    _id  active               createdDate  \\\n",
       "0  {'$oid': '5ff1e194b6a9d73a3a9f1052'}    True  {'$date': 1609687444800}   \n",
       "1  {'$oid': '5ff1e194b6a9d73a3a9f1052'}    True  {'$date': 1609687444800}   \n",
       "2  {'$oid': '5ff1e194b6a9d73a3a9f1052'}    True  {'$date': 1609687444800}   \n",
       "3  {'$oid': '5ff1e1eacfcf6c399c274ae6'}    True  {'$date': 1609687530554}   \n",
       "4  {'$oid': '5ff1e194b6a9d73a3a9f1052'}    True  {'$date': 1609687444800}   \n",
       "\n",
       "                  lastLogin      role signUpSource state  \n",
       "0  {'$date': 1609687537858}  consumer        Email    WI  \n",
       "1  {'$date': 1609687537858}  consumer        Email    WI  \n",
       "2  {'$date': 1609687537858}  consumer        Email    WI  \n",
       "3  {'$date': 1609687530597}  consumer        Email    WI  \n",
       "4  {'$date': 1609687537858}  consumer        Email    WI  "
      ]
     },
     "execution_count": 16,
     "metadata": {},
     "output_type": "execute_result"
    }
   ],
   "source": [
    "#now let us load in and examine the users data\n",
    "users = pd.read_json('users.json', lines = True)\n",
    "users.head()"
   ]
  },
  {
   "cell_type": "code",
   "execution_count": 17,
   "id": "556fd9dd-496a-4ac1-9ca3-e46c6e5186b2",
   "metadata": {
    "execution": {
     "iopub.execute_input": "2024-03-10T17:34:01.366864Z",
     "iopub.status.busy": "2024-03-10T17:34:01.366586Z",
     "iopub.status.idle": "2024-03-10T17:34:01.540867Z",
     "shell.execute_reply": "2024-03-10T17:34:01.540060Z",
     "shell.execute_reply.started": "2024-03-10T17:34:01.366842Z"
    }
   },
   "outputs": [
    {
     "name": "stdout",
     "output_type": "stream",
     "text": [
      "<class 'pandas.core.frame.DataFrame'>\n",
      "RangeIndex: 495 entries, 0 to 494\n",
      "Data columns (total 7 columns):\n",
      " #   Column        Non-Null Count  Dtype \n",
      "---  ------        --------------  ----- \n",
      " 0   _id           495 non-null    object\n",
      " 1   active        495 non-null    bool  \n",
      " 2   createdDate   495 non-null    object\n",
      " 3   lastLogin     433 non-null    object\n",
      " 4   role          495 non-null    object\n",
      " 5   signUpSource  447 non-null    object\n",
      " 6   state         439 non-null    object\n",
      "dtypes: bool(1), object(6)\n",
      "memory usage: 23.8+ KB\n"
     ]
    }
   ],
   "source": [
    "users.info()"
   ]
  },
  {
   "cell_type": "markdown",
   "id": "3e7f3bf3-acc7-4526-9086-a91980cdfabc",
   "metadata": {},
   "source": [
    "From a first look, it seems like we have all user-related data stored in this table. I would like to start by cleaning up the identifier column, verifying whether it is a primary identifier (by eye I can see there are non-unique entries right away, so I am led to believe it is not unique at this time), and transforming the createdDate and lastLogin fields to datetime types."
   ]
  },
  {
   "cell_type": "code",
   "execution_count": 18,
   "id": "61a3bded-c494-4e7e-8084-e23a83ab7bde",
   "metadata": {
    "execution": {
     "iopub.execute_input": "2024-03-10T17:34:01.542121Z",
     "iopub.status.busy": "2024-03-10T17:34:01.541850Z",
     "iopub.status.idle": "2024-03-10T17:34:01.622209Z",
     "shell.execute_reply": "2024-03-10T17:34:01.621504Z",
     "shell.execute_reply.started": "2024-03-10T17:34:01.542100Z"
    },
    "tags": []
   },
   "outputs": [
    {
     "data": {
      "text/html": [
       "<div>\n",
       "<style scoped>\n",
       "    .dataframe tbody tr th:only-of-type {\n",
       "        vertical-align: middle;\n",
       "    }\n",
       "\n",
       "    .dataframe tbody tr th {\n",
       "        vertical-align: top;\n",
       "    }\n",
       "\n",
       "    .dataframe thead th {\n",
       "        text-align: right;\n",
       "    }\n",
       "</style>\n",
       "<table border=\"1\" class=\"dataframe\">\n",
       "  <thead>\n",
       "    <tr style=\"text-align: right;\">\n",
       "      <th></th>\n",
       "      <th>_id</th>\n",
       "      <th>active</th>\n",
       "      <th>createdDate</th>\n",
       "      <th>lastLogin</th>\n",
       "      <th>role</th>\n",
       "      <th>signUpSource</th>\n",
       "      <th>state</th>\n",
       "    </tr>\n",
       "  </thead>\n",
       "  <tbody>\n",
       "    <tr>\n",
       "      <th>0</th>\n",
       "      <td>5ff1e194b6a9d73a3a9f1052</td>\n",
       "      <td>True</td>\n",
       "      <td>2021-01-03 15:24:04.800</td>\n",
       "      <td>2021-01-03 15:25:37.857999872</td>\n",
       "      <td>consumer</td>\n",
       "      <td>Email</td>\n",
       "      <td>WI</td>\n",
       "    </tr>\n",
       "    <tr>\n",
       "      <th>1</th>\n",
       "      <td>5ff1e194b6a9d73a3a9f1052</td>\n",
       "      <td>True</td>\n",
       "      <td>2021-01-03 15:24:04.800</td>\n",
       "      <td>2021-01-03 15:25:37.857999872</td>\n",
       "      <td>consumer</td>\n",
       "      <td>Email</td>\n",
       "      <td>WI</td>\n",
       "    </tr>\n",
       "    <tr>\n",
       "      <th>2</th>\n",
       "      <td>5ff1e194b6a9d73a3a9f1052</td>\n",
       "      <td>True</td>\n",
       "      <td>2021-01-03 15:24:04.800</td>\n",
       "      <td>2021-01-03 15:25:37.857999872</td>\n",
       "      <td>consumer</td>\n",
       "      <td>Email</td>\n",
       "      <td>WI</td>\n",
       "    </tr>\n",
       "    <tr>\n",
       "      <th>3</th>\n",
       "      <td>5ff1e1eacfcf6c399c274ae6</td>\n",
       "      <td>True</td>\n",
       "      <td>2021-01-03 15:25:30.554</td>\n",
       "      <td>2021-01-03 15:25:30.596999936</td>\n",
       "      <td>consumer</td>\n",
       "      <td>Email</td>\n",
       "      <td>WI</td>\n",
       "    </tr>\n",
       "    <tr>\n",
       "      <th>4</th>\n",
       "      <td>5ff1e194b6a9d73a3a9f1052</td>\n",
       "      <td>True</td>\n",
       "      <td>2021-01-03 15:24:04.800</td>\n",
       "      <td>2021-01-03 15:25:37.857999872</td>\n",
       "      <td>consumer</td>\n",
       "      <td>Email</td>\n",
       "      <td>WI</td>\n",
       "    </tr>\n",
       "  </tbody>\n",
       "</table>\n",
       "</div>"
      ],
      "text/plain": [
       "                        _id  active             createdDate  \\\n",
       "0  5ff1e194b6a9d73a3a9f1052    True 2021-01-03 15:24:04.800   \n",
       "1  5ff1e194b6a9d73a3a9f1052    True 2021-01-03 15:24:04.800   \n",
       "2  5ff1e194b6a9d73a3a9f1052    True 2021-01-03 15:24:04.800   \n",
       "3  5ff1e1eacfcf6c399c274ae6    True 2021-01-03 15:25:30.554   \n",
       "4  5ff1e194b6a9d73a3a9f1052    True 2021-01-03 15:24:04.800   \n",
       "\n",
       "                      lastLogin      role signUpSource state  \n",
       "0 2021-01-03 15:25:37.857999872  consumer        Email    WI  \n",
       "1 2021-01-03 15:25:37.857999872  consumer        Email    WI  \n",
       "2 2021-01-03 15:25:37.857999872  consumer        Email    WI  \n",
       "3 2021-01-03 15:25:30.596999936  consumer        Email    WI  \n",
       "4 2021-01-03 15:25:37.857999872  consumer        Email    WI  "
      ]
     },
     "execution_count": 18,
     "metadata": {},
     "output_type": "execute_result"
    }
   ],
   "source": [
    "#start by cleaning the _id and date fields as we did in the receipts table\n",
    "users['_id'] = users['_id'].apply(lambda x: x['$oid'])\n",
    "users['createdDate'] = pd.to_datetime(users['createdDate'].apply(lambda x: x['$date'] if isinstance(x, dict) else np.nan),\n",
    "                                      unit = 'ms')\n",
    "users['lastLogin'] = pd.to_datetime(users['lastLogin'].apply(lambda x: x['$date'] if isinstance(x, dict) else np.nan),\n",
    "                                      unit = 'ms')\n",
    "users.head()"
   ]
  },
  {
   "cell_type": "code",
   "execution_count": 19,
   "id": "5e403baf-eb38-47e2-8052-3707573ede25",
   "metadata": {
    "execution": {
     "iopub.execute_input": "2024-03-10T17:34:01.623468Z",
     "iopub.status.busy": "2024-03-10T17:34:01.623214Z",
     "iopub.status.idle": "2024-03-10T17:34:01.633928Z",
     "shell.execute_reply": "2024-03-10T17:34:01.633093Z",
     "shell.execute_reply.started": "2024-03-10T17:34:01.623447Z"
    },
    "tags": []
   },
   "outputs": [
    {
     "name": "stdout",
     "output_type": "stream",
     "text": [
      "False\n"
     ]
    }
   ],
   "source": [
    "#verify the _id field is non-unique\n",
    "print(len(users['_id'])==len(users['_id'].unique()))"
   ]
  },
  {
   "cell_type": "markdown",
   "id": "33763103-4837-4ebf-9b97-e26f163c91a7",
   "metadata": {},
   "source": [
    "Since the user identifier column is non-unique, but is also referenced in the receipts table where it is also non-unique, we should get rid of all redundant entries so as to use the user_id field as a primary key in this table. We can do this by keeping only the most recent entry for each user_id (using the lastLogin field to do so)."
   ]
  },
  {
   "cell_type": "code",
   "execution_count": 20,
   "id": "cdb17234-22b5-490d-a71b-f46aa9fe443c",
   "metadata": {
    "execution": {
     "iopub.execute_input": "2024-03-10T17:34:01.635096Z",
     "iopub.status.busy": "2024-03-10T17:34:01.634842Z",
     "iopub.status.idle": "2024-03-10T17:34:01.731250Z",
     "shell.execute_reply": "2024-03-10T17:34:01.730520Z",
     "shell.execute_reply.started": "2024-03-10T17:34:01.635075Z"
    },
    "tags": []
   },
   "outputs": [
    {
     "data": {
      "text/html": [
       "<div>\n",
       "<style scoped>\n",
       "    .dataframe tbody tr th:only-of-type {\n",
       "        vertical-align: middle;\n",
       "    }\n",
       "\n",
       "    .dataframe tbody tr th {\n",
       "        vertical-align: top;\n",
       "    }\n",
       "\n",
       "    .dataframe thead th {\n",
       "        text-align: right;\n",
       "    }\n",
       "</style>\n",
       "<table border=\"1\" class=\"dataframe\">\n",
       "  <thead>\n",
       "    <tr style=\"text-align: right;\">\n",
       "      <th></th>\n",
       "      <th>_id</th>\n",
       "      <th>active</th>\n",
       "      <th>createdDate</th>\n",
       "      <th>lastLogin</th>\n",
       "      <th>role</th>\n",
       "      <th>signUpSource</th>\n",
       "      <th>state</th>\n",
       "    </tr>\n",
       "  </thead>\n",
       "  <tbody>\n",
       "    <tr>\n",
       "      <th>0</th>\n",
       "      <td>54943462e4b07e684157a532</td>\n",
       "      <td>True</td>\n",
       "      <td>2014-12-19 14:21:22.381</td>\n",
       "      <td>2021-03-05 16:52:23.204000000</td>\n",
       "      <td>fetch-staff</td>\n",
       "      <td>NaN</td>\n",
       "      <td>NaN</td>\n",
       "    </tr>\n",
       "    <tr>\n",
       "      <th>1</th>\n",
       "      <td>55308179e4b0eabd8f99caa2</td>\n",
       "      <td>True</td>\n",
       "      <td>2015-04-17 03:43:53.186</td>\n",
       "      <td>2018-05-07 17:23:40.003000064</td>\n",
       "      <td>consumer</td>\n",
       "      <td>NaN</td>\n",
       "      <td>WI</td>\n",
       "    </tr>\n",
       "    <tr>\n",
       "      <th>2</th>\n",
       "      <td>5964eb07e4b03efd0c0f267b</td>\n",
       "      <td>True</td>\n",
       "      <td>2017-07-11 15:13:11.771</td>\n",
       "      <td>2021-03-04 19:07:49.769999872</td>\n",
       "      <td>fetch-staff</td>\n",
       "      <td>NaN</td>\n",
       "      <td>IL</td>\n",
       "    </tr>\n",
       "    <tr>\n",
       "      <th>3</th>\n",
       "      <td>59c124bae4b0299e55b0f330</td>\n",
       "      <td>True</td>\n",
       "      <td>2017-09-19 14:07:54.302</td>\n",
       "      <td>2021-02-08 16:42:58.116999936</td>\n",
       "      <td>fetch-staff</td>\n",
       "      <td>NaN</td>\n",
       "      <td>WI</td>\n",
       "    </tr>\n",
       "    <tr>\n",
       "      <th>4</th>\n",
       "      <td>5a43c08fe4b014fd6b6a0612</td>\n",
       "      <td>True</td>\n",
       "      <td>2017-12-27 15:47:27.059</td>\n",
       "      <td>2021-02-12 16:22:37.155000064</td>\n",
       "      <td>consumer</td>\n",
       "      <td>NaN</td>\n",
       "      <td>NaN</td>\n",
       "    </tr>\n",
       "  </tbody>\n",
       "</table>\n",
       "</div>"
      ],
      "text/plain": [
       "                        _id  active             createdDate  \\\n",
       "0  54943462e4b07e684157a532    True 2014-12-19 14:21:22.381   \n",
       "1  55308179e4b0eabd8f99caa2    True 2015-04-17 03:43:53.186   \n",
       "2  5964eb07e4b03efd0c0f267b    True 2017-07-11 15:13:11.771   \n",
       "3  59c124bae4b0299e55b0f330    True 2017-09-19 14:07:54.302   \n",
       "4  5a43c08fe4b014fd6b6a0612    True 2017-12-27 15:47:27.059   \n",
       "\n",
       "                      lastLogin         role signUpSource state  \n",
       "0 2021-03-05 16:52:23.204000000  fetch-staff          NaN   NaN  \n",
       "1 2018-05-07 17:23:40.003000064     consumer          NaN    WI  \n",
       "2 2021-03-04 19:07:49.769999872  fetch-staff          NaN    IL  \n",
       "3 2021-02-08 16:42:58.116999936  fetch-staff          NaN    WI  \n",
       "4 2021-02-12 16:22:37.155000064     consumer          NaN   NaN  "
      ]
     },
     "execution_count": 20,
     "metadata": {},
     "output_type": "execute_result"
    }
   ],
   "source": [
    "#sort the entries by the lastLogin field, group by the _id field, and then only keep the first entry per group\n",
    "users = users.sort_values(by = 'lastLogin', ascending = False)\n",
    "users = users.groupby('_id', axis = 0).nth(0).reset_index()\n",
    "users.head()"
   ]
  },
  {
   "cell_type": "code",
   "execution_count": 21,
   "id": "db6d2e78-56d2-4769-822e-ba17fb3ba977",
   "metadata": {
    "execution": {
     "iopub.execute_input": "2024-03-10T17:34:01.732372Z",
     "iopub.status.busy": "2024-03-10T17:34:01.732134Z",
     "iopub.status.idle": "2024-03-10T17:34:01.897656Z",
     "shell.execute_reply": "2024-03-10T17:34:01.896872Z",
     "shell.execute_reply.started": "2024-03-10T17:34:01.732352Z"
    },
    "tags": []
   },
   "outputs": [
    {
     "name": "stdout",
     "output_type": "stream",
     "text": [
      "True\n"
     ]
    }
   ],
   "source": [
    "#verify that worked as we expected by checking the user _id field\n",
    "print(len(users['_id'])==len(users['_id'].unique()))"
   ]
  },
  {
   "cell_type": "markdown",
   "id": "d2ba4ce4-5584-4200-b772-3bea2068d881",
   "metadata": {},
   "source": [
    "### 1C) The Brands Data"
   ]
  },
  {
   "cell_type": "code",
   "execution_count": 22,
   "id": "479a9f07-5e7d-40f2-bc2e-1f33a481d3c2",
   "metadata": {
    "execution": {
     "iopub.execute_input": "2024-03-10T17:34:01.899069Z",
     "iopub.status.busy": "2024-03-10T17:34:01.898721Z",
     "iopub.status.idle": "2024-03-10T17:34:02.069864Z",
     "shell.execute_reply": "2024-03-10T17:34:02.069229Z",
     "shell.execute_reply.started": "2024-03-10T17:34:01.899045Z"
    },
    "tags": []
   },
   "outputs": [
    {
     "data": {
      "text/html": [
       "<div>\n",
       "<style scoped>\n",
       "    .dataframe tbody tr th:only-of-type {\n",
       "        vertical-align: middle;\n",
       "    }\n",
       "\n",
       "    .dataframe tbody tr th {\n",
       "        vertical-align: top;\n",
       "    }\n",
       "\n",
       "    .dataframe thead th {\n",
       "        text-align: right;\n",
       "    }\n",
       "</style>\n",
       "<table border=\"1\" class=\"dataframe\">\n",
       "  <thead>\n",
       "    <tr style=\"text-align: right;\">\n",
       "      <th></th>\n",
       "      <th>_id</th>\n",
       "      <th>barcode</th>\n",
       "      <th>category</th>\n",
       "      <th>categoryCode</th>\n",
       "      <th>cpg</th>\n",
       "      <th>name</th>\n",
       "      <th>topBrand</th>\n",
       "      <th>brandCode</th>\n",
       "    </tr>\n",
       "  </thead>\n",
       "  <tbody>\n",
       "    <tr>\n",
       "      <th>0</th>\n",
       "      <td>{'$oid': '601ac115be37ce2ead437551'}</td>\n",
       "      <td>511111019862</td>\n",
       "      <td>Baking</td>\n",
       "      <td>BAKING</td>\n",
       "      <td>{'$id': {'$oid': '601ac114be37ce2ead437550'}, ...</td>\n",
       "      <td>test brand @1612366101024</td>\n",
       "      <td>0.0</td>\n",
       "      <td>NaN</td>\n",
       "    </tr>\n",
       "    <tr>\n",
       "      <th>1</th>\n",
       "      <td>{'$oid': '601c5460be37ce2ead43755f'}</td>\n",
       "      <td>511111519928</td>\n",
       "      <td>Beverages</td>\n",
       "      <td>BEVERAGES</td>\n",
       "      <td>{'$id': {'$oid': '5332f5fbe4b03c9a25efd0ba'}, ...</td>\n",
       "      <td>Starbucks</td>\n",
       "      <td>0.0</td>\n",
       "      <td>STARBUCKS</td>\n",
       "    </tr>\n",
       "    <tr>\n",
       "      <th>2</th>\n",
       "      <td>{'$oid': '601ac142be37ce2ead43755d'}</td>\n",
       "      <td>511111819905</td>\n",
       "      <td>Baking</td>\n",
       "      <td>BAKING</td>\n",
       "      <td>{'$id': {'$oid': '601ac142be37ce2ead437559'}, ...</td>\n",
       "      <td>test brand @1612366146176</td>\n",
       "      <td>0.0</td>\n",
       "      <td>TEST BRANDCODE @1612366146176</td>\n",
       "    </tr>\n",
       "    <tr>\n",
       "      <th>3</th>\n",
       "      <td>{'$oid': '601ac142be37ce2ead43755a'}</td>\n",
       "      <td>511111519874</td>\n",
       "      <td>Baking</td>\n",
       "      <td>BAKING</td>\n",
       "      <td>{'$id': {'$oid': '601ac142be37ce2ead437559'}, ...</td>\n",
       "      <td>test brand @1612366146051</td>\n",
       "      <td>0.0</td>\n",
       "      <td>TEST BRANDCODE @1612366146051</td>\n",
       "    </tr>\n",
       "    <tr>\n",
       "      <th>4</th>\n",
       "      <td>{'$oid': '601ac142be37ce2ead43755e'}</td>\n",
       "      <td>511111319917</td>\n",
       "      <td>Candy &amp; Sweets</td>\n",
       "      <td>CANDY_AND_SWEETS</td>\n",
       "      <td>{'$id': {'$oid': '5332fa12e4b03c9a25efd1e7'}, ...</td>\n",
       "      <td>test brand @1612366146827</td>\n",
       "      <td>0.0</td>\n",
       "      <td>TEST BRANDCODE @1612366146827</td>\n",
       "    </tr>\n",
       "  </tbody>\n",
       "</table>\n",
       "</div>"
      ],
      "text/plain": [
       "                                    _id       barcode        category  \\\n",
       "0  {'$oid': '601ac115be37ce2ead437551'}  511111019862          Baking   \n",
       "1  {'$oid': '601c5460be37ce2ead43755f'}  511111519928       Beverages   \n",
       "2  {'$oid': '601ac142be37ce2ead43755d'}  511111819905          Baking   \n",
       "3  {'$oid': '601ac142be37ce2ead43755a'}  511111519874          Baking   \n",
       "4  {'$oid': '601ac142be37ce2ead43755e'}  511111319917  Candy & Sweets   \n",
       "\n",
       "       categoryCode                                                cpg  \\\n",
       "0            BAKING  {'$id': {'$oid': '601ac114be37ce2ead437550'}, ...   \n",
       "1         BEVERAGES  {'$id': {'$oid': '5332f5fbe4b03c9a25efd0ba'}, ...   \n",
       "2            BAKING  {'$id': {'$oid': '601ac142be37ce2ead437559'}, ...   \n",
       "3            BAKING  {'$id': {'$oid': '601ac142be37ce2ead437559'}, ...   \n",
       "4  CANDY_AND_SWEETS  {'$id': {'$oid': '5332fa12e4b03c9a25efd1e7'}, ...   \n",
       "\n",
       "                        name  topBrand                      brandCode  \n",
       "0  test brand @1612366101024       0.0                            NaN  \n",
       "1                  Starbucks       0.0                      STARBUCKS  \n",
       "2  test brand @1612366146176       0.0  TEST BRANDCODE @1612366146176  \n",
       "3  test brand @1612366146051       0.0  TEST BRANDCODE @1612366146051  \n",
       "4  test brand @1612366146827       0.0  TEST BRANDCODE @1612366146827  "
      ]
     },
     "execution_count": 22,
     "metadata": {},
     "output_type": "execute_result"
    }
   ],
   "source": [
    "#finally, let us load in and examine the brands data\n",
    "brands = pd.read_json('brands.json', lines = True)\n",
    "brands.head()"
   ]
  },
  {
   "cell_type": "code",
   "execution_count": 23,
   "id": "4cb603e8-2afc-41cd-afcc-36a73e700e57",
   "metadata": {
    "execution": {
     "iopub.execute_input": "2024-03-10T17:34:02.070928Z",
     "iopub.status.busy": "2024-03-10T17:34:02.070695Z",
     "iopub.status.idle": "2024-03-10T17:34:02.081048Z",
     "shell.execute_reply": "2024-03-10T17:34:02.080378Z",
     "shell.execute_reply.started": "2024-03-10T17:34:02.070907Z"
    }
   },
   "outputs": [
    {
     "name": "stdout",
     "output_type": "stream",
     "text": [
      "<class 'pandas.core.frame.DataFrame'>\n",
      "RangeIndex: 1167 entries, 0 to 1166\n",
      "Data columns (total 8 columns):\n",
      " #   Column        Non-Null Count  Dtype  \n",
      "---  ------        --------------  -----  \n",
      " 0   _id           1167 non-null   object \n",
      " 1   barcode       1167 non-null   int64  \n",
      " 2   category      1012 non-null   object \n",
      " 3   categoryCode  517 non-null    object \n",
      " 4   cpg           1167 non-null   object \n",
      " 5   name          1167 non-null   object \n",
      " 6   topBrand      555 non-null    float64\n",
      " 7   brandCode     933 non-null    object \n",
      "dtypes: float64(1), int64(1), object(6)\n",
      "memory usage: 73.1+ KB\n"
     ]
    }
   ],
   "source": [
    "brands.info()"
   ]
  },
  {
   "cell_type": "markdown",
   "id": "abebfba5-35fc-4e87-a0c9-d985096b70d0",
   "metadata": {
    "execution": {
     "iopub.execute_input": "2024-03-07T00:31:21.917601Z",
     "iopub.status.busy": "2024-03-07T00:31:21.916786Z",
     "iopub.status.idle": "2024-03-07T00:31:21.938954Z",
     "shell.execute_reply": "2024-03-07T00:31:21.937643Z",
     "shell.execute_reply.started": "2024-03-07T00:31:21.917538Z"
    }
   },
   "source": [
    "Right away I see that the _id column needs to be cleaned in a similar fashion to the way it was for the receipts and users tables. As well, the cpg column looks to be a nested field- I will have to look into this further."
   ]
  },
  {
   "cell_type": "code",
   "execution_count": 24,
   "id": "8cfc6ac7-651b-4fb9-9450-c5cec35b05cb",
   "metadata": {
    "execution": {
     "iopub.execute_input": "2024-03-10T17:34:02.082410Z",
     "iopub.status.busy": "2024-03-10T17:34:02.081931Z",
     "iopub.status.idle": "2024-03-10T17:34:02.149212Z",
     "shell.execute_reply": "2024-03-10T17:34:02.148470Z",
     "shell.execute_reply.started": "2024-03-10T17:34:02.082388Z"
    }
   },
   "outputs": [
    {
     "data": {
      "text/html": [
       "<div>\n",
       "<style scoped>\n",
       "    .dataframe tbody tr th:only-of-type {\n",
       "        vertical-align: middle;\n",
       "    }\n",
       "\n",
       "    .dataframe tbody tr th {\n",
       "        vertical-align: top;\n",
       "    }\n",
       "\n",
       "    .dataframe thead th {\n",
       "        text-align: right;\n",
       "    }\n",
       "</style>\n",
       "<table border=\"1\" class=\"dataframe\">\n",
       "  <thead>\n",
       "    <tr style=\"text-align: right;\">\n",
       "      <th></th>\n",
       "      <th>_id</th>\n",
       "      <th>barcode</th>\n",
       "      <th>category</th>\n",
       "      <th>categoryCode</th>\n",
       "      <th>cpg</th>\n",
       "      <th>name</th>\n",
       "      <th>topBrand</th>\n",
       "      <th>brandCode</th>\n",
       "    </tr>\n",
       "  </thead>\n",
       "  <tbody>\n",
       "    <tr>\n",
       "      <th>0</th>\n",
       "      <td>601ac115be37ce2ead437551</td>\n",
       "      <td>511111019862</td>\n",
       "      <td>Baking</td>\n",
       "      <td>BAKING</td>\n",
       "      <td>{'$id': {'$oid': '601ac114be37ce2ead437550'}, ...</td>\n",
       "      <td>test brand @1612366101024</td>\n",
       "      <td>0.0</td>\n",
       "      <td>NaN</td>\n",
       "    </tr>\n",
       "    <tr>\n",
       "      <th>1</th>\n",
       "      <td>601c5460be37ce2ead43755f</td>\n",
       "      <td>511111519928</td>\n",
       "      <td>Beverages</td>\n",
       "      <td>BEVERAGES</td>\n",
       "      <td>{'$id': {'$oid': '5332f5fbe4b03c9a25efd0ba'}, ...</td>\n",
       "      <td>Starbucks</td>\n",
       "      <td>0.0</td>\n",
       "      <td>STARBUCKS</td>\n",
       "    </tr>\n",
       "    <tr>\n",
       "      <th>2</th>\n",
       "      <td>601ac142be37ce2ead43755d</td>\n",
       "      <td>511111819905</td>\n",
       "      <td>Baking</td>\n",
       "      <td>BAKING</td>\n",
       "      <td>{'$id': {'$oid': '601ac142be37ce2ead437559'}, ...</td>\n",
       "      <td>test brand @1612366146176</td>\n",
       "      <td>0.0</td>\n",
       "      <td>TEST BRANDCODE @1612366146176</td>\n",
       "    </tr>\n",
       "    <tr>\n",
       "      <th>3</th>\n",
       "      <td>601ac142be37ce2ead43755a</td>\n",
       "      <td>511111519874</td>\n",
       "      <td>Baking</td>\n",
       "      <td>BAKING</td>\n",
       "      <td>{'$id': {'$oid': '601ac142be37ce2ead437559'}, ...</td>\n",
       "      <td>test brand @1612366146051</td>\n",
       "      <td>0.0</td>\n",
       "      <td>TEST BRANDCODE @1612366146051</td>\n",
       "    </tr>\n",
       "    <tr>\n",
       "      <th>4</th>\n",
       "      <td>601ac142be37ce2ead43755e</td>\n",
       "      <td>511111319917</td>\n",
       "      <td>Candy &amp; Sweets</td>\n",
       "      <td>CANDY_AND_SWEETS</td>\n",
       "      <td>{'$id': {'$oid': '5332fa12e4b03c9a25efd1e7'}, ...</td>\n",
       "      <td>test brand @1612366146827</td>\n",
       "      <td>0.0</td>\n",
       "      <td>TEST BRANDCODE @1612366146827</td>\n",
       "    </tr>\n",
       "  </tbody>\n",
       "</table>\n",
       "</div>"
      ],
      "text/plain": [
       "                        _id       barcode        category      categoryCode  \\\n",
       "0  601ac115be37ce2ead437551  511111019862          Baking            BAKING   \n",
       "1  601c5460be37ce2ead43755f  511111519928       Beverages         BEVERAGES   \n",
       "2  601ac142be37ce2ead43755d  511111819905          Baking            BAKING   \n",
       "3  601ac142be37ce2ead43755a  511111519874          Baking            BAKING   \n",
       "4  601ac142be37ce2ead43755e  511111319917  Candy & Sweets  CANDY_AND_SWEETS   \n",
       "\n",
       "                                                 cpg  \\\n",
       "0  {'$id': {'$oid': '601ac114be37ce2ead437550'}, ...   \n",
       "1  {'$id': {'$oid': '5332f5fbe4b03c9a25efd0ba'}, ...   \n",
       "2  {'$id': {'$oid': '601ac142be37ce2ead437559'}, ...   \n",
       "3  {'$id': {'$oid': '601ac142be37ce2ead437559'}, ...   \n",
       "4  {'$id': {'$oid': '5332fa12e4b03c9a25efd1e7'}, ...   \n",
       "\n",
       "                        name  topBrand                      brandCode  \n",
       "0  test brand @1612366101024       0.0                            NaN  \n",
       "1                  Starbucks       0.0                      STARBUCKS  \n",
       "2  test brand @1612366146176       0.0  TEST BRANDCODE @1612366146176  \n",
       "3  test brand @1612366146051       0.0  TEST BRANDCODE @1612366146051  \n",
       "4  test brand @1612366146827       0.0  TEST BRANDCODE @1612366146827  "
      ]
     },
     "execution_count": 24,
     "metadata": {},
     "output_type": "execute_result"
    }
   ],
   "source": [
    "#clean up the brands _id field\n",
    "brands['_id'] = brands['_id'].apply(lambda x: x['$oid'])\n",
    "brands.head()"
   ]
  },
  {
   "cell_type": "code",
   "execution_count": 25,
   "id": "f4c40cad-a7b1-45f4-8ffe-2e6625345f55",
   "metadata": {
    "execution": {
     "iopub.execute_input": "2024-03-10T17:34:02.150914Z",
     "iopub.status.busy": "2024-03-10T17:34:02.150241Z",
     "iopub.status.idle": "2024-03-10T17:34:02.256192Z",
     "shell.execute_reply": "2024-03-10T17:34:02.255442Z",
     "shell.execute_reply.started": "2024-03-10T17:34:02.150879Z"
    },
    "tags": []
   },
   "outputs": [
    {
     "data": {
      "text/plain": [
       "({'$id': {'$oid': '601ac114be37ce2ead437550'}, '$ref': 'Cogs'},\n",
       " {'$ref': 'Cogs', '$id': {'$oid': '550b2565e4b001d5e9e4146f'}})"
      ]
     },
     "execution_count": 25,
     "metadata": {},
     "output_type": "execute_result"
    }
   ],
   "source": [
    "#now take a look into the cpg field\n",
    "brands['cpg'][0], brands['cpg'][40]"
   ]
  },
  {
   "cell_type": "markdown",
   "id": "a6e8071d-9388-476f-b4a2-b4ecb987195c",
   "metadata": {},
   "source": [
    "Let's transform this cpg column into its own table. It looks like this table will have an identifier column (potentially a primary key) and a second field 'ref'."
   ]
  },
  {
   "cell_type": "code",
   "execution_count": 26,
   "id": "8c2c64a6-5c85-4251-b9e6-42972717ee55",
   "metadata": {
    "execution": {
     "iopub.execute_input": "2024-03-10T17:34:02.257783Z",
     "iopub.status.busy": "2024-03-10T17:34:02.257260Z",
     "iopub.status.idle": "2024-03-10T17:34:02.397836Z",
     "shell.execute_reply": "2024-03-10T17:34:02.396939Z",
     "shell.execute_reply.started": "2024-03-10T17:34:02.257759Z"
    },
    "tags": []
   },
   "outputs": [],
   "source": [
    "#looks like the only two columns will be '_id' and 'ref'\n",
    "cols = ['$id', '$ref']"
   ]
  },
  {
   "cell_type": "code",
   "execution_count": 27,
   "id": "b360ca34-3d74-43f9-882c-08641e496071",
   "metadata": {
    "execution": {
     "iopub.execute_input": "2024-03-10T17:34:02.399239Z",
     "iopub.status.busy": "2024-03-10T17:34:02.398879Z",
     "iopub.status.idle": "2024-03-10T17:34:02.415558Z",
     "shell.execute_reply": "2024-03-10T17:34:02.414874Z",
     "shell.execute_reply.started": "2024-03-10T17:34:02.399215Z"
    },
    "tags": []
   },
   "outputs": [
    {
     "data": {
      "text/plain": [
       "{'$id': {'$oid': '601ac114be37ce2ead437550'}, '$ref': 'Cogs'}"
      ]
     },
     "execution_count": 27,
     "metadata": {},
     "output_type": "execute_result"
    }
   ],
   "source": [
    "brands['cpg'][0]"
   ]
  },
  {
   "cell_type": "code",
   "execution_count": 28,
   "id": "65a3ef34-8eba-4ad7-9c27-cb746bfa5681",
   "metadata": {
    "execution": {
     "iopub.execute_input": "2024-03-10T17:34:02.419800Z",
     "iopub.status.busy": "2024-03-10T17:34:02.419334Z",
     "iopub.status.idle": "2024-03-10T17:34:04.677932Z",
     "shell.execute_reply": "2024-03-10T17:34:04.677261Z",
     "shell.execute_reply.started": "2024-03-10T17:34:02.419775Z"
    },
    "tags": []
   },
   "outputs": [
    {
     "data": {
      "text/html": [
       "<div>\n",
       "<style scoped>\n",
       "    .dataframe tbody tr th:only-of-type {\n",
       "        vertical-align: middle;\n",
       "    }\n",
       "\n",
       "    .dataframe tbody tr th {\n",
       "        vertical-align: top;\n",
       "    }\n",
       "\n",
       "    .dataframe thead th {\n",
       "        text-align: right;\n",
       "    }\n",
       "</style>\n",
       "<table border=\"1\" class=\"dataframe\">\n",
       "  <thead>\n",
       "    <tr style=\"text-align: right;\">\n",
       "      <th></th>\n",
       "      <th>$id</th>\n",
       "      <th>$ref</th>\n",
       "    </tr>\n",
       "  </thead>\n",
       "  <tbody>\n",
       "    <tr>\n",
       "      <th>0</th>\n",
       "      <td>{'$oid': '601ac114be37ce2ead437550'}</td>\n",
       "      <td>Cogs</td>\n",
       "    </tr>\n",
       "    <tr>\n",
       "      <th>1</th>\n",
       "      <td>{'$oid': '5332f5fbe4b03c9a25efd0ba'}</td>\n",
       "      <td>Cogs</td>\n",
       "    </tr>\n",
       "    <tr>\n",
       "      <th>2</th>\n",
       "      <td>{'$oid': '601ac142be37ce2ead437559'}</td>\n",
       "      <td>Cogs</td>\n",
       "    </tr>\n",
       "    <tr>\n",
       "      <th>3</th>\n",
       "      <td>{'$oid': '601ac142be37ce2ead437559'}</td>\n",
       "      <td>Cogs</td>\n",
       "    </tr>\n",
       "    <tr>\n",
       "      <th>4</th>\n",
       "      <td>{'$oid': '5332fa12e4b03c9a25efd1e7'}</td>\n",
       "      <td>Cogs</td>\n",
       "    </tr>\n",
       "  </tbody>\n",
       "</table>\n",
       "</div>"
      ],
      "text/plain": [
       "                                    $id  $ref\n",
       "0  {'$oid': '601ac114be37ce2ead437550'}  Cogs\n",
       "1  {'$oid': '5332f5fbe4b03c9a25efd0ba'}  Cogs\n",
       "2  {'$oid': '601ac142be37ce2ead437559'}  Cogs\n",
       "3  {'$oid': '601ac142be37ce2ead437559'}  Cogs\n",
       "4  {'$oid': '5332fa12e4b03c9a25efd1e7'}  Cogs"
      ]
     },
     "execution_count": 28,
     "metadata": {},
     "output_type": "execute_result"
    }
   ],
   "source": [
    "#now we can create a separate dataframe to represent this new table and begin populating it\n",
    "cpg = pd.DataFrame(columns = list(cols))\n",
    "# step through the rows once again and each entry is like a mapping of the columns to data pairs in a df\n",
    "for row in range(brands.shape[0]):\n",
    "    try:\n",
    "        iter(brands['cpg'][row])\n",
    "    except TypeError as te:\n",
    "        continue\n",
    "    entry = brands['cpg'][row]\n",
    "    # for entry in brands['cpg'][row]:\n",
    "    #     print(entry, row)\n",
    "    #     #populate the corresponding row in the new data frame with this information\n",
    "    cpg = cpg.append(entry, ignore_index = True)\n",
    "cpg.head()"
   ]
  },
  {
   "cell_type": "markdown",
   "id": "519ca6bd-ab0f-42c1-8109-7141e593d94f",
   "metadata": {},
   "source": [
    "To cleann up the cpg table, let's fix the column names as well as extract the identifier values in the $id column."
   ]
  },
  {
   "cell_type": "code",
   "execution_count": 29,
   "id": "7b346243-8b34-4e61-bd09-224993ef341d",
   "metadata": {
    "execution": {
     "iopub.execute_input": "2024-03-10T17:34:04.679093Z",
     "iopub.status.busy": "2024-03-10T17:34:04.678844Z",
     "iopub.status.idle": "2024-03-10T17:34:04.689680Z",
     "shell.execute_reply": "2024-03-10T17:34:04.688889Z",
     "shell.execute_reply.started": "2024-03-10T17:34:04.679072Z"
    }
   },
   "outputs": [
    {
     "data": {
      "text/html": [
       "<div>\n",
       "<style scoped>\n",
       "    .dataframe tbody tr th:only-of-type {\n",
       "        vertical-align: middle;\n",
       "    }\n",
       "\n",
       "    .dataframe tbody tr th {\n",
       "        vertical-align: top;\n",
       "    }\n",
       "\n",
       "    .dataframe thead th {\n",
       "        text-align: right;\n",
       "    }\n",
       "</style>\n",
       "<table border=\"1\" class=\"dataframe\">\n",
       "  <thead>\n",
       "    <tr style=\"text-align: right;\">\n",
       "      <th></th>\n",
       "      <th>id</th>\n",
       "      <th>ref</th>\n",
       "    </tr>\n",
       "  </thead>\n",
       "  <tbody>\n",
       "    <tr>\n",
       "      <th>0</th>\n",
       "      <td>601ac114be37ce2ead437550</td>\n",
       "      <td>Cogs</td>\n",
       "    </tr>\n",
       "    <tr>\n",
       "      <th>1</th>\n",
       "      <td>5332f5fbe4b03c9a25efd0ba</td>\n",
       "      <td>Cogs</td>\n",
       "    </tr>\n",
       "    <tr>\n",
       "      <th>2</th>\n",
       "      <td>601ac142be37ce2ead437559</td>\n",
       "      <td>Cogs</td>\n",
       "    </tr>\n",
       "    <tr>\n",
       "      <th>3</th>\n",
       "      <td>601ac142be37ce2ead437559</td>\n",
       "      <td>Cogs</td>\n",
       "    </tr>\n",
       "    <tr>\n",
       "      <th>4</th>\n",
       "      <td>5332fa12e4b03c9a25efd1e7</td>\n",
       "      <td>Cogs</td>\n",
       "    </tr>\n",
       "  </tbody>\n",
       "</table>\n",
       "</div>"
      ],
      "text/plain": [
       "                         id   ref\n",
       "0  601ac114be37ce2ead437550  Cogs\n",
       "1  5332f5fbe4b03c9a25efd0ba  Cogs\n",
       "2  601ac142be37ce2ead437559  Cogs\n",
       "3  601ac142be37ce2ead437559  Cogs\n",
       "4  5332fa12e4b03c9a25efd1e7  Cogs"
      ]
     },
     "execution_count": 29,
     "metadata": {},
     "output_type": "execute_result"
    }
   ],
   "source": [
    "cpg = cpg.rename(columns = {'$id':'id', '$ref':'ref'})\n",
    "cpg['id'] = cpg['id'].apply(lambda x: x['$oid'])\n",
    "cpg.head()"
   ]
  },
  {
   "cell_type": "code",
   "execution_count": 30,
   "id": "74006264-1d1b-4103-9891-f48e7af92fe6",
   "metadata": {
    "execution": {
     "iopub.execute_input": "2024-03-10T17:34:04.690959Z",
     "iopub.status.busy": "2024-03-10T17:34:04.690706Z",
     "iopub.status.idle": "2024-03-10T17:34:05.081560Z",
     "shell.execute_reply": "2024-03-10T17:34:05.080784Z",
     "shell.execute_reply.started": "2024-03-10T17:34:04.690938Z"
    }
   },
   "outputs": [
    {
     "data": {
      "text/plain": [
       "Cogs    1020\n",
       "Cpgs     147\n",
       "Name: ref, dtype: int64"
      ]
     },
     "execution_count": 30,
     "metadata": {},
     "output_type": "execute_result"
    }
   ],
   "source": [
    "#what are the factors of the ref column?\n",
    "cpg.ref.value_counts()"
   ]
  },
  {
   "cell_type": "code",
   "execution_count": 31,
   "id": "dbda5b87-4a68-45fd-b84a-7f014ebf5109",
   "metadata": {
    "execution": {
     "iopub.execute_input": "2024-03-10T17:34:05.082937Z",
     "iopub.status.busy": "2024-03-10T17:34:05.082579Z",
     "iopub.status.idle": "2024-03-10T17:34:05.093485Z",
     "shell.execute_reply": "2024-03-10T17:34:05.092612Z",
     "shell.execute_reply.started": "2024-03-10T17:34:05.082913Z"
    },
    "tags": []
   },
   "outputs": [
    {
     "name": "stdout",
     "output_type": "stream",
     "text": [
      "True\n",
      "0\n"
     ]
    }
   ],
   "source": [
    "#let's check the brands identifier for uniqueness and non-null values\n",
    "print(len(brands['_id'])==len(brands['_id'].unique()))\n",
    "print(sum(brands['_id'].isnull().astype('int')))"
   ]
  },
  {
   "cell_type": "code",
   "execution_count": 32,
   "id": "b0b31ccc-3649-4f3b-b4c6-4260ff2e50d3",
   "metadata": {
    "execution": {
     "iopub.execute_input": "2024-03-10T17:34:05.094823Z",
     "iopub.status.busy": "2024-03-10T17:34:05.094474Z",
     "iopub.status.idle": "2024-03-10T17:34:05.104990Z",
     "shell.execute_reply": "2024-03-10T17:34:05.104134Z",
     "shell.execute_reply.started": "2024-03-10T17:34:05.094801Z"
    }
   },
   "outputs": [
    {
     "name": "stdout",
     "output_type": "stream",
     "text": [
      "False\n",
      "0\n"
     ]
    }
   ],
   "source": [
    "#let's do the same for the cpg identifier\n",
    "print(len(cpg['id'])==len(cpg['id'].unique()))\n",
    "print(sum(cpg['id'].isnull().astype('int')))"
   ]
  },
  {
   "cell_type": "code",
   "execution_count": 33,
   "id": "c0a5e772-ef1f-4eed-9b9d-46bc07f84d06",
   "metadata": {
    "execution": {
     "iopub.execute_input": "2024-03-10T17:34:05.106308Z",
     "iopub.status.busy": "2024-03-10T17:34:05.105965Z",
     "iopub.status.idle": "2024-03-10T17:34:05.134734Z",
     "shell.execute_reply": "2024-03-10T17:34:05.133969Z",
     "shell.execute_reply.started": "2024-03-10T17:34:05.106286Z"
    },
    "tags": []
   },
   "outputs": [
    {
     "data": {
      "text/html": [
       "<div>\n",
       "<style scoped>\n",
       "    .dataframe tbody tr th:only-of-type {\n",
       "        vertical-align: middle;\n",
       "    }\n",
       "\n",
       "    .dataframe tbody tr th {\n",
       "        vertical-align: top;\n",
       "    }\n",
       "\n",
       "    .dataframe thead th {\n",
       "        text-align: right;\n",
       "    }\n",
       "</style>\n",
       "<table border=\"1\" class=\"dataframe\">\n",
       "  <thead>\n",
       "    <tr style=\"text-align: right;\">\n",
       "      <th></th>\n",
       "      <th>id</th>\n",
       "      <th>ref</th>\n",
       "      <th>brand_id</th>\n",
       "    </tr>\n",
       "  </thead>\n",
       "  <tbody>\n",
       "    <tr>\n",
       "      <th>0</th>\n",
       "      <td>601ac114be37ce2ead437550</td>\n",
       "      <td>Cogs</td>\n",
       "      <td>601ac115be37ce2ead437551</td>\n",
       "    </tr>\n",
       "    <tr>\n",
       "      <th>1</th>\n",
       "      <td>5332f5fbe4b03c9a25efd0ba</td>\n",
       "      <td>Cogs</td>\n",
       "      <td>601c5460be37ce2ead43755f</td>\n",
       "    </tr>\n",
       "  </tbody>\n",
       "</table>\n",
       "</div>"
      ],
      "text/plain": [
       "                         id   ref                  brand_id\n",
       "0  601ac114be37ce2ead437550  Cogs  601ac115be37ce2ead437551\n",
       "1  5332f5fbe4b03c9a25efd0ba  Cogs  601c5460be37ce2ead43755f"
      ]
     },
     "execution_count": 33,
     "metadata": {},
     "output_type": "execute_result"
    }
   ],
   "source": [
    "#okay so the brand identifier is the primary key in the brands table, and the cpg identifier is non-null but not unique\n",
    "#let's use the brand identifier as a primary key in the cpg table as well\n",
    "cpg['brand_id'] = brands['_id']\n",
    "cpg.head(2)"
   ]
  },
  {
   "cell_type": "code",
   "execution_count": 34,
   "id": "6a81f862-4db9-4091-b08a-ad19a9fa1a7a",
   "metadata": {
    "execution": {
     "iopub.execute_input": "2024-03-10T17:34:05.135963Z",
     "iopub.status.busy": "2024-03-10T17:34:05.135675Z",
     "iopub.status.idle": "2024-03-10T17:34:05.284551Z",
     "shell.execute_reply": "2024-03-10T17:34:05.283636Z",
     "shell.execute_reply.started": "2024-03-10T17:34:05.135941Z"
    }
   },
   "outputs": [],
   "source": [
    "#now that we have moved the cpg field to its own column, let's update the brands table\n",
    "#we should just keep the cpg id field in the brands table as a foreign reference to the cpg table\n",
    "brands['cpg_id'] = cpg['id']\n",
    "brands.drop('cpg', axis = 1, inplace = True)"
   ]
  },
  {
   "cell_type": "markdown",
   "id": "39f35748-3e87-49b7-bb00-3a201753a703",
   "metadata": {},
   "source": [
    "Now that we have four tables which should each have a primary key, let's take one last look at them and put together a diagram that illustrates the relationships between them. Also, make sure to rename the _id columns appropriately to improve readability."
   ]
  },
  {
   "cell_type": "code",
   "execution_count": 35,
   "id": "722b4545-9c74-468a-9940-0ae7469f6bf2",
   "metadata": {
    "execution": {
     "iopub.execute_input": "2024-03-10T17:34:05.286081Z",
     "iopub.status.busy": "2024-03-10T17:34:05.285722Z",
     "iopub.status.idle": "2024-03-10T17:34:05.304834Z",
     "shell.execute_reply": "2024-03-10T17:34:05.303972Z",
     "shell.execute_reply.started": "2024-03-10T17:34:05.286057Z"
    },
    "tags": []
   },
   "outputs": [
    {
     "data": {
      "text/html": [
       "<div>\n",
       "<style scoped>\n",
       "    .dataframe tbody tr th:only-of-type {\n",
       "        vertical-align: middle;\n",
       "    }\n",
       "\n",
       "    .dataframe tbody tr th {\n",
       "        vertical-align: top;\n",
       "    }\n",
       "\n",
       "    .dataframe thead th {\n",
       "        text-align: right;\n",
       "    }\n",
       "</style>\n",
       "<table border=\"1\" class=\"dataframe\">\n",
       "  <thead>\n",
       "    <tr style=\"text-align: right;\">\n",
       "      <th></th>\n",
       "      <th>brand_id</th>\n",
       "      <th>barcode</th>\n",
       "      <th>category</th>\n",
       "      <th>categoryCode</th>\n",
       "      <th>name</th>\n",
       "      <th>topBrand</th>\n",
       "      <th>brandCode</th>\n",
       "      <th>cpg_id</th>\n",
       "    </tr>\n",
       "  </thead>\n",
       "  <tbody>\n",
       "    <tr>\n",
       "      <th>0</th>\n",
       "      <td>601ac115be37ce2ead437551</td>\n",
       "      <td>511111019862</td>\n",
       "      <td>Baking</td>\n",
       "      <td>BAKING</td>\n",
       "      <td>test brand @1612366101024</td>\n",
       "      <td>0.0</td>\n",
       "      <td>NaN</td>\n",
       "      <td>601ac114be37ce2ead437550</td>\n",
       "    </tr>\n",
       "    <tr>\n",
       "      <th>1</th>\n",
       "      <td>601c5460be37ce2ead43755f</td>\n",
       "      <td>511111519928</td>\n",
       "      <td>Beverages</td>\n",
       "      <td>BEVERAGES</td>\n",
       "      <td>Starbucks</td>\n",
       "      <td>0.0</td>\n",
       "      <td>STARBUCKS</td>\n",
       "      <td>5332f5fbe4b03c9a25efd0ba</td>\n",
       "    </tr>\n",
       "    <tr>\n",
       "      <th>2</th>\n",
       "      <td>601ac142be37ce2ead43755d</td>\n",
       "      <td>511111819905</td>\n",
       "      <td>Baking</td>\n",
       "      <td>BAKING</td>\n",
       "      <td>test brand @1612366146176</td>\n",
       "      <td>0.0</td>\n",
       "      <td>TEST BRANDCODE @1612366146176</td>\n",
       "      <td>601ac142be37ce2ead437559</td>\n",
       "    </tr>\n",
       "    <tr>\n",
       "      <th>3</th>\n",
       "      <td>601ac142be37ce2ead43755a</td>\n",
       "      <td>511111519874</td>\n",
       "      <td>Baking</td>\n",
       "      <td>BAKING</td>\n",
       "      <td>test brand @1612366146051</td>\n",
       "      <td>0.0</td>\n",
       "      <td>TEST BRANDCODE @1612366146051</td>\n",
       "      <td>601ac142be37ce2ead437559</td>\n",
       "    </tr>\n",
       "    <tr>\n",
       "      <th>4</th>\n",
       "      <td>601ac142be37ce2ead43755e</td>\n",
       "      <td>511111319917</td>\n",
       "      <td>Candy &amp; Sweets</td>\n",
       "      <td>CANDY_AND_SWEETS</td>\n",
       "      <td>test brand @1612366146827</td>\n",
       "      <td>0.0</td>\n",
       "      <td>TEST BRANDCODE @1612366146827</td>\n",
       "      <td>5332fa12e4b03c9a25efd1e7</td>\n",
       "    </tr>\n",
       "  </tbody>\n",
       "</table>\n",
       "</div>"
      ],
      "text/plain": [
       "                   brand_id       barcode        category      categoryCode  \\\n",
       "0  601ac115be37ce2ead437551  511111019862          Baking            BAKING   \n",
       "1  601c5460be37ce2ead43755f  511111519928       Beverages         BEVERAGES   \n",
       "2  601ac142be37ce2ead43755d  511111819905          Baking            BAKING   \n",
       "3  601ac142be37ce2ead43755a  511111519874          Baking            BAKING   \n",
       "4  601ac142be37ce2ead43755e  511111319917  Candy & Sweets  CANDY_AND_SWEETS   \n",
       "\n",
       "                        name  topBrand                      brandCode  \\\n",
       "0  test brand @1612366101024       0.0                            NaN   \n",
       "1                  Starbucks       0.0                      STARBUCKS   \n",
       "2  test brand @1612366146176       0.0  TEST BRANDCODE @1612366146176   \n",
       "3  test brand @1612366146051       0.0  TEST BRANDCODE @1612366146051   \n",
       "4  test brand @1612366146827       0.0  TEST BRANDCODE @1612366146827   \n",
       "\n",
       "                     cpg_id  \n",
       "0  601ac114be37ce2ead437550  \n",
       "1  5332f5fbe4b03c9a25efd0ba  \n",
       "2  601ac142be37ce2ead437559  \n",
       "3  601ac142be37ce2ead437559  \n",
       "4  5332fa12e4b03c9a25efd1e7  "
      ]
     },
     "execution_count": 35,
     "metadata": {},
     "output_type": "execute_result"
    }
   ],
   "source": [
    "brands = brands.rename(columns = {'_id':'brand_id'})\n",
    "brands.head()"
   ]
  },
  {
   "cell_type": "code",
   "execution_count": 36,
   "id": "442306be-3adf-409b-9683-ae716c59fab9",
   "metadata": {
    "execution": {
     "iopub.execute_input": "2024-03-10T17:34:05.306104Z",
     "iopub.status.busy": "2024-03-10T17:34:05.305849Z",
     "iopub.status.idle": "2024-03-10T17:34:05.364779Z",
     "shell.execute_reply": "2024-03-10T17:34:05.364092Z",
     "shell.execute_reply.started": "2024-03-10T17:34:05.306084Z"
    },
    "tags": []
   },
   "outputs": [
    {
     "data": {
      "text/html": [
       "<div>\n",
       "<style scoped>\n",
       "    .dataframe tbody tr th:only-of-type {\n",
       "        vertical-align: middle;\n",
       "    }\n",
       "\n",
       "    .dataframe tbody tr th {\n",
       "        vertical-align: top;\n",
       "    }\n",
       "\n",
       "    .dataframe thead th {\n",
       "        text-align: right;\n",
       "    }\n",
       "</style>\n",
       "<table border=\"1\" class=\"dataframe\">\n",
       "  <thead>\n",
       "    <tr style=\"text-align: right;\">\n",
       "      <th></th>\n",
       "      <th>user_id</th>\n",
       "      <th>active</th>\n",
       "      <th>createdDate</th>\n",
       "      <th>lastLogin</th>\n",
       "      <th>role</th>\n",
       "      <th>signUpSource</th>\n",
       "      <th>state</th>\n",
       "    </tr>\n",
       "  </thead>\n",
       "  <tbody>\n",
       "    <tr>\n",
       "      <th>0</th>\n",
       "      <td>54943462e4b07e684157a532</td>\n",
       "      <td>True</td>\n",
       "      <td>2014-12-19 14:21:22.381</td>\n",
       "      <td>2021-03-05 16:52:23.204000000</td>\n",
       "      <td>fetch-staff</td>\n",
       "      <td>NaN</td>\n",
       "      <td>NaN</td>\n",
       "    </tr>\n",
       "    <tr>\n",
       "      <th>1</th>\n",
       "      <td>55308179e4b0eabd8f99caa2</td>\n",
       "      <td>True</td>\n",
       "      <td>2015-04-17 03:43:53.186</td>\n",
       "      <td>2018-05-07 17:23:40.003000064</td>\n",
       "      <td>consumer</td>\n",
       "      <td>NaN</td>\n",
       "      <td>WI</td>\n",
       "    </tr>\n",
       "    <tr>\n",
       "      <th>2</th>\n",
       "      <td>5964eb07e4b03efd0c0f267b</td>\n",
       "      <td>True</td>\n",
       "      <td>2017-07-11 15:13:11.771</td>\n",
       "      <td>2021-03-04 19:07:49.769999872</td>\n",
       "      <td>fetch-staff</td>\n",
       "      <td>NaN</td>\n",
       "      <td>IL</td>\n",
       "    </tr>\n",
       "    <tr>\n",
       "      <th>3</th>\n",
       "      <td>59c124bae4b0299e55b0f330</td>\n",
       "      <td>True</td>\n",
       "      <td>2017-09-19 14:07:54.302</td>\n",
       "      <td>2021-02-08 16:42:58.116999936</td>\n",
       "      <td>fetch-staff</td>\n",
       "      <td>NaN</td>\n",
       "      <td>WI</td>\n",
       "    </tr>\n",
       "    <tr>\n",
       "      <th>4</th>\n",
       "      <td>5a43c08fe4b014fd6b6a0612</td>\n",
       "      <td>True</td>\n",
       "      <td>2017-12-27 15:47:27.059</td>\n",
       "      <td>2021-02-12 16:22:37.155000064</td>\n",
       "      <td>consumer</td>\n",
       "      <td>NaN</td>\n",
       "      <td>NaN</td>\n",
       "    </tr>\n",
       "  </tbody>\n",
       "</table>\n",
       "</div>"
      ],
      "text/plain": [
       "                    user_id  active             createdDate  \\\n",
       "0  54943462e4b07e684157a532    True 2014-12-19 14:21:22.381   \n",
       "1  55308179e4b0eabd8f99caa2    True 2015-04-17 03:43:53.186   \n",
       "2  5964eb07e4b03efd0c0f267b    True 2017-07-11 15:13:11.771   \n",
       "3  59c124bae4b0299e55b0f330    True 2017-09-19 14:07:54.302   \n",
       "4  5a43c08fe4b014fd6b6a0612    True 2017-12-27 15:47:27.059   \n",
       "\n",
       "                      lastLogin         role signUpSource state  \n",
       "0 2021-03-05 16:52:23.204000000  fetch-staff          NaN   NaN  \n",
       "1 2018-05-07 17:23:40.003000064     consumer          NaN    WI  \n",
       "2 2021-03-04 19:07:49.769999872  fetch-staff          NaN    IL  \n",
       "3 2021-02-08 16:42:58.116999936  fetch-staff          NaN    WI  \n",
       "4 2021-02-12 16:22:37.155000064     consumer          NaN   NaN  "
      ]
     },
     "execution_count": 36,
     "metadata": {},
     "output_type": "execute_result"
    }
   ],
   "source": [
    "users = users.rename(columns = {'_id':'user_id'})\n",
    "users.head()"
   ]
  },
  {
   "cell_type": "code",
   "execution_count": 37,
   "id": "44beda6d-f872-4427-ba2e-cae72e48bca1",
   "metadata": {
    "execution": {
     "iopub.execute_input": "2024-03-10T17:34:05.366287Z",
     "iopub.status.busy": "2024-03-10T17:34:05.365787Z",
     "iopub.status.idle": "2024-03-10T17:34:05.397949Z",
     "shell.execute_reply": "2024-03-10T17:34:05.395849Z",
     "shell.execute_reply.started": "2024-03-10T17:34:05.366262Z"
    },
    "tags": []
   },
   "outputs": [
    {
     "data": {
      "text/html": [
       "<div>\n",
       "<style scoped>\n",
       "    .dataframe tbody tr th:only-of-type {\n",
       "        vertical-align: middle;\n",
       "    }\n",
       "\n",
       "    .dataframe tbody tr th {\n",
       "        vertical-align: top;\n",
       "    }\n",
       "\n",
       "    .dataframe thead th {\n",
       "        text-align: right;\n",
       "    }\n",
       "</style>\n",
       "<table border=\"1\" class=\"dataframe\">\n",
       "  <thead>\n",
       "    <tr style=\"text-align: right;\">\n",
       "      <th></th>\n",
       "      <th>receipt_id</th>\n",
       "      <th>bonusPointsEarned</th>\n",
       "      <th>bonusPointsEarnedReason</th>\n",
       "      <th>createDate</th>\n",
       "      <th>dateScanned</th>\n",
       "      <th>finishedDate</th>\n",
       "      <th>modifyDate</th>\n",
       "      <th>pointsAwardedDate</th>\n",
       "      <th>pointsEarned</th>\n",
       "      <th>purchaseDate</th>\n",
       "      <th>purchasedItemCount</th>\n",
       "      <th>rewardsReceiptStatus</th>\n",
       "      <th>totalSpent</th>\n",
       "      <th>user_id</th>\n",
       "    </tr>\n",
       "  </thead>\n",
       "  <tbody>\n",
       "    <tr>\n",
       "      <th>0</th>\n",
       "      <td>5ff1e1eb0a720f0523000575</td>\n",
       "      <td>500.0</td>\n",
       "      <td>Receipt number 2 completed, bonus point schedu...</td>\n",
       "      <td>2021-01-03 15:25:31</td>\n",
       "      <td>2021-01-03 15:25:31</td>\n",
       "      <td>2021-01-03 15:25:31</td>\n",
       "      <td>2021-01-03 15:25:36</td>\n",
       "      <td>2021-01-03 15:25:31</td>\n",
       "      <td>500.0</td>\n",
       "      <td>2021-01-03 00:00:00</td>\n",
       "      <td>5.0</td>\n",
       "      <td>FINISHED</td>\n",
       "      <td>26.0</td>\n",
       "      <td>5ff1e1eacfcf6c399c274ae6</td>\n",
       "    </tr>\n",
       "    <tr>\n",
       "      <th>1</th>\n",
       "      <td>5ff1e1bb0a720f052300056b</td>\n",
       "      <td>150.0</td>\n",
       "      <td>Receipt number 5 completed, bonus point schedu...</td>\n",
       "      <td>2021-01-03 15:24:43</td>\n",
       "      <td>2021-01-03 15:24:43</td>\n",
       "      <td>2021-01-03 15:24:43</td>\n",
       "      <td>2021-01-03 15:24:48</td>\n",
       "      <td>2021-01-03 15:24:43</td>\n",
       "      <td>150.0</td>\n",
       "      <td>2021-01-02 15:24:43</td>\n",
       "      <td>2.0</td>\n",
       "      <td>FINISHED</td>\n",
       "      <td>11.0</td>\n",
       "      <td>5ff1e194b6a9d73a3a9f1052</td>\n",
       "    </tr>\n",
       "    <tr>\n",
       "      <th>2</th>\n",
       "      <td>5ff1e1f10a720f052300057a</td>\n",
       "      <td>5.0</td>\n",
       "      <td>All-receipts receipt bonus</td>\n",
       "      <td>2021-01-03 15:25:37</td>\n",
       "      <td>2021-01-03 15:25:37</td>\n",
       "      <td>NaT</td>\n",
       "      <td>2021-01-03 15:25:42</td>\n",
       "      <td>NaT</td>\n",
       "      <td>5.0</td>\n",
       "      <td>2021-01-03 00:00:00</td>\n",
       "      <td>1.0</td>\n",
       "      <td>REJECTED</td>\n",
       "      <td>10.0</td>\n",
       "      <td>5ff1e1f1cfcf6c399c274b0b</td>\n",
       "    </tr>\n",
       "    <tr>\n",
       "      <th>3</th>\n",
       "      <td>5ff1e1ee0a7214ada100056f</td>\n",
       "      <td>5.0</td>\n",
       "      <td>All-receipts receipt bonus</td>\n",
       "      <td>2021-01-03 15:25:34</td>\n",
       "      <td>2021-01-03 15:25:34</td>\n",
       "      <td>2021-01-03 15:25:34</td>\n",
       "      <td>2021-01-03 15:25:39</td>\n",
       "      <td>2021-01-03 15:25:34</td>\n",
       "      <td>5.0</td>\n",
       "      <td>2021-01-03 00:00:00</td>\n",
       "      <td>4.0</td>\n",
       "      <td>FINISHED</td>\n",
       "      <td>28.0</td>\n",
       "      <td>5ff1e1eacfcf6c399c274ae6</td>\n",
       "    </tr>\n",
       "    <tr>\n",
       "      <th>4</th>\n",
       "      <td>5ff1e1d20a7214ada1000561</td>\n",
       "      <td>5.0</td>\n",
       "      <td>All-receipts receipt bonus</td>\n",
       "      <td>2021-01-03 15:25:06</td>\n",
       "      <td>2021-01-03 15:25:06</td>\n",
       "      <td>2021-01-03 15:25:11</td>\n",
       "      <td>2021-01-03 15:25:11</td>\n",
       "      <td>2021-01-03 15:25:06</td>\n",
       "      <td>5.0</td>\n",
       "      <td>2021-01-02 15:25:06</td>\n",
       "      <td>2.0</td>\n",
       "      <td>FINISHED</td>\n",
       "      <td>1.0</td>\n",
       "      <td>5ff1e194b6a9d73a3a9f1052</td>\n",
       "    </tr>\n",
       "  </tbody>\n",
       "</table>\n",
       "</div>"
      ],
      "text/plain": [
       "                 receipt_id  bonusPointsEarned  \\\n",
       "0  5ff1e1eb0a720f0523000575              500.0   \n",
       "1  5ff1e1bb0a720f052300056b              150.0   \n",
       "2  5ff1e1f10a720f052300057a                5.0   \n",
       "3  5ff1e1ee0a7214ada100056f                5.0   \n",
       "4  5ff1e1d20a7214ada1000561                5.0   \n",
       "\n",
       "                             bonusPointsEarnedReason          createDate  \\\n",
       "0  Receipt number 2 completed, bonus point schedu... 2021-01-03 15:25:31   \n",
       "1  Receipt number 5 completed, bonus point schedu... 2021-01-03 15:24:43   \n",
       "2                         All-receipts receipt bonus 2021-01-03 15:25:37   \n",
       "3                         All-receipts receipt bonus 2021-01-03 15:25:34   \n",
       "4                         All-receipts receipt bonus 2021-01-03 15:25:06   \n",
       "\n",
       "          dateScanned        finishedDate          modifyDate  \\\n",
       "0 2021-01-03 15:25:31 2021-01-03 15:25:31 2021-01-03 15:25:36   \n",
       "1 2021-01-03 15:24:43 2021-01-03 15:24:43 2021-01-03 15:24:48   \n",
       "2 2021-01-03 15:25:37                 NaT 2021-01-03 15:25:42   \n",
       "3 2021-01-03 15:25:34 2021-01-03 15:25:34 2021-01-03 15:25:39   \n",
       "4 2021-01-03 15:25:06 2021-01-03 15:25:11 2021-01-03 15:25:11   \n",
       "\n",
       "    pointsAwardedDate  pointsEarned        purchaseDate  purchasedItemCount  \\\n",
       "0 2021-01-03 15:25:31         500.0 2021-01-03 00:00:00                 5.0   \n",
       "1 2021-01-03 15:24:43         150.0 2021-01-02 15:24:43                 2.0   \n",
       "2                 NaT           5.0 2021-01-03 00:00:00                 1.0   \n",
       "3 2021-01-03 15:25:34           5.0 2021-01-03 00:00:00                 4.0   \n",
       "4 2021-01-03 15:25:06           5.0 2021-01-02 15:25:06                 2.0   \n",
       "\n",
       "  rewardsReceiptStatus  totalSpent                   user_id  \n",
       "0             FINISHED        26.0  5ff1e1eacfcf6c399c274ae6  \n",
       "1             FINISHED        11.0  5ff1e194b6a9d73a3a9f1052  \n",
       "2             REJECTED        10.0  5ff1e1f1cfcf6c399c274b0b  \n",
       "3             FINISHED        28.0  5ff1e1eacfcf6c399c274ae6  \n",
       "4             FINISHED         1.0  5ff1e194b6a9d73a3a9f1052  "
      ]
     },
     "execution_count": 37,
     "metadata": {},
     "output_type": "execute_result"
    }
   ],
   "source": [
    "receipts = receipts.rename(columns = {'userId':'user_id'})\n",
    "receipts.head()"
   ]
  },
  {
   "cell_type": "code",
   "execution_count": 38,
   "id": "e22b7d83-f265-454f-abc8-2eede8e28e67",
   "metadata": {
    "execution": {
     "iopub.execute_input": "2024-03-10T17:34:05.399460Z",
     "iopub.status.busy": "2024-03-10T17:34:05.398970Z",
     "iopub.status.idle": "2024-03-10T17:34:05.425732Z",
     "shell.execute_reply": "2024-03-10T17:34:05.425072Z",
     "shell.execute_reply.started": "2024-03-10T17:34:05.399438Z"
    },
    "tags": []
   },
   "outputs": [
    {
     "data": {
      "text/html": [
       "<div>\n",
       "<style scoped>\n",
       "    .dataframe tbody tr th:only-of-type {\n",
       "        vertical-align: middle;\n",
       "    }\n",
       "\n",
       "    .dataframe tbody tr th {\n",
       "        vertical-align: top;\n",
       "    }\n",
       "\n",
       "    .dataframe thead th {\n",
       "        text-align: right;\n",
       "    }\n",
       "</style>\n",
       "<table border=\"1\" class=\"dataframe\">\n",
       "  <thead>\n",
       "    <tr style=\"text-align: right;\">\n",
       "      <th></th>\n",
       "      <th>description</th>\n",
       "      <th>rewardsGroup</th>\n",
       "      <th>userFlaggedQuantity</th>\n",
       "      <th>quantityPurchased</th>\n",
       "      <th>originalReceiptItemText</th>\n",
       "      <th>receipt_id</th>\n",
       "      <th>partnerItemId</th>\n",
       "      <th>pointsEarned</th>\n",
       "      <th>metabriteCampaignId</th>\n",
       "      <th>originalMetaBriteBarcode</th>\n",
       "      <th>...</th>\n",
       "      <th>finalPrice</th>\n",
       "      <th>barcode</th>\n",
       "      <th>userFlaggedNewItem</th>\n",
       "      <th>competitorRewardsGroup</th>\n",
       "      <th>userFlaggedBarcode</th>\n",
       "      <th>needsFetchReviewReason</th>\n",
       "      <th>originalMetaBriteQuantityPurchased</th>\n",
       "      <th>originalMetaBriteItemPrice</th>\n",
       "      <th>userFlaggedDescription</th>\n",
       "      <th>itemPrice</th>\n",
       "    </tr>\n",
       "  </thead>\n",
       "  <tbody>\n",
       "    <tr>\n",
       "      <th>0</th>\n",
       "      <td>ITEM NOT FOUND</td>\n",
       "      <td>NaN</td>\n",
       "      <td>5.0</td>\n",
       "      <td>5.0</td>\n",
       "      <td>NaN</td>\n",
       "      <td>5ff1e1eb0a720f0523000575</td>\n",
       "      <td>1</td>\n",
       "      <td>NaN</td>\n",
       "      <td>NaN</td>\n",
       "      <td>NaN</td>\n",
       "      <td>...</td>\n",
       "      <td>26.0</td>\n",
       "      <td>4011</td>\n",
       "      <td>True</td>\n",
       "      <td>NaN</td>\n",
       "      <td>4011</td>\n",
       "      <td>NaN</td>\n",
       "      <td>NaN</td>\n",
       "      <td>NaN</td>\n",
       "      <td>NaN</td>\n",
       "      <td>26.0</td>\n",
       "    </tr>\n",
       "    <tr>\n",
       "      <th>1</th>\n",
       "      <td>ITEM NOT FOUND</td>\n",
       "      <td>NaN</td>\n",
       "      <td>NaN</td>\n",
       "      <td>1.0</td>\n",
       "      <td>NaN</td>\n",
       "      <td>5ff1e1bb0a720f052300056b</td>\n",
       "      <td>1</td>\n",
       "      <td>NaN</td>\n",
       "      <td>NaN</td>\n",
       "      <td>NaN</td>\n",
       "      <td>...</td>\n",
       "      <td>1.0</td>\n",
       "      <td>4011</td>\n",
       "      <td>NaN</td>\n",
       "      <td>NaN</td>\n",
       "      <td>NaN</td>\n",
       "      <td>NaN</td>\n",
       "      <td>NaN</td>\n",
       "      <td>NaN</td>\n",
       "      <td>NaN</td>\n",
       "      <td>1.0</td>\n",
       "    </tr>\n",
       "    <tr>\n",
       "      <th>2</th>\n",
       "      <td>DORITOS TORTILLA CHIP SPICY SWEET CHILI REDUCE...</td>\n",
       "      <td>DORITOS SPICY SWEET CHILI SINGLE SERVE</td>\n",
       "      <td>1.0</td>\n",
       "      <td>1.0</td>\n",
       "      <td>NaN</td>\n",
       "      <td>5ff1e1bb0a720f052300056b</td>\n",
       "      <td>2</td>\n",
       "      <td>NaN</td>\n",
       "      <td>NaN</td>\n",
       "      <td>NaN</td>\n",
       "      <td>...</td>\n",
       "      <td>10.0</td>\n",
       "      <td>028400642255</td>\n",
       "      <td>True</td>\n",
       "      <td>NaN</td>\n",
       "      <td>028400642255</td>\n",
       "      <td>USER_FLAGGED</td>\n",
       "      <td>NaN</td>\n",
       "      <td>NaN</td>\n",
       "      <td>DORITOS TORTILLA CHIP SPICY SWEET CHILI REDUCE...</td>\n",
       "      <td>10.0</td>\n",
       "    </tr>\n",
       "    <tr>\n",
       "      <th>3</th>\n",
       "      <td>NaN</td>\n",
       "      <td>NaN</td>\n",
       "      <td>3.0</td>\n",
       "      <td>NaN</td>\n",
       "      <td>NaN</td>\n",
       "      <td>5ff1e1f10a720f052300057a</td>\n",
       "      <td>1</td>\n",
       "      <td>NaN</td>\n",
       "      <td>NaN</td>\n",
       "      <td>NaN</td>\n",
       "      <td>...</td>\n",
       "      <td>NaN</td>\n",
       "      <td>NaN</td>\n",
       "      <td>True</td>\n",
       "      <td>NaN</td>\n",
       "      <td>4011</td>\n",
       "      <td>NaN</td>\n",
       "      <td>NaN</td>\n",
       "      <td>NaN</td>\n",
       "      <td>NaN</td>\n",
       "      <td>NaN</td>\n",
       "    </tr>\n",
       "    <tr>\n",
       "      <th>4</th>\n",
       "      <td>ITEM NOT FOUND</td>\n",
       "      <td>NaN</td>\n",
       "      <td>4.0</td>\n",
       "      <td>4.0</td>\n",
       "      <td>NaN</td>\n",
       "      <td>5ff1e1ee0a7214ada100056f</td>\n",
       "      <td>1</td>\n",
       "      <td>NaN</td>\n",
       "      <td>NaN</td>\n",
       "      <td>NaN</td>\n",
       "      <td>...</td>\n",
       "      <td>28.0</td>\n",
       "      <td>4011</td>\n",
       "      <td>True</td>\n",
       "      <td>NaN</td>\n",
       "      <td>4011</td>\n",
       "      <td>NaN</td>\n",
       "      <td>NaN</td>\n",
       "      <td>NaN</td>\n",
       "      <td>NaN</td>\n",
       "      <td>28.0</td>\n",
       "    </tr>\n",
       "  </tbody>\n",
       "</table>\n",
       "<p>5 rows × 35 columns</p>\n",
       "</div>"
      ],
      "text/plain": [
       "                                         description  \\\n",
       "0                                     ITEM NOT FOUND   \n",
       "1                                     ITEM NOT FOUND   \n",
       "2  DORITOS TORTILLA CHIP SPICY SWEET CHILI REDUCE...   \n",
       "3                                                NaN   \n",
       "4                                     ITEM NOT FOUND   \n",
       "\n",
       "                             rewardsGroup  userFlaggedQuantity  \\\n",
       "0                                     NaN                  5.0   \n",
       "1                                     NaN                  NaN   \n",
       "2  DORITOS SPICY SWEET CHILI SINGLE SERVE                  1.0   \n",
       "3                                     NaN                  3.0   \n",
       "4                                     NaN                  4.0   \n",
       "\n",
       "   quantityPurchased originalReceiptItemText                receipt_id  \\\n",
       "0                5.0                     NaN  5ff1e1eb0a720f0523000575   \n",
       "1                1.0                     NaN  5ff1e1bb0a720f052300056b   \n",
       "2                1.0                     NaN  5ff1e1bb0a720f052300056b   \n",
       "3                NaN                     NaN  5ff1e1f10a720f052300057a   \n",
       "4                4.0                     NaN  5ff1e1ee0a7214ada100056f   \n",
       "\n",
       "  partnerItemId  pointsEarned metabriteCampaignId originalMetaBriteBarcode  \\\n",
       "0             1           NaN                 NaN                      NaN   \n",
       "1             1           NaN                 NaN                      NaN   \n",
       "2             2           NaN                 NaN                      NaN   \n",
       "3             1           NaN                 NaN                      NaN   \n",
       "4             1           NaN                 NaN                      NaN   \n",
       "\n",
       "   ... finalPrice       barcode userFlaggedNewItem  competitorRewardsGroup  \\\n",
       "0  ...       26.0          4011               True                     NaN   \n",
       "1  ...        1.0          4011                NaN                     NaN   \n",
       "2  ...       10.0  028400642255               True                     NaN   \n",
       "3  ...        NaN           NaN               True                     NaN   \n",
       "4  ...       28.0          4011               True                     NaN   \n",
       "\n",
       "  userFlaggedBarcode needsFetchReviewReason  \\\n",
       "0               4011                    NaN   \n",
       "1                NaN                    NaN   \n",
       "2       028400642255           USER_FLAGGED   \n",
       "3               4011                    NaN   \n",
       "4               4011                    NaN   \n",
       "\n",
       "  originalMetaBriteQuantityPurchased  originalMetaBriteItemPrice  \\\n",
       "0                                NaN                         NaN   \n",
       "1                                NaN                         NaN   \n",
       "2                                NaN                         NaN   \n",
       "3                                NaN                         NaN   \n",
       "4                                NaN                         NaN   \n",
       "\n",
       "                              userFlaggedDescription itemPrice  \n",
       "0                                                NaN      26.0  \n",
       "1                                                NaN       1.0  \n",
       "2  DORITOS TORTILLA CHIP SPICY SWEET CHILI REDUCE...      10.0  \n",
       "3                                                NaN       NaN  \n",
       "4                                                NaN      28.0  \n",
       "\n",
       "[5 rows x 35 columns]"
      ]
     },
     "execution_count": 38,
     "metadata": {},
     "output_type": "execute_result"
    }
   ],
   "source": [
    "receipts_items.head()"
   ]
  },
  {
   "cell_type": "code",
   "execution_count": 39,
   "id": "8be0d002-174d-4d64-8eb5-7ebd7ff3644f",
   "metadata": {
    "execution": {
     "iopub.execute_input": "2024-03-10T17:34:05.426932Z",
     "iopub.status.busy": "2024-03-10T17:34:05.426671Z",
     "iopub.status.idle": "2024-03-10T17:34:05.591700Z",
     "shell.execute_reply": "2024-03-10T17:34:05.591055Z",
     "shell.execute_reply.started": "2024-03-10T17:34:05.426911Z"
    },
    "tags": []
   },
   "outputs": [
    {
     "data": {
      "text/html": [
       "<div>\n",
       "<style scoped>\n",
       "    .dataframe tbody tr th:only-of-type {\n",
       "        vertical-align: middle;\n",
       "    }\n",
       "\n",
       "    .dataframe tbody tr th {\n",
       "        vertical-align: top;\n",
       "    }\n",
       "\n",
       "    .dataframe thead th {\n",
       "        text-align: right;\n",
       "    }\n",
       "</style>\n",
       "<table border=\"1\" class=\"dataframe\">\n",
       "  <thead>\n",
       "    <tr style=\"text-align: right;\">\n",
       "      <th></th>\n",
       "      <th>cpg_id</th>\n",
       "      <th>ref</th>\n",
       "      <th>brand_id</th>\n",
       "    </tr>\n",
       "  </thead>\n",
       "  <tbody>\n",
       "    <tr>\n",
       "      <th>0</th>\n",
       "      <td>601ac114be37ce2ead437550</td>\n",
       "      <td>Cogs</td>\n",
       "      <td>601ac115be37ce2ead437551</td>\n",
       "    </tr>\n",
       "    <tr>\n",
       "      <th>1</th>\n",
       "      <td>5332f5fbe4b03c9a25efd0ba</td>\n",
       "      <td>Cogs</td>\n",
       "      <td>601c5460be37ce2ead43755f</td>\n",
       "    </tr>\n",
       "    <tr>\n",
       "      <th>2</th>\n",
       "      <td>601ac142be37ce2ead437559</td>\n",
       "      <td>Cogs</td>\n",
       "      <td>601ac142be37ce2ead43755d</td>\n",
       "    </tr>\n",
       "    <tr>\n",
       "      <th>3</th>\n",
       "      <td>601ac142be37ce2ead437559</td>\n",
       "      <td>Cogs</td>\n",
       "      <td>601ac142be37ce2ead43755a</td>\n",
       "    </tr>\n",
       "    <tr>\n",
       "      <th>4</th>\n",
       "      <td>5332fa12e4b03c9a25efd1e7</td>\n",
       "      <td>Cogs</td>\n",
       "      <td>601ac142be37ce2ead43755e</td>\n",
       "    </tr>\n",
       "  </tbody>\n",
       "</table>\n",
       "</div>"
      ],
      "text/plain": [
       "                     cpg_id   ref                  brand_id\n",
       "0  601ac114be37ce2ead437550  Cogs  601ac115be37ce2ead437551\n",
       "1  5332f5fbe4b03c9a25efd0ba  Cogs  601c5460be37ce2ead43755f\n",
       "2  601ac142be37ce2ead437559  Cogs  601ac142be37ce2ead43755d\n",
       "3  601ac142be37ce2ead437559  Cogs  601ac142be37ce2ead43755a\n",
       "4  5332fa12e4b03c9a25efd1e7  Cogs  601ac142be37ce2ead43755e"
      ]
     },
     "execution_count": 39,
     "metadata": {},
     "output_type": "execute_result"
    }
   ],
   "source": [
    "cpg = cpg.rename(columns = {\"id\":\"cpg_id\"})\n",
    "cpg.head()"
   ]
  },
  {
   "cell_type": "markdown",
   "id": "a93a8a43-bbcd-4328-838d-c79614abe53b",
   "metadata": {},
   "source": [
    "It seems the final element to investigate, now, is how the brands table and the receipts_items table are related. The feature barcode seems like it might possibly be able to serve as a primary or foreign key in the receipts table."
   ]
  },
  {
   "cell_type": "code",
   "execution_count": 40,
   "id": "84f7d7df-91be-41e9-9161-443e64ecf084",
   "metadata": {
    "execution": {
     "iopub.execute_input": "2024-03-10T17:34:05.593126Z",
     "iopub.status.busy": "2024-03-10T17:34:05.592609Z",
     "iopub.status.idle": "2024-03-10T17:34:05.635434Z",
     "shell.execute_reply": "2024-03-10T17:34:05.634719Z",
     "shell.execute_reply.started": "2024-03-10T17:34:05.593102Z"
    },
    "tags": []
   },
   "outputs": [
    {
     "name": "stdout",
     "output_type": "stream",
     "text": [
      "False\n",
      "False\n"
     ]
    }
   ],
   "source": [
    "#first, verify barcode is unique in neither brands or receipts_items tables\n",
    "print(len(receipts_items['barcode'])==len(receipts_items['barcode'].unique()))\n",
    "print(len(brands['barcode']) == len(brands['barcode'].unique()))"
   ]
  },
  {
   "cell_type": "code",
   "execution_count": 41,
   "id": "22cfcecb-344e-4de8-8495-3e04b1a8a9ee",
   "metadata": {
    "execution": {
     "iopub.execute_input": "2024-03-10T17:34:05.636929Z",
     "iopub.status.busy": "2024-03-10T17:34:05.636398Z",
     "iopub.status.idle": "2024-03-10T17:34:05.778857Z",
     "shell.execute_reply": "2024-03-10T17:34:05.778129Z",
     "shell.execute_reply.started": "2024-03-10T17:34:05.636903Z"
    },
    "tags": []
   },
   "outputs": [
    {
     "name": "stdout",
     "output_type": "stream",
     "text": [
      "False\n"
     ]
    }
   ],
   "source": [
    "#are the barcodes in the brands table the same barcodes as in the receipts_items table?\n",
    "barcodes_brands = set()\n",
    "for barcode in brands['barcode']:\n",
    "    barcodes_brands.add(str(barcode))\n",
    "    \n",
    "barcodes_items = set()\n",
    "for barcode in receipts_items['barcode']:\n",
    "    barcodes_items.add(str(barcode))\n",
    "    \n",
    "print(barcodes_brands==barcodes_items)"
   ]
  },
  {
   "cell_type": "markdown",
   "id": "8321c12f-b0fc-469a-a2eb-9df262da6a0e",
   "metadata": {},
   "source": [
    "It seems that the brands table will not have a foreign key to the receipts_items table, but could be related to the receipts_items table through the barcodes field."
   ]
  },
  {
   "cell_type": "markdown",
   "id": "a289eae2-62ea-48d1-812b-fedf1fd76127",
   "metadata": {},
   "source": [
    "### Entity Relationships:\n",
    "\n",
    "Please see file name \"ER_Diagram_Fetch.jpg\" in the repository for a copy of the ER diagram for the data in this exercise. The tables are related in the following way:\n",
    "\n",
    "- The receipts table has primary key 'receipt_id' for each receipt generated, which has a one-to-many relationship to the foreign key by the same name in the receipts_items table. The receipts table also has a foreign key 'user_id' that references the primary key 'user_id' in the users table. This relationship is many-to-one.\n",
    "\n",
    "- The receipts_items table has the foreign key 'receipt_id' which references 'receipt_id' in the receipts table. The field 'barcode' in the receipts_items table is related to the field 'barcode' in the brands table with a many-to-many relationship.\n",
    "\n",
    "- The brands table has a primary key 'brand_id' that is referenced by the foreign key 'brand_id' in the cpg table. The brands table also has a foreign key 'cpg_id' that references the primary key of the same name in the cpg table."
   ]
  },
  {
   "cell_type": "code",
   "execution_count": 42,
   "id": "ecf32f63-8cad-48ff-8a15-f61c71587683",
   "metadata": {
    "execution": {
     "iopub.execute_input": "2024-03-10T17:34:05.780590Z",
     "iopub.status.busy": "2024-03-10T17:34:05.779989Z",
     "iopub.status.idle": "2024-03-10T17:34:07.730010Z",
     "shell.execute_reply": "2024-03-10T17:34:07.729280Z",
     "shell.execute_reply.started": "2024-03-10T17:34:05.780566Z"
    },
    "tags": []
   },
   "outputs": [
    {
     "data": {
      "text/plain": [
       "(-0.5, 1994.5, 2499.5, -0.5)"
      ]
     },
     "execution_count": 42,
     "metadata": {},
     "output_type": "execute_result"
    },
    {
     "data": {
      "image/png": "[encoded data removed]",
      "text/plain": [
       "<Figure size 1500x1300 with 1 Axes>"
      ]
     },
     "metadata": {},
     "output_type": "display_data"
    }
   ],
   "source": [
    "import matplotlib.pyplot as plt\n",
    "import matplotlib.image as mpimg\n",
    "fig, ax = plt.subplots(figsize=(15, 13))\n",
    "ax.imshow(mpimg.imread('ER_Diagram_Fetch.jpg'), aspect = 'auto')\n",
    "ax.axis(\"off\")"
   ]
  },
  {
   "cell_type": "markdown",
   "id": "8d543ab6-d8d7-424e-84bb-376d1a848fdb",
   "metadata": {},
   "source": [
    "## 2 SQL Queries for Business Questions\n",
    "\n",
    "Let us use the pandasql package to query against these tables we have structured as pandas dataframes. \n",
    "\n",
    "I will start by answering the third and fourth questions:\n",
    "\n",
    "- When considering average spend from receipts with 'rewardsReceiptStatus’ of ‘Accepted’ or ‘Rejected’, which is greater?\n",
    "- When considering total number of items purchased from receipts with 'rewardsReceiptStatus’ of ‘Accepted’ or ‘Rejected’, which is greater?"
   ]
  },
  {
   "cell_type": "code",
   "execution_count": 43,
   "id": "5f4bd770-c79e-4ff0-9a2a-5c5625e472cb",
   "metadata": {
    "execution": {
     "iopub.execute_input": "2024-03-10T17:34:07.731924Z",
     "iopub.status.busy": "2024-03-10T17:34:07.731063Z",
     "iopub.status.idle": "2024-03-10T17:34:17.182313Z",
     "shell.execute_reply": "2024-03-10T17:34:17.181490Z",
     "shell.execute_reply.started": "2024-03-10T17:34:07.731887Z"
    },
    "tags": []
   },
   "outputs": [
    {
     "name": "stdout",
     "output_type": "stream",
     "text": [
      "Defaulting to user installation because normal site-packages is not writeable\n",
      "Requirement already satisfied: pandasql in /arc/home/spasquin/.local/lib/python3.9/site-packages (0.7.3)\n",
      "Requirement already satisfied: numpy in /arc/home/spasquin/.local/lib/python3.9/site-packages (from pandasql) (1.26.4)\n",
      "Requirement already satisfied: sqlalchemy in /opt/conda/lib/python3.9/site-packages (from pandasql) (1.4.41)\n",
      "Requirement already satisfied: pandas in /opt/conda/lib/python3.9/site-packages (from pandasql) (1.5.0)\n",
      "Requirement already satisfied: python-dateutil>=2.8.1 in /opt/conda/lib/python3.9/site-packages (from pandas->pandasql) (2.8.2)\n",
      "Requirement already satisfied: pytz>=2020.1 in /arc/home/spasquin/.local/lib/python3.9/site-packages (from pandas->pandasql) (2023.3.post1)\n",
      "Requirement already satisfied: greenlet!=0.4.17 in /opt/conda/lib/python3.9/site-packages (from sqlalchemy->pandasql) (1.1.3)\n",
      "Requirement already satisfied: six>=1.5 in /opt/conda/lib/python3.9/site-packages (from python-dateutil>=2.8.1->pandas->pandasql) (1.16.0)\n",
      "Note: you may need to restart the kernel to use updated packages.\n"
     ]
    }
   ],
   "source": [
    "pip install pandasql"
   ]
  },
  {
   "cell_type": "code",
   "execution_count": 44,
   "id": "00338b1f-1b6b-4921-9968-028ea5f9f86b",
   "metadata": {
    "execution": {
     "iopub.execute_input": "2024-03-10T17:34:17.183779Z",
     "iopub.status.busy": "2024-03-10T17:34:17.183495Z",
     "iopub.status.idle": "2024-03-10T17:34:17.562232Z",
     "shell.execute_reply": "2024-03-10T17:34:17.561491Z",
     "shell.execute_reply.started": "2024-03-10T17:34:17.183750Z"
    }
   },
   "outputs": [],
   "source": [
    "from pandasql import sqldf"
   ]
  },
  {
   "cell_type": "code",
   "execution_count": 45,
   "id": "cc09ff60-dfc7-4893-aac6-bf600cde4100",
   "metadata": {
    "execution": {
     "iopub.execute_input": "2024-03-10T17:34:17.563477Z",
     "iopub.status.busy": "2024-03-10T17:34:17.563068Z",
     "iopub.status.idle": "2024-03-10T17:34:17.572572Z",
     "shell.execute_reply": "2024-03-10T17:34:17.572015Z",
     "shell.execute_reply.started": "2024-03-10T17:34:17.563453Z"
    }
   },
   "outputs": [
    {
     "data": {
      "text/plain": [
       "FINISHED     518\n",
       "SUBMITTED    434\n",
       "REJECTED      71\n",
       "PENDING       50\n",
       "FLAGGED       46\n",
       "Name: rewardsReceiptStatus, dtype: int64"
      ]
     },
     "execution_count": 45,
     "metadata": {},
     "output_type": "execute_result"
    }
   ],
   "source": [
    "receipts.rewardsReceiptStatus.value_counts()"
   ]
  },
  {
   "cell_type": "markdown",
   "id": "410b332e-0642-4608-86d9-c6536acf362b",
   "metadata": {},
   "source": [
    "NOTE: It seems the corresponding factor to 'Accepted' would be 'FINISHED'."
   ]
  },
  {
   "cell_type": "code",
   "execution_count": 46,
   "id": "702d02c6-40cb-4daa-97b8-2399fbbd8da0",
   "metadata": {
    "execution": {
     "iopub.execute_input": "2024-03-10T17:34:17.573600Z",
     "iopub.status.busy": "2024-03-10T17:34:17.573365Z",
     "iopub.status.idle": "2024-03-10T17:34:17.791274Z",
     "shell.execute_reply": "2024-03-10T17:34:17.790670Z",
     "shell.execute_reply.started": "2024-03-10T17:34:17.573580Z"
    },
    "tags": []
   },
   "outputs": [
    {
     "data": {
      "text/html": [
       "<div>\n",
       "<style scoped>\n",
       "    .dataframe tbody tr th:only-of-type {\n",
       "        vertical-align: middle;\n",
       "    }\n",
       "\n",
       "    .dataframe tbody tr th {\n",
       "        vertical-align: top;\n",
       "    }\n",
       "\n",
       "    .dataframe thead th {\n",
       "        text-align: right;\n",
       "    }\n",
       "</style>\n",
       "<table border=\"1\" class=\"dataframe\">\n",
       "  <thead>\n",
       "    <tr style=\"text-align: right;\">\n",
       "      <th></th>\n",
       "      <th>avg_spend</th>\n",
       "      <th>total_items</th>\n",
       "      <th>accepted_bool</th>\n",
       "    </tr>\n",
       "  </thead>\n",
       "  <tbody>\n",
       "    <tr>\n",
       "      <th>0</th>\n",
       "      <td>23.326056</td>\n",
       "      <td>173.0</td>\n",
       "      <td>0</td>\n",
       "    </tr>\n",
       "    <tr>\n",
       "      <th>1</th>\n",
       "      <td>80.854305</td>\n",
       "      <td>8184.0</td>\n",
       "      <td>1</td>\n",
       "    </tr>\n",
       "  </tbody>\n",
       "</table>\n",
       "</div>"
      ],
      "text/plain": [
       "   avg_spend  total_items  accepted_bool\n",
       "0  23.326056        173.0              0\n",
       "1  80.854305       8184.0              1"
      ]
     },
     "execution_count": 46,
     "metadata": {},
     "output_type": "execute_result"
    }
   ],
   "source": [
    "#to answer these questions, we need only aggregate records from the receipts table\n",
    "sqldf('''WITH accepted AS (\n",
    "SELECT AVG(totalSpent) avg_spend,\n",
    "SUM(purchasedItemCount) total_items,\n",
    "1 AS accepted_bool\n",
    "FROM receipts WHERE rewardsReceiptStatus = 'FINISHED'\n",
    "),\n",
    "rejected AS(\n",
    "SELECT AVG(totalSpent) avg_spend,\n",
    "SUM(purchasedItemCount) total_items,\n",
    "0 AS accepted_bool\n",
    "FROM receipts WHERE rewardsReceiptStatus = 'REJECTED'\n",
    ")\n",
    "SELECT * FROM accepted union SELECT * FROM rejected\n",
    "''')"
   ]
  },
  {
   "cell_type": "markdown",
   "id": "94df55d3-d021-4d8a-8930-69202be25239",
   "metadata": {},
   "source": [
    "We can see from the result of this query that the receipts whose rewardReceiptStatus is \"Accepted\" have a much higher average spend and count of total items purchased than those whose rewardReceiptStatus is \"Rejected\"."
   ]
  },
  {
   "cell_type": "markdown",
   "id": "e486155b-5567-444b-b051-83a93322a526",
   "metadata": {},
   "source": [
    "## 3) Identify Data Quality Issues"
   ]
  },
  {
   "cell_type": "code",
   "execution_count": 47,
   "id": "c5cfc760-9984-47b0-b5f4-27313911e2a0",
   "metadata": {
    "execution": {
     "iopub.execute_input": "2024-03-10T17:37:25.868800Z",
     "iopub.status.busy": "2024-03-10T17:37:25.868004Z",
     "iopub.status.idle": "2024-03-10T17:37:25.890232Z",
     "shell.execute_reply": "2024-03-10T17:37:25.889287Z",
     "shell.execute_reply.started": "2024-03-10T17:37:25.868757Z"
    }
   },
   "outputs": [
    {
     "name": "stdout",
     "output_type": "stream",
     "text": [
      "<class 'pandas.core.frame.DataFrame'>\n",
      "RangeIndex: 1119 entries, 0 to 1118\n",
      "Data columns (total 14 columns):\n",
      " #   Column                   Non-Null Count  Dtype         \n",
      "---  ------                   --------------  -----         \n",
      " 0   receipt_id               1119 non-null   object        \n",
      " 1   bonusPointsEarned        544 non-null    float64       \n",
      " 2   bonusPointsEarnedReason  544 non-null    object        \n",
      " 3   createDate               1119 non-null   datetime64[ns]\n",
      " 4   dateScanned              1119 non-null   datetime64[ns]\n",
      " 5   finishedDate             568 non-null    datetime64[ns]\n",
      " 6   modifyDate               1119 non-null   datetime64[ns]\n",
      " 7   pointsAwardedDate        537 non-null    datetime64[ns]\n",
      " 8   pointsEarned             609 non-null    float64       \n",
      " 9   purchaseDate             671 non-null    datetime64[ns]\n",
      " 10  purchasedItemCount       635 non-null    float64       \n",
      " 11  rewardsReceiptStatus     1119 non-null   object        \n",
      " 12  totalSpent               684 non-null    float64       \n",
      " 13  user_id                  1119 non-null   object        \n",
      "dtypes: datetime64[ns](6), float64(4), object(4)\n",
      "memory usage: 122.5+ KB\n"
     ]
    }
   ],
   "source": [
    "#starting with the receipts table\n",
    "receipts.info()"
   ]
  },
  {
   "cell_type": "markdown",
   "id": "e4dcf616-72c1-44e7-8ae5-cde55fad16f7",
   "metadata": {},
   "source": [
    "It seems there are many null entries in the receipts table - why would that be when there is a user identified for each of the receipts?"
   ]
  },
  {
   "cell_type": "code",
   "execution_count": 50,
   "id": "8d1acbc2-2d3e-4cd9-a318-ea5a74f10254",
   "metadata": {
    "execution": {
     "iopub.execute_input": "2024-03-10T17:40:39.366677Z",
     "iopub.status.busy": "2024-03-10T17:40:39.365833Z",
     "iopub.status.idle": "2024-03-10T17:40:39.379142Z",
     "shell.execute_reply": "2024-03-10T17:40:39.378406Z",
     "shell.execute_reply.started": "2024-03-10T17:40:39.366648Z"
    },
    "tags": []
   },
   "outputs": [
    {
     "name": "stdout",
     "output_type": "stream",
     "text": [
      "<class 'pandas.core.frame.DataFrame'>\n",
      "Int64Index: 582 entries, 2 to 1118\n",
      "Data columns (total 14 columns):\n",
      " #   Column                   Non-Null Count  Dtype         \n",
      "---  ------                   --------------  -----         \n",
      " 0   receipt_id               582 non-null    object        \n",
      " 1   bonusPointsEarned        65 non-null     float64       \n",
      " 2   bonusPointsEarnedReason  65 non-null     object        \n",
      " 3   createDate               582 non-null    datetime64[ns]\n",
      " 4   dateScanned              582 non-null    datetime64[ns]\n",
      " 5   finishedDate             54 non-null     datetime64[ns]\n",
      " 6   modifyDate               582 non-null    datetime64[ns]\n",
      " 7   pointsAwardedDate        0 non-null      datetime64[ns]\n",
      " 8   pointsEarned             72 non-null     float64       \n",
      " 9   purchaseDate             134 non-null    datetime64[ns]\n",
      " 10  purchasedItemCount       98 non-null     float64       \n",
      " 11  rewardsReceiptStatus     582 non-null    object        \n",
      " 12  totalSpent               147 non-null    float64       \n",
      " 13  user_id                  582 non-null    object        \n",
      "dtypes: datetime64[ns](6), float64(4), object(4)\n",
      "memory usage: 68.2+ KB\n"
     ]
    }
   ],
   "source": [
    "#let's take a look at the receipts with null values in pointsAwardedDate\n",
    "receipts.loc[receipts.pointsAwardedDate.isnull()].info()\n"
   ]
  },
  {
   "cell_type": "markdown",
   "id": "b547fe9d-d0ac-40c1-88b9-8803dc23933c",
   "metadata": {},
   "source": [
    "It seems as though the missing data might be attributed to the cases where the transaction at hand either does not involve the earning/awarding of points (only a few of these records actually have points earned) or the finishedDate field is also null. I wonder whether the finishedDate field implies an error with connecting/communitating with the database that houses each user's points balance and a null finishedDate field means this communication was unsuccessful? If so, that would explain why so many of the pointsAwardedDate fields are null.\n",
    "\n",
    "- It does not seem odd that the fields relating to earning bonus points are largely null as these are typically uncommon events.\n",
    "\n",
    "- It also does not seem off that the purchaseDate and totalSpent fields have many null entries - a transaction does not necessarily have to constitute a purchase (a return, or points balance inquiry, for example are other possible transaction types)."
   ]
  },
  {
   "cell_type": "code",
   "execution_count": 66,
   "id": "df8119f1-4fef-47ec-9415-602026a61390",
   "metadata": {
    "execution": {
     "iopub.execute_input": "2024-03-10T18:09:38.409290Z",
     "iopub.status.busy": "2024-03-10T18:09:38.408169Z",
     "iopub.status.idle": "2024-03-10T18:09:39.986353Z",
     "shell.execute_reply": "2024-03-10T18:09:39.985514Z",
     "shell.execute_reply.started": "2024-03-10T18:09:38.409254Z"
    }
   },
   "outputs": [
    {
     "data": {
      "text/plain": [
       "<AxesSubplot: xlabel='pointsEarned', ylabel='Density'>"
      ]
     },
     "execution_count": 66,
     "metadata": {},
     "output_type": "execute_result"
    },
    {
     "data": {
      "image/png": "[encoded data removed]",
      "text/plain": [
       "<Figure size 640x480 with 1 Axes>"
      ]
     },
     "metadata": {},
     "output_type": "display_data"
    }
   ],
   "source": [
    "# let's take a peek at the distribution of pointsEarned\n",
    "import seaborn as sns\n",
    "sns.distplot(receipts.pointsEarned)"
   ]
  },
  {
   "cell_type": "code",
   "execution_count": 75,
   "id": "e7044c19-09a9-49a8-abc3-0102d267c68b",
   "metadata": {
    "execution": {
     "iopub.execute_input": "2024-03-10T18:11:47.848187Z",
     "iopub.status.busy": "2024-03-10T18:11:47.847408Z",
     "iopub.status.idle": "2024-03-10T18:11:48.081241Z",
     "shell.execute_reply": "2024-03-10T18:11:48.080584Z",
     "shell.execute_reply.started": "2024-03-10T18:11:47.848156Z"
    },
    "tags": []
   },
   "outputs": [
    {
     "data": {
      "text/plain": [
       "(0.0, 0.0001)"
      ]
     },
     "execution_count": 75,
     "metadata": {},
     "output_type": "execute_result"
    },
    {
     "data": {
      "image/png": "[encoded data removed]",
      "text/plain": [
       "<Figure size 640x480 with 1 Axes>"
      ]
     },
     "metadata": {},
     "output_type": "display_data"
    }
   ],
   "source": [
    "#zoom in on the right hand tail of the distribution\n",
    "sns.distplot(receipts.pointsEarned)\n",
    "plt.xlim([6000,20000])\n",
    "plt.ylim([0,0.0001])"
   ]
  },
  {
   "cell_type": "markdown",
   "id": "4bf6478c-e10c-48b2-a194-7cfd777fcb33",
   "metadata": {},
   "source": [
    "This distribution checks out, we would expect there to be less people earning tonnes of points per transaction than those earning a smaller amount. This could be attributed to sale or other promotional events condusive to bulk-buying or a larger volume of points earned."
   ]
  },
  {
   "cell_type": "code",
   "execution_count": 77,
   "id": "6c6fc4ee-3e31-442a-afdd-834872593547",
   "metadata": {
    "execution": {
     "iopub.execute_input": "2024-03-10T18:13:52.540431Z",
     "iopub.status.busy": "2024-03-10T18:13:52.539670Z",
     "iopub.status.idle": "2024-03-10T18:13:52.717331Z",
     "shell.execute_reply": "2024-03-10T18:13:52.716631Z",
     "shell.execute_reply.started": "2024-03-10T18:13:52.540399Z"
    },
    "tags": []
   },
   "outputs": [
    {
     "data": {
      "text/plain": [
       "<AxesSubplot: xlabel='bonusPointsEarned', ylabel='Density'>"
      ]
     },
     "execution_count": 77,
     "metadata": {},
     "output_type": "execute_result"
    },
    {
     "data": {
      "image/png": "[encoded data removed]",
      "text/plain": [
       "<Figure size 640x480 with 1 Axes>"
      ]
     },
     "metadata": {},
     "output_type": "display_data"
    }
   ],
   "source": [
    "#what about the distribution for earning bonus points?\n",
    "sns.distplot(receipts.bonusPointsEarned)\n"
   ]
  },
  {
   "cell_type": "code",
   "execution_count": 79,
   "id": "e18b13f2-b0de-47d8-aef7-c35f3aaf05b9",
   "metadata": {
    "execution": {
     "iopub.execute_input": "2024-03-10T18:14:46.563762Z",
     "iopub.status.busy": "2024-03-10T18:14:46.563063Z",
     "iopub.status.idle": "2024-03-10T18:14:46.570651Z",
     "shell.execute_reply": "2024-03-10T18:14:46.570037Z",
     "shell.execute_reply.started": "2024-03-10T18:14:46.563733Z"
    },
    "tags": []
   },
   "outputs": [
    {
     "data": {
      "text/plain": [
       "All-receipts receipt bonus                                                             183\n",
       "Receipt number 1 completed, bonus point schedule DEFAULT (5cefdcacf3693e0b50e83a36)    119\n",
       "COMPLETE_NONPARTNER_RECEIPT                                                             71\n",
       "COMPLETE_PARTNER_RECEIPT                                                                39\n",
       "Receipt number 3 completed, bonus point schedule DEFAULT (5cefdcacf3693e0b50e83a36)     31\n",
       "Receipt number 2 completed, bonus point schedule DEFAULT (5cefdcacf3693e0b50e83a36)     30\n",
       "Receipt number 5 completed, bonus point schedule DEFAULT (5cefdcacf3693e0b50e83a36)     27\n",
       "Receipt number 4 completed, bonus point schedule DEFAULT (5cefdcacf3693e0b50e83a36)     26\n",
       "Receipt number 6 completed, bonus point schedule DEFAULT (5cefdcacf3693e0b50e83a36)     18\n",
       "Name: bonusPointsEarnedReason, dtype: int64"
      ]
     },
     "execution_count": 79,
     "metadata": {},
     "output_type": "execute_result"
    }
   ],
   "source": [
    "#seems to almost take on a bimodal distribution... what are the reasons for earning bonus points?\n",
    "receipts.bonusPointsEarnedReason.value_counts()"
   ]
  },
  {
   "cell_type": "markdown",
   "id": "3aec1455-6f4a-4c9d-bc3f-14778151d0c1",
   "metadata": {},
   "source": [
    " - The bonus points seem to take on a bimodal distribution, but the reasons for this are not clear as the reasons for earning bonus points aare not very explanatory."
   ]
  },
  {
   "cell_type": "code",
   "execution_count": 51,
   "id": "df4e93cf-0640-4f16-a3f8-ffd76aa29936",
   "metadata": {
    "execution": {
     "iopub.execute_input": "2024-03-10T17:46:57.680997Z",
     "iopub.status.busy": "2024-03-10T17:46:57.680012Z",
     "iopub.status.idle": "2024-03-10T17:46:57.749579Z",
     "shell.execute_reply": "2024-03-10T17:46:57.748652Z",
     "shell.execute_reply.started": "2024-03-10T17:46:57.680953Z"
    }
   },
   "outputs": [
    {
     "name": "stdout",
     "output_type": "stream",
     "text": [
      "<class 'pandas.core.frame.DataFrame'>\n",
      "RangeIndex: 6941 entries, 0 to 6940\n",
      "Data columns (total 35 columns):\n",
      " #   Column                              Non-Null Count  Dtype  \n",
      "---  ------                              --------------  -----  \n",
      " 0   description                         6560 non-null   object \n",
      " 1   rewardsGroup                        1731 non-null   object \n",
      " 2   userFlaggedQuantity                 299 non-null    float64\n",
      " 3   quantityPurchased                   6767 non-null   float64\n",
      " 4   originalReceiptItemText             5760 non-null   object \n",
      " 5   receipt_id                          6941 non-null   object \n",
      " 6   partnerItemId                       6941 non-null   object \n",
      " 7   pointsEarned                        927 non-null    float64\n",
      " 8   metabriteCampaignId                 863 non-null    object \n",
      " 9   originalMetaBriteBarcode            71 non-null     object \n",
      " 10  originalMetaBriteDescription        10 non-null     object \n",
      " 11  needsFetchReview                    813 non-null    object \n",
      " 12  deleted                             9 non-null      object \n",
      " 13  userFlaggedPrice                    299 non-null    float64\n",
      " 14  pointsPayerId                       1267 non-null   object \n",
      " 15  preventTargetGapPoints              358 non-null    object \n",
      " 16  rewardsProductPartnerId             2269 non-null   object \n",
      " 17  priceAfterCoupon                    956 non-null    float64\n",
      " 18  discountedItemPrice                 5769 non-null   float64\n",
      " 19  brandCode                           2600 non-null   object \n",
      " 20  targetPrice                         378 non-null    float64\n",
      " 21  originalFinalPrice                  9 non-null      float64\n",
      " 22  itemNumber                          153 non-null    object \n",
      " 23  competitiveProduct                  645 non-null    object \n",
      " 24  pointsNotAwardedReason              340 non-null    object \n",
      " 25  finalPrice                          6767 non-null   float64\n",
      " 26  barcode                             3090 non-null   object \n",
      " 27  userFlaggedNewItem                  323 non-null    object \n",
      " 28  competitorRewardsGroup              275 non-null    object \n",
      " 29  userFlaggedBarcode                  337 non-null    object \n",
      " 30  needsFetchReviewReason              219 non-null    object \n",
      " 31  originalMetaBriteQuantityPurchased  15 non-null     float64\n",
      " 32  originalMetaBriteItemPrice          9 non-null      float64\n",
      " 33  userFlaggedDescription              205 non-null    object \n",
      " 34  itemPrice                           6767 non-null   float64\n",
      "dtypes: float64(12), object(23)\n",
      "memory usage: 1.9+ MB\n"
     ]
    }
   ],
   "source": [
    "#now looking at the reciepts_items table\n",
    "receipts_items.info()"
   ]
  },
  {
   "cell_type": "markdown",
   "id": "6f2dd53c-2776-4314-9c48-29938abf61d5",
   "metadata": {},
   "source": [
    "A large data quality issue lies here in the reciepts_items table and the fact that there is no primary key. Therefore there is a high level of data redundancy in this table alone. If each item in the store/catalog had some kind of unique identifier, this data could be normalized such that each item and its relevant fields could be stored in a separate table, with a relationship to other receipt-related fields using the barcode or receipt_id foreign keys.\n",
    "\n",
    "   - This table includes both information related to receipts and individual items which leads to confusion regarding the content of the table, redundancy in entries, and poor accessibility/readability."
   ]
  },
  {
   "cell_type": "code",
   "execution_count": 80,
   "id": "9063e078-5e12-41e8-b628-ecde9383a692",
   "metadata": {
    "execution": {
     "iopub.execute_input": "2024-03-10T18:18:23.475873Z",
     "iopub.status.busy": "2024-03-10T18:18:23.474870Z",
     "iopub.status.idle": "2024-03-10T18:18:23.482567Z",
     "shell.execute_reply": "2024-03-10T18:18:23.481980Z",
     "shell.execute_reply.started": "2024-03-10T18:18:23.475837Z"
    }
   },
   "outputs": [
    {
     "data": {
      "text/plain": [
       "Action not allowed for user and CPG    340\n",
       "Name: pointsNotAwardedReason, dtype: int64"
      ]
     },
     "execution_count": 80,
     "metadata": {},
     "output_type": "execute_result"
    }
   ],
   "source": [
    "#what are some possible reasons points may not be awarded to customers?\n",
    "receipts_items.pointsNotAwardedReason.value_counts()"
   ]
  },
  {
   "cell_type": "markdown",
   "id": "9861fc29-20e8-4783-af96-ba40dedab11e",
   "metadata": {},
   "source": [
    "- Hmm, there is only one reason and who might this be applied to?"
   ]
  },
  {
   "cell_type": "code",
   "execution_count": 53,
   "id": "fe9f173b-5fbc-43c0-82d9-cfe3e6287612",
   "metadata": {
    "execution": {
     "iopub.execute_input": "2024-03-10T17:51:42.648889Z",
     "iopub.status.busy": "2024-03-10T17:51:42.648391Z",
     "iopub.status.idle": "2024-03-10T17:51:42.668063Z",
     "shell.execute_reply": "2024-03-10T17:51:42.667363Z",
     "shell.execute_reply.started": "2024-03-10T17:51:42.648859Z"
    },
    "tags": []
   },
   "outputs": [
    {
     "name": "stdout",
     "output_type": "stream",
     "text": [
      "<class 'pandas.core.frame.DataFrame'>\n",
      "RangeIndex: 212 entries, 0 to 211\n",
      "Data columns (total 7 columns):\n",
      " #   Column        Non-Null Count  Dtype         \n",
      "---  ------        --------------  -----         \n",
      " 0   user_id       212 non-null    object        \n",
      " 1   active        212 non-null    bool          \n",
      " 2   createdDate   212 non-null    datetime64[ns]\n",
      " 3   lastLogin     172 non-null    datetime64[ns]\n",
      " 4   role          212 non-null    object        \n",
      " 5   signUpSource  207 non-null    object        \n",
      " 6   state         206 non-null    object        \n",
      "dtypes: bool(1), datetime64[ns](2), object(4)\n",
      "memory usage: 10.3+ KB\n"
     ]
    }
   ],
   "source": [
    "#let's look at the users table\n",
    "users.info()"
   ]
  },
  {
   "cell_type": "code",
   "execution_count": 89,
   "id": "e456cd1a-4d38-45db-9b83-73f9b0bb7a2a",
   "metadata": {
    "execution": {
     "iopub.execute_input": "2024-03-10T18:27:59.825935Z",
     "iopub.status.busy": "2024-03-10T18:27:59.824952Z",
     "iopub.status.idle": "2024-03-10T18:27:59.840397Z",
     "shell.execute_reply": "2024-03-10T18:27:59.839507Z",
     "shell.execute_reply.started": "2024-03-10T18:27:59.825901Z"
    },
    "tags": []
   },
   "outputs": [
    {
     "data": {
      "text/html": [
       "<div>\n",
       "<style scoped>\n",
       "    .dataframe tbody tr th:only-of-type {\n",
       "        vertical-align: middle;\n",
       "    }\n",
       "\n",
       "    .dataframe tbody tr th {\n",
       "        vertical-align: top;\n",
       "    }\n",
       "\n",
       "    .dataframe thead th {\n",
       "        text-align: right;\n",
       "    }\n",
       "</style>\n",
       "<table border=\"1\" class=\"dataframe\">\n",
       "  <thead>\n",
       "    <tr style=\"text-align: right;\">\n",
       "      <th></th>\n",
       "      <th>yymm</th>\n",
       "      <th>active</th>\n",
       "    </tr>\n",
       "  </thead>\n",
       "  <tbody>\n",
       "    <tr>\n",
       "      <th>0</th>\n",
       "      <td>2014-12</td>\n",
       "      <td>1</td>\n",
       "    </tr>\n",
       "    <tr>\n",
       "      <th>1</th>\n",
       "      <td>2015-04</td>\n",
       "      <td>1</td>\n",
       "    </tr>\n",
       "    <tr>\n",
       "      <th>2</th>\n",
       "      <td>2017-07</td>\n",
       "      <td>1</td>\n",
       "    </tr>\n",
       "    <tr>\n",
       "      <th>3</th>\n",
       "      <td>2017-09</td>\n",
       "      <td>1</td>\n",
       "    </tr>\n",
       "    <tr>\n",
       "      <th>4</th>\n",
       "      <td>2017-12</td>\n",
       "      <td>1</td>\n",
       "    </tr>\n",
       "    <tr>\n",
       "      <th>5</th>\n",
       "      <td>2020-01</td>\n",
       "      <td>1</td>\n",
       "    </tr>\n",
       "    <tr>\n",
       "      <th>6</th>\n",
       "      <td>2020-07</td>\n",
       "      <td>1</td>\n",
       "    </tr>\n",
       "    <tr>\n",
       "      <th>7</th>\n",
       "      <td>2020-11</td>\n",
       "      <td>4</td>\n",
       "    </tr>\n",
       "    <tr>\n",
       "      <th>8</th>\n",
       "      <td>2020-12</td>\n",
       "      <td>1</td>\n",
       "    </tr>\n",
       "    <tr>\n",
       "      <th>9</th>\n",
       "      <td>2021-01</td>\n",
       "      <td>169</td>\n",
       "    </tr>\n",
       "    <tr>\n",
       "      <th>10</th>\n",
       "      <td>2021-02</td>\n",
       "      <td>30</td>\n",
       "    </tr>\n",
       "  </tbody>\n",
       "</table>\n",
       "</div>"
      ],
      "text/plain": [
       "       yymm  active\n",
       "0   2014-12       1\n",
       "1   2015-04       1\n",
       "2   2017-07       1\n",
       "3   2017-09       1\n",
       "4   2017-12       1\n",
       "5   2020-01       1\n",
       "6   2020-07       1\n",
       "7   2020-11       4\n",
       "8   2020-12       1\n",
       "9   2021-01     169\n",
       "10  2021-02      30"
      ]
     },
     "execution_count": 89,
     "metadata": {},
     "output_type": "execute_result"
    }
   ],
   "source": [
    "#what is the distribution of created dates?\n",
    "#first, group into YYYY-MM format and then count the users in each group\n",
    "users['yymm'] = users['createdDate'].dt.strftime('%Y-%m')\n",
    "users_grouped = users.groupby('yymm').sum().reset_index()\n",
    "users_grouped"
   ]
  },
  {
   "cell_type": "markdown",
   "id": "2f0b769a-4979-41f1-8ca3-dd137b73a544",
   "metadata": {
    "execution": {
     "iopub.execute_input": "2024-03-10T17:56:11.506828Z",
     "iopub.status.busy": "2024-03-10T17:56:11.506341Z",
     "iopub.status.idle": "2024-03-10T17:56:11.517210Z",
     "shell.execute_reply": "2024-03-10T17:56:11.516515Z",
     "shell.execute_reply.started": "2024-03-10T17:56:11.506800Z"
    },
    "tags": []
   },
   "source": [
    "Overall, the users table does not seem to have an unreasonable amount of data missing, is very easy to interpret, and is normalized with user_id as the primary key. This table has relatively good data quality.\n",
    "\n",
    "Something to note, however, is a huge spike in the number of users with accounts created in January of 2021 (169), followed by February of 2021 (30) with all the rest of the months only 1 or 4 total users. Either there was an issue with how the accounts were created/tracked up until 2021 or they really just gained in popularity starting in 2021."
   ]
  },
  {
   "cell_type": "code",
   "execution_count": 56,
   "id": "ad709eca-71aa-4bca-bce0-57954f9f3981",
   "metadata": {
    "execution": {
     "iopub.execute_input": "2024-03-10T17:57:37.125113Z",
     "iopub.status.busy": "2024-03-10T17:57:37.123999Z",
     "iopub.status.idle": "2024-03-10T17:57:37.143262Z",
     "shell.execute_reply": "2024-03-10T17:57:37.142509Z",
     "shell.execute_reply.started": "2024-03-10T17:57:37.125077Z"
    }
   },
   "outputs": [
    {
     "name": "stdout",
     "output_type": "stream",
     "text": [
      "<class 'pandas.core.frame.DataFrame'>\n",
      "RangeIndex: 1167 entries, 0 to 1166\n",
      "Data columns (total 8 columns):\n",
      " #   Column        Non-Null Count  Dtype  \n",
      "---  ------        --------------  -----  \n",
      " 0   brand_id      1167 non-null   object \n",
      " 1   barcode       1167 non-null   int64  \n",
      " 2   category      1012 non-null   object \n",
      " 3   categoryCode  517 non-null    object \n",
      " 4   name          1167 non-null   object \n",
      " 5   topBrand      555 non-null    float64\n",
      " 6   brandCode     933 non-null    object \n",
      " 7   cpg_id        1167 non-null   object \n",
      "dtypes: float64(1), int64(1), object(6)\n",
      "memory usage: 73.1+ KB\n"
     ]
    }
   ],
   "source": [
    "#let's look at the brands table\n",
    "brands.info()"
   ]
  },
  {
   "cell_type": "code",
   "execution_count": 57,
   "id": "b4d0665b-530f-4fd3-a5fa-4d06658b0217",
   "metadata": {
    "execution": {
     "iopub.execute_input": "2024-03-10T17:58:23.818769Z",
     "iopub.status.busy": "2024-03-10T17:58:23.817610Z",
     "iopub.status.idle": "2024-03-10T17:58:23.836667Z",
     "shell.execute_reply": "2024-03-10T17:58:23.835924Z",
     "shell.execute_reply.started": "2024-03-10T17:58:23.818734Z"
    }
   },
   "outputs": [
    {
     "data": {
      "text/html": [
       "<div>\n",
       "<style scoped>\n",
       "    .dataframe tbody tr th:only-of-type {\n",
       "        vertical-align: middle;\n",
       "    }\n",
       "\n",
       "    .dataframe tbody tr th {\n",
       "        vertical-align: top;\n",
       "    }\n",
       "\n",
       "    .dataframe thead th {\n",
       "        text-align: right;\n",
       "    }\n",
       "</style>\n",
       "<table border=\"1\" class=\"dataframe\">\n",
       "  <thead>\n",
       "    <tr style=\"text-align: right;\">\n",
       "      <th></th>\n",
       "      <th>brand_id</th>\n",
       "      <th>barcode</th>\n",
       "      <th>category</th>\n",
       "      <th>categoryCode</th>\n",
       "      <th>name</th>\n",
       "      <th>topBrand</th>\n",
       "      <th>brandCode</th>\n",
       "      <th>cpg_id</th>\n",
       "    </tr>\n",
       "  </thead>\n",
       "  <tbody>\n",
       "    <tr>\n",
       "      <th>11</th>\n",
       "      <td>57c08106e4b0718ff5fcb02c</td>\n",
       "      <td>511111102540</td>\n",
       "      <td>NaN</td>\n",
       "      <td>NaN</td>\n",
       "      <td>MorningStar</td>\n",
       "      <td>NaN</td>\n",
       "      <td>NaN</td>\n",
       "      <td>5332f5f2e4b03c9a25efd0aa</td>\n",
       "    </tr>\n",
       "    <tr>\n",
       "      <th>23</th>\n",
       "      <td>5332f5fee4b03c9a25efd0bd</td>\n",
       "      <td>511111303947</td>\n",
       "      <td>NaN</td>\n",
       "      <td>NaN</td>\n",
       "      <td>Bottled Starbucks</td>\n",
       "      <td>NaN</td>\n",
       "      <td>NaN</td>\n",
       "      <td>53e10d6368abd3c7065097cc</td>\n",
       "    </tr>\n",
       "    <tr>\n",
       "      <th>24</th>\n",
       "      <td>5332fa7ce4b03c9a25efd22e</td>\n",
       "      <td>511111802914</td>\n",
       "      <td>NaN</td>\n",
       "      <td>NaN</td>\n",
       "      <td>Full Throttle</td>\n",
       "      <td>NaN</td>\n",
       "      <td>NaN</td>\n",
       "      <td>5332f5ebe4b03c9a25efd0a8</td>\n",
       "    </tr>\n",
       "    <tr>\n",
       "      <th>34</th>\n",
       "      <td>5332f772e4b03c9a25efd125</td>\n",
       "      <td>511111103653</td>\n",
       "      <td>NaN</td>\n",
       "      <td>NaN</td>\n",
       "      <td>Gold Medal</td>\n",
       "      <td>NaN</td>\n",
       "      <td>NaN</td>\n",
       "      <td>5332f5f3e4b03c9a25efd0ae</td>\n",
       "    </tr>\n",
       "    <tr>\n",
       "      <th>43</th>\n",
       "      <td>5332f765e4b03c9a25efd11f</td>\n",
       "      <td>511111503699</td>\n",
       "      <td>NaN</td>\n",
       "      <td>NaN</td>\n",
       "      <td>Glaceau vitaminwater</td>\n",
       "      <td>NaN</td>\n",
       "      <td>NaN</td>\n",
       "      <td>5332f5ebe4b03c9a25efd0a8</td>\n",
       "    </tr>\n",
       "    <tr>\n",
       "      <th>...</th>\n",
       "      <td>...</td>\n",
       "      <td>...</td>\n",
       "      <td>...</td>\n",
       "      <td>...</td>\n",
       "      <td>...</td>\n",
       "      <td>...</td>\n",
       "      <td>...</td>\n",
       "      <td>...</td>\n",
       "    </tr>\n",
       "    <tr>\n",
       "      <th>1123</th>\n",
       "      <td>5332f7a8e4b03c9a25efd135</td>\n",
       "      <td>511111403562</td>\n",
       "      <td>NaN</td>\n",
       "      <td>NaN</td>\n",
       "      <td>Bud Light</td>\n",
       "      <td>NaN</td>\n",
       "      <td>NaN</td>\n",
       "      <td>5332f7a7e4b03c9a25efd134</td>\n",
       "    </tr>\n",
       "    <tr>\n",
       "      <th>1135</th>\n",
       "      <td>5d658fca6d5f3b23d1bc7912</td>\n",
       "      <td>511111405184</td>\n",
       "      <td>NaN</td>\n",
       "      <td>NaN</td>\n",
       "      <td>Do It Yourself</td>\n",
       "      <td>NaN</td>\n",
       "      <td>NaN</td>\n",
       "      <td>53e10d6368abd3c7065097cc</td>\n",
       "    </tr>\n",
       "    <tr>\n",
       "      <th>1144</th>\n",
       "      <td>57c08242e4b0718ff5fcb032</td>\n",
       "      <td>511111202516</td>\n",
       "      <td>NaN</td>\n",
       "      <td>NaN</td>\n",
       "      <td>Corona</td>\n",
       "      <td>NaN</td>\n",
       "      <td>NaN</td>\n",
       "      <td>5332f7a7e4b03c9a25efd134</td>\n",
       "    </tr>\n",
       "    <tr>\n",
       "      <th>1146</th>\n",
       "      <td>5332fa12e4b03c9a25efd1e6</td>\n",
       "      <td>511111703105</td>\n",
       "      <td>NaN</td>\n",
       "      <td>NaN</td>\n",
       "      <td>Bellatoria</td>\n",
       "      <td>NaN</td>\n",
       "      <td>NaN</td>\n",
       "      <td>5332fa12e4b03c9a25efd1e7</td>\n",
       "    </tr>\n",
       "    <tr>\n",
       "      <th>1157</th>\n",
       "      <td>5332fa75e4b03c9a25efd221</td>\n",
       "      <td>511111303015</td>\n",
       "      <td>NaN</td>\n",
       "      <td>NaN</td>\n",
       "      <td>DASANI</td>\n",
       "      <td>NaN</td>\n",
       "      <td>NaN</td>\n",
       "      <td>5332f5ebe4b03c9a25efd0a8</td>\n",
       "    </tr>\n",
       "  </tbody>\n",
       "</table>\n",
       "<p>155 rows × 8 columns</p>\n",
       "</div>"
      ],
      "text/plain": [
       "                      brand_id       barcode category categoryCode  \\\n",
       "11    57c08106e4b0718ff5fcb02c  511111102540      NaN          NaN   \n",
       "23    5332f5fee4b03c9a25efd0bd  511111303947      NaN          NaN   \n",
       "24    5332fa7ce4b03c9a25efd22e  511111802914      NaN          NaN   \n",
       "34    5332f772e4b03c9a25efd125  511111103653      NaN          NaN   \n",
       "43    5332f765e4b03c9a25efd11f  511111503699      NaN          NaN   \n",
       "...                        ...           ...      ...          ...   \n",
       "1123  5332f7a8e4b03c9a25efd135  511111403562      NaN          NaN   \n",
       "1135  5d658fca6d5f3b23d1bc7912  511111405184      NaN          NaN   \n",
       "1144  57c08242e4b0718ff5fcb032  511111202516      NaN          NaN   \n",
       "1146  5332fa12e4b03c9a25efd1e6  511111703105      NaN          NaN   \n",
       "1157  5332fa75e4b03c9a25efd221  511111303015      NaN          NaN   \n",
       "\n",
       "                      name  topBrand brandCode                    cpg_id  \n",
       "11             MorningStar       NaN       NaN  5332f5f2e4b03c9a25efd0aa  \n",
       "23       Bottled Starbucks       NaN       NaN  53e10d6368abd3c7065097cc  \n",
       "24           Full Throttle       NaN       NaN  5332f5ebe4b03c9a25efd0a8  \n",
       "34              Gold Medal       NaN       NaN  5332f5f3e4b03c9a25efd0ae  \n",
       "43    Glaceau vitaminwater       NaN       NaN  5332f5ebe4b03c9a25efd0a8  \n",
       "...                    ...       ...       ...                       ...  \n",
       "1123             Bud Light       NaN       NaN  5332f7a7e4b03c9a25efd134  \n",
       "1135        Do It Yourself       NaN       NaN  53e10d6368abd3c7065097cc  \n",
       "1144                Corona       NaN       NaN  5332f7a7e4b03c9a25efd134  \n",
       "1146            Bellatoria       NaN       NaN  5332fa12e4b03c9a25efd1e7  \n",
       "1157                DASANI       NaN       NaN  5332f5ebe4b03c9a25efd0a8  \n",
       "\n",
       "[155 rows x 8 columns]"
      ]
     },
     "execution_count": 57,
     "metadata": {},
     "output_type": "execute_result"
    }
   ],
   "source": [
    "#what are the cases where the category field is null?\n",
    "brands.loc[brands.category.isnull()]\n"
   ]
  },
  {
   "cell_type": "code",
   "execution_count": 59,
   "id": "dd0bbf67-b41b-44e9-ad15-3dc9ad40b07a",
   "metadata": {
    "execution": {
     "iopub.execute_input": "2024-03-10T18:00:16.137054Z",
     "iopub.status.busy": "2024-03-10T18:00:16.136254Z",
     "iopub.status.idle": "2024-03-10T18:00:16.150322Z",
     "shell.execute_reply": "2024-03-10T18:00:16.149631Z",
     "shell.execute_reply.started": "2024-03-10T18:00:16.137025Z"
    },
    "tags": []
   },
   "outputs": [
    {
     "name": "stdout",
     "output_type": "stream",
     "text": [
      "<class 'pandas.core.frame.DataFrame'>\n",
      "Int64Index: 1012 entries, 0 to 1166\n",
      "Data columns (total 8 columns):\n",
      " #   Column        Non-Null Count  Dtype  \n",
      "---  ------        --------------  -----  \n",
      " 0   brand_id      1012 non-null   object \n",
      " 1   barcode       1012 non-null   int64  \n",
      " 2   category      1012 non-null   object \n",
      " 3   categoryCode  517 non-null    object \n",
      " 4   name          1012 non-null   object \n",
      " 5   topBrand      553 non-null    float64\n",
      " 6   brandCode     929 non-null    object \n",
      " 7   cpg_id        1012 non-null   object \n",
      "dtypes: float64(1), int64(1), object(6)\n",
      "memory usage: 71.2+ KB\n"
     ]
    }
   ],
   "source": [
    "#from a first-look, these entries seem to be beverages, with the categoryCode, topBrand, and brandCode fields also null\n",
    "# where does that leave the other records?\n",
    "brands.loc[~brands.category.isnull()].info()"
   ]
  },
  {
   "cell_type": "code",
   "execution_count": 91,
   "id": "03341593-6e53-4b18-8318-7b8088c17eab",
   "metadata": {
    "execution": {
     "iopub.execute_input": "2024-03-10T18:31:11.446817Z",
     "iopub.status.busy": "2024-03-10T18:31:11.445954Z",
     "iopub.status.idle": "2024-03-10T18:31:11.454046Z",
     "shell.execute_reply": "2024-03-10T18:31:11.453137Z",
     "shell.execute_reply.started": "2024-03-10T18:31:11.446787Z"
    },
    "tags": []
   },
   "outputs": [
    {
     "data": {
      "text/plain": [
       "BAKING                           359\n",
       "CANDY_AND_SWEETS                  71\n",
       "BEER_WINE_SPIRITS                 31\n",
       "HEALTHY_AND_WELLNESS              14\n",
       "GROCERY                           11\n",
       "BABY                               7\n",
       "CLEANING_AND_HOME_IMPROVEMENT      6\n",
       "BREAD_AND_BAKERY                   5\n",
       "DAIRY_AND_REFRIGERATED             5\n",
       "PERSONAL_CARE                      4\n",
       "BEVERAGES                          1\n",
       "OUTDOOR                            1\n",
       "MAGAZINES                          1\n",
       "FROZEN                             1\n",
       "Name: categoryCode, dtype: int64"
      ]
     },
     "execution_count": 91,
     "metadata": {},
     "output_type": "execute_result"
    }
   ],
   "source": [
    "brands.categoryCode.value_counts()"
   ]
  },
  {
   "cell_type": "code",
   "execution_count": 92,
   "id": "da34d886-600a-4c08-bae8-a62a7ca011c5",
   "metadata": {
    "execution": {
     "iopub.execute_input": "2024-03-10T18:31:50.926387Z",
     "iopub.status.busy": "2024-03-10T18:31:50.925535Z",
     "iopub.status.idle": "2024-03-10T18:31:50.934011Z",
     "shell.execute_reply": "2024-03-10T18:31:50.933123Z",
     "shell.execute_reply.started": "2024-03-10T18:31:50.926353Z"
    }
   },
   "outputs": [
    {
     "data": {
      "text/plain": [
       "0.0    524\n",
       "1.0     31\n",
       "Name: topBrand, dtype: int64"
      ]
     },
     "execution_count": 92,
     "metadata": {},
     "output_type": "execute_result"
    }
   ],
   "source": [
    "brands.topBrand.value_counts()"
   ]
  },
  {
   "cell_type": "code",
   "execution_count": 93,
   "id": "86b9412e-01e5-4a73-8e1d-cd6b787e7055",
   "metadata": {
    "execution": {
     "iopub.execute_input": "2024-03-10T18:32:16.998021Z",
     "iopub.status.busy": "2024-03-10T18:32:16.997242Z",
     "iopub.status.idle": "2024-03-10T18:32:17.006345Z",
     "shell.execute_reply": "2024-03-10T18:32:17.005731Z",
     "shell.execute_reply.started": "2024-03-10T18:32:16.997991Z"
    }
   },
   "outputs": [
    {
     "data": {
      "text/plain": [
       "                                         35\n",
       "HUGGIES                                   2\n",
       "GOODNITES                                 2\n",
       "MALIBU® STRAWBERRY                        1\n",
       "TEST BRANDCODE @1597527951412             1\n",
       "                                         ..\n",
       "TEST BRANDCODE @1597350074404             1\n",
       "SEDAL                                     1\n",
       "RED ROCK DELI                             1\n",
       "ALKA SELTZER PLUS SINUS CAP/ GEL/ TAB     1\n",
       "TEST BRANDCODE @1607636369405             1\n",
       "Name: brandCode, Length: 897, dtype: int64"
      ]
     },
     "execution_count": 93,
     "metadata": {},
     "output_type": "execute_result"
    }
   ],
   "source": [
    "brands.brandCode.value_counts()"
   ]
  },
  {
   "cell_type": "markdown",
   "id": "ae5e37bd-a1d6-4a1e-8747-dd4fcf45b0bb",
   "metadata": {},
   "source": [
    " - the entries where category is non-null still leave quite a few null entries in the other fields such as topBrand, brandCode and categoryCode. These are not-very extensive fields, lead to alot of ambiguity in the category information for each item."
   ]
  },
  {
   "cell_type": "code",
   "execution_count": 60,
   "id": "499292fa-31d8-4660-a7a7-be98cf18f1eb",
   "metadata": {
    "execution": {
     "iopub.execute_input": "2024-03-10T18:04:03.056645Z",
     "iopub.status.busy": "2024-03-10T18:04:03.055479Z",
     "iopub.status.idle": "2024-03-10T18:04:03.070813Z",
     "shell.execute_reply": "2024-03-10T18:04:03.070186Z",
     "shell.execute_reply.started": "2024-03-10T18:04:03.056584Z"
    }
   },
   "outputs": [
    {
     "name": "stdout",
     "output_type": "stream",
     "text": [
      "<class 'pandas.core.frame.DataFrame'>\n",
      "RangeIndex: 1167 entries, 0 to 1166\n",
      "Data columns (total 3 columns):\n",
      " #   Column    Non-Null Count  Dtype \n",
      "---  ------    --------------  ----- \n",
      " 0   cpg_id    1167 non-null   object\n",
      " 1   ref       1167 non-null   object\n",
      " 2   brand_id  1167 non-null   object\n",
      "dtypes: object(3)\n",
      "memory usage: 27.5+ KB\n"
     ]
    }
   ],
   "source": [
    "#let's look at the cpg field\n",
    "cpg.info()"
   ]
  },
  {
   "cell_type": "code",
   "execution_count": 64,
   "id": "755ca58e-6857-4516-8282-31f01764856e",
   "metadata": {
    "execution": {
     "iopub.execute_input": "2024-03-10T18:04:45.327410Z",
     "iopub.status.busy": "2024-03-10T18:04:45.326807Z",
     "iopub.status.idle": "2024-03-10T18:04:45.336078Z",
     "shell.execute_reply": "2024-03-10T18:04:45.335243Z",
     "shell.execute_reply.started": "2024-03-10T18:04:45.327378Z"
    },
    "tags": []
   },
   "outputs": [
    {
     "data": {
      "text/plain": [
       "Cogs    1020\n",
       "Cpgs     147\n",
       "Name: ref, dtype: int64"
      ]
     },
     "execution_count": 64,
     "metadata": {},
     "output_type": "execute_result"
    }
   ],
   "source": [
    "cpg.ref.value_counts()"
   ]
  },
  {
   "cell_type": "code",
   "execution_count": 65,
   "id": "45013134-d153-48bf-a722-e9d6aa8f4341",
   "metadata": {
    "execution": {
     "iopub.execute_input": "2024-03-10T18:04:54.820438Z",
     "iopub.status.busy": "2024-03-10T18:04:54.819402Z",
     "iopub.status.idle": "2024-03-10T18:04:54.834425Z",
     "shell.execute_reply": "2024-03-10T18:04:54.833586Z",
     "shell.execute_reply.started": "2024-03-10T18:04:54.820389Z"
    }
   },
   "outputs": [
    {
     "data": {
      "text/plain": [
       "6026d757be37ce6369301468    1\n",
       "601ac115be37ce2ead437551    1\n",
       "601c5460be37ce2ead43755f    1\n",
       "601ac142be37ce2ead43755d    1\n",
       "601ac142be37ce2ead43755a    1\n",
       "                           ..\n",
       "5fb28549be37ce522e165cb5    1\n",
       "592486bfe410d61fcea3d139    1\n",
       "5c4699f387ff3577e203ea29    1\n",
       "5da6071ea60b87376833e34d    1\n",
       "57ebc011e4b0ac389136a335    1\n",
       "Name: brand_id, Length: 1167, dtype: int64"
      ]
     },
     "execution_count": 65,
     "metadata": {},
     "output_type": "execute_result"
    }
   ],
   "source": [
    "cpg.brand_id.value_counts()"
   ]
  },
  {
   "cell_type": "markdown",
   "id": "5b7bf476-913a-485f-8855-1aba63c112ee",
   "metadata": {},
   "source": [
    " - This table has no missing data, which is great. I wonder, however, what is the difference between the factors 'Cogs' and 'Cpgs'? If the 'p' in 'Cpgs' is just a typo, then both factors are the same and the only useful information in this table would be the brand_id."
   ]
  },
  {
   "cell_type": "markdown",
   "id": "6d535af7-d482-405b-8611-258ee6ebd97f",
   "metadata": {},
   "source": [
    "## 4) Communicate With Stakeholders"
   ]
  },
  {
   "cell_type": "markdown",
   "id": "d1066b40-81f2-4706-823c-e5a1a161d8f3",
   "metadata": {},
   "source": [
    "Hello, \n",
    "\n",
    "My name is Sofia and I have taken a look into the receipts, brands, and users data files you have provided. Some questions I had about the data include the following:\n",
    "- What is the interpretation of the finishedDate? What about a transaction would trigger this date to not be recorded for a given receipt?\n",
    "- What are the possible reasons for earning bonus points? The reasons given in the dataset were difficult to extract meaning from, clarifying them would help to explain an interesting behaviour I noticed in how bonus points are awarded.\n",
    "- Was there a change to the process of signing up customers to the rewards program beginning in January 2021? Was there a change to the rewards program at all that began at this time?\n",
    "- What exactly is the difference between the entries 'Cogs' and 'Cpgs' in the nested field 'cpg' in the brands dataset? \n",
    "\n",
    "Overall, the data was interpretable, but could benefit from some organization or cleaning pre-processing that will help with overall readability. \n",
    "\n",
    "The largest data quality issue was a large proportion of missing data in each of the three datasets provided.  In order to resolve this, I would need to know what would trigger a field in any of the datasets to be missing/not-recorded. This information would allow me to either disregard the entries with null values or decide on how to fill them in most appropriately.\n",
    "\n",
    "The nested field 'rewardReceiptItemList' in the receipts dataset also gave rise to a large data quality issue. This field has not only a large amount of missing data, but also a high level of redundancy. This field lacks a unique identifier or clear relationship to the rest of the information in any of the tables, which hinders potential usability/interpretability. To resolve this, I would request some context for the kinds of 'items' stored in this dataset and the processes that trigger their storage there. Feature definitions would be most helpful.\n",
    "\n",
    "To identify data quality issues I inspected each of the datasets and tried to break them up into smaller sub-datasets for further investigation. I began by examining the kind of data stored in each sub-set, as well as how much of that data was missing. If any categorical features stood out to me, I would investigate the values these features took on and their respective counnts. I also investigated dustributions of what seemed to me to be key numerical features, such as the bonus points awarded in a transaction, the regular points awarded in a given transaction, and the distibution of dates customers joined the rewards programs.\n",
    "\n",
    "To opitmize the creation of these datasets, a thorough understanding of the rewards program and the pipeline which is responsible for generating/collecting these records would be most useful. With this information, I might be able to better separate the data into groups which are easier to interpret and locate information. It would also allow me to identify potentially un-helpful featurse alongside features which are most important.\n",
    "\n",
    "The largest concern I have currently is the issue of redundancy that the nested fields in the receipts table present. As the company continues to scale and collect more data, any issues present will multiply with scaling and become increasingly difficult to remedy. I reccommend an immediate re-construction of the data warehousing scheme according to my proposed model.\n",
    "\n",
    "Thank you very much."
   ]
  },
  {
   "cell_type": "code",
   "execution_count": null,
   "id": "8094dc47-b534-4fd2-bd61-71210f0d4bb0",
   "metadata": {},
   "outputs": [],
   "source": []
  }
 ],
 "metadata": {
  "kernelspec": {
   "display_name": "Python 3 (ipykernel)",
   "language": "python",
   "name": "python3"
  },
  "language_info": {
   "codemirror_mode": {
    "name": "ipython",
    "version": 3
   },
   "file_extension": ".py",
   "mimetype": "text/x-python",
   "name": "python",
   "nbconvert_exporter": "python",
   "pygments_lexer": "ipython3",
   "version": "3.9.13"
  }
 },
 "nbformat": 4,
 "nbformat_minor": 5
}
